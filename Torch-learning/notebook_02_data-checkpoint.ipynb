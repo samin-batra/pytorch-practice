{
  "cells": [
    {
      "cell_type": "markdown",
      "id": "e7eed680",
      "metadata": {
        "id": "e7eed680"
      },
      "source": [
        "### Data can be about\n",
        "!) Text\n",
        "2) Audio\n",
        "3) Video\n",
        "4) Images\n",
        "5) DNA\n",
        "6) Excel\n",
        "\n",
        "\n",
        "1) Get data into a numerical representation\n",
        "2) Build a machine learning model\n",
        "\n",
        "We'll use a linear regression formula to make a straight line with known parameters"
      ]
    },
    {
      "cell_type": "code",
      "execution_count": null,
      "id": "6818d50b",
      "metadata": {
        "id": "6818d50b",
        "outputId": "8d74cd79-0d57-426d-c72b-dc316c839a5d"
      },
      "outputs": [
        {
          "name": "stdout",
          "output_type": "stream",
          "text": [
            "Collecting matplotlib\n",
            "  Downloading matplotlib-3.7.1-cp38-cp38-macosx_10_12_x86_64.whl (7.4 MB)\n",
            "\u001b[2K     \u001b[90m━━━━━━━━━━━━━━━━━━━━━━━━━━━━━━━━━━━━━━━━\u001b[0m \u001b[32m7.4/7.4 MB\u001b[0m \u001b[31m9.7 MB/s\u001b[0m eta \u001b[36m0:00:00\u001b[0m:00:01\u001b[0m00:01\u001b[0m\n",
            "\u001b[?25hCollecting kiwisolver>=1.0.1\n",
            "  Downloading kiwisolver-1.4.4-cp38-cp38-macosx_10_9_x86_64.whl (65 kB)\n",
            "\u001b[2K     \u001b[90m━━━━━━━━━━━━━━━━━━━━━━━━━━━━━━━━━━━━━━━━\u001b[0m \u001b[32m65.4/65.4 kB\u001b[0m \u001b[31m6.7 MB/s\u001b[0m eta \u001b[36m0:00:00\u001b[0m\n",
            "\u001b[?25hCollecting pyparsing>=2.3.1\n",
            "  Using cached pyparsing-3.0.9-py3-none-any.whl (98 kB)\n",
            "Requirement already satisfied: packaging>=20.0 in /Users/saminbatra/opt/anaconda3/envs/torch-practice/lib/python3.8/site-packages (from matplotlib) (23.1)\n",
            "Requirement already satisfied: python-dateutil>=2.7 in /Users/saminbatra/opt/anaconda3/envs/torch-practice/lib/python3.8/site-packages (from matplotlib) (2.8.2)\n",
            "Collecting cycler>=0.10\n",
            "  Using cached cycler-0.11.0-py3-none-any.whl (6.4 kB)\n",
            "Requirement already satisfied: pillow>=6.2.0 in /Users/saminbatra/opt/anaconda3/envs/torch-practice/lib/python3.8/site-packages (from matplotlib) (9.4.0)\n",
            "Requirement already satisfied: importlib-resources>=3.2.0 in /Users/saminbatra/opt/anaconda3/envs/torch-practice/lib/python3.8/site-packages (from matplotlib) (5.12.0)\n",
            "Collecting contourpy>=1.0.1\n",
            "  Downloading contourpy-1.1.0-cp38-cp38-macosx_10_9_x86_64.whl (243 kB)\n",
            "\u001b[2K     \u001b[90m━━━━━━━━━━━━━━━━━━━━━━━━━━━━━━━━━━━━━━━\u001b[0m \u001b[32m243.4/243.4 kB\u001b[0m \u001b[31m8.2 MB/s\u001b[0m eta \u001b[36m0:00:00\u001b[0m\n",
            "\u001b[?25hCollecting fonttools>=4.22.0\n",
            "  Downloading fonttools-4.40.0-cp38-cp38-macosx_10_9_x86_64.whl (2.1 MB)\n",
            "\u001b[2K     \u001b[90m━━━━━━━━━━━━━━━━━━━━━━━━━━━━━━━━━━━━━━━━\u001b[0m \u001b[32m2.1/2.1 MB\u001b[0m \u001b[31m9.9 MB/s\u001b[0m eta \u001b[36m0:00:00\u001b[0mta \u001b[36m0:00:01\u001b[0m\n",
            "\u001b[?25hRequirement already satisfied: numpy>=1.20 in /Users/saminbatra/opt/anaconda3/envs/torch-practice/lib/python3.8/site-packages (from matplotlib) (1.23.5)\n",
            "Requirement already satisfied: zipp>=3.1.0 in /Users/saminbatra/opt/anaconda3/envs/torch-practice/lib/python3.8/site-packages (from importlib-resources>=3.2.0->matplotlib) (3.15.0)\n",
            "Requirement already satisfied: six>=1.5 in /Users/saminbatra/opt/anaconda3/envs/torch-practice/lib/python3.8/site-packages (from python-dateutil>=2.7->matplotlib) (1.16.0)\n",
            "Installing collected packages: pyparsing, kiwisolver, fonttools, cycler, contourpy, matplotlib\n",
            "Successfully installed contourpy-1.1.0 cycler-0.11.0 fonttools-4.40.0 kiwisolver-1.4.4 matplotlib-3.7.1 pyparsing-3.0.9\n",
            "Note: you may need to restart the kernel to use updated packages.\n"
          ]
        }
      ],
      "source": [
        "%pip install matplotlib"
      ]
    },
    {
      "cell_type": "markdown",
      "id": "2d5e30b4",
      "metadata": {
        "id": "2d5e30b4"
      },
      "source": [
        "### creating a linear regression pytorch class"
      ]
    },
    {
      "cell_type": "code",
      "execution_count": 9,
      "id": "eb9dd4f6",
      "metadata": {
        "id": "eb9dd4f6"
      },
      "outputs": [],
      "source": [
        "import torch\n",
        "import torch.nn as nn"
      ]
    },
    {
      "cell_type": "code",
      "execution_count": 18,
      "id": "8611212e",
      "metadata": {
        "id": "8611212e"
      },
      "outputs": [],
      "source": [
        "class LinearRegressionModel(torch.nn.Module):\n",
        "    def __init__(self):\n",
        "        super().__init__()\n",
        "        self.weights = nn.Parameter(torch.randn(1,requires_grad=True,dtype=torch.float32))\n",
        "        self.bias = nn.Parameter(torch.randn(1, requires_grad=True,dtype=torch.float32))\n",
        "    def forward(self,x: torch.Tensor):\n",
        "        return self.weights*x+self.bias\n",
        ""
      ]
    },
    {
      "cell_type": "markdown",
      "id": "2cc98815",
      "metadata": {
        "id": "2cc98815"
      },
      "source": [
        "### Checking out model parameters"
      ]
    },
    {
      "cell_type": "code",
      "execution_count": 19,
      "id": "2dfc89c6",
      "metadata": {
        "id": "2dfc89c6"
      },
      "outputs": [],
      "source": [
        "torch.manual_seed(42)\n",
        "model0 = LinearRegressionModel()"
      ]
    },
    {
      "cell_type": "code",
      "execution_count": 20,
      "id": "27b93561",
      "metadata": {
        "colab": {
          "base_uri": "https://localhost:8080/"
        },
        "id": "27b93561",
        "outputId": "cedab602-c178-41d8-cb5a-0da9fb55760c"
      },
      "outputs": [
        {
          "output_type": "execute_result",
          "data": {
            "text/plain": [
              "[Parameter containing:\n",
              " tensor([0.3367], requires_grad=True),\n",
              " Parameter containing:\n",
              " tensor([0.1288], requires_grad=True)]"
            ]
          },
          "metadata": {},
          "execution_count": 20
        }
      ],
      "source": [
        "list(model0.parameters())"
      ]
    },
    {
      "cell_type": "code",
      "execution_count": 21,
      "id": "a5b172b8",
      "metadata": {
        "colab": {
          "base_uri": "https://localhost:8080/"
        },
        "id": "a5b172b8",
        "outputId": "8ab5c8cb-4731-4546-81cf-1c2f0eddb130"
      },
      "outputs": [
        {
          "output_type": "execute_result",
          "data": {
            "text/plain": [
              "['weights', 'bias']"
            ]
          },
          "metadata": {},
          "execution_count": 21
        }
      ],
      "source": [
        "list(model0.state_dict())"
      ]
    },
    {
      "cell_type": "markdown",
      "id": "156552ca",
      "metadata": {
        "id": "156552ca"
      },
      "source": [
        "### Making predictions using torch.inference_mode()"
      ]
    },
    {
      "cell_type": "markdown",
      "id": "348871d3",
      "metadata": {
        "id": "348871d3"
      },
      "source": [
        "### Inference mode prevents python from keeping track of gradients. It means less data to keep track of\n",
        "### helps, make the code run faster. Same as torch.no_grad() but inference_mode is newer"
      ]
    },
    {
      "cell_type": "code",
      "execution_count": 7,
      "id": "80d4eaf0",
      "metadata": {
        "id": "80d4eaf0"
      },
      "outputs": [],
      "source": [
        "X = torch.arange(0,1,0.02).unsqueeze(dim=1)\n",
        "# y = torch.arange(0,1,0.01)"
      ]
    },
    {
      "cell_type": "code",
      "execution_count": 8,
      "id": "429ddb54",
      "metadata": {
        "id": "429ddb54"
      },
      "outputs": [],
      "source": [
        "len(X)\n",
        "X_train = X[:30]\n",
        "X_test = X[31:]"
      ]
    },
    {
      "cell_type": "code",
      "execution_count": 9,
      "id": "7db49634",
      "metadata": {
        "id": "7db49634"
      },
      "outputs": [],
      "source": [
        "with torch.inference_mode():\n",
        "    y = model0.forward(X)"
      ]
    },
    {
      "cell_type": "code",
      "execution_count": 10,
      "id": "030c8195",
      "metadata": {
        "id": "030c8195"
      },
      "outputs": [],
      "source": [
        "y\n",
        "y_train = y[:30]\n",
        "y_test = y[31:]"
      ]
    },
    {
      "cell_type": "code",
      "execution_count": 11,
      "id": "3aa6f68c",
      "metadata": {
        "id": "3aa6f68c"
      },
      "outputs": [],
      "source": [
        "weights=0.7\n",
        "bias = 0.3\n",
        "y = weights*X+bias"
      ]
    },
    {
      "cell_type": "code",
      "execution_count": 12,
      "id": "0379fef7",
      "metadata": {
        "colab": {
          "base_uri": "https://localhost:8080/"
        },
        "id": "0379fef7",
        "outputId": "605c4290-3e74-41ca-a5f9-fea5232bc701"
      },
      "outputs": [
        {
          "output_type": "execute_result",
          "data": {
            "text/plain": [
              "tensor([[0.3000],\n",
              "        [0.3140],\n",
              "        [0.3280],\n",
              "        [0.3420],\n",
              "        [0.3560],\n",
              "        [0.3700],\n",
              "        [0.3840],\n",
              "        [0.3980],\n",
              "        [0.4120],\n",
              "        [0.4260],\n",
              "        [0.4400],\n",
              "        [0.4540],\n",
              "        [0.4680],\n",
              "        [0.4820],\n",
              "        [0.4960],\n",
              "        [0.5100],\n",
              "        [0.5240],\n",
              "        [0.5380],\n",
              "        [0.5520],\n",
              "        [0.5660],\n",
              "        [0.5800],\n",
              "        [0.5940],\n",
              "        [0.6080],\n",
              "        [0.6220],\n",
              "        [0.6360],\n",
              "        [0.6500],\n",
              "        [0.6640],\n",
              "        [0.6780],\n",
              "        [0.6920],\n",
              "        [0.7060],\n",
              "        [0.7200],\n",
              "        [0.7340],\n",
              "        [0.7480],\n",
              "        [0.7620],\n",
              "        [0.7760],\n",
              "        [0.7900],\n",
              "        [0.8040],\n",
              "        [0.8180],\n",
              "        [0.8320],\n",
              "        [0.8460],\n",
              "        [0.8600],\n",
              "        [0.8740],\n",
              "        [0.8880],\n",
              "        [0.9020],\n",
              "        [0.9160],\n",
              "        [0.9300],\n",
              "        [0.9440],\n",
              "        [0.9580],\n",
              "        [0.9720],\n",
              "        [0.9860]])"
            ]
          },
          "metadata": {},
          "execution_count": 12
        }
      ],
      "source": [
        "y"
      ]
    },
    {
      "cell_type": "markdown",
      "id": "112f8059",
      "metadata": {
        "id": "112f8059"
      },
      "source": [
        "### Training a model is to move from some unknown parameters to some known parameters\n",
        "### Use loss functions for this\n",
        "### Loss function is also cost function or criterion\n",
        "### measures how wrong the measurements are compared to real val\n",
        "### Optimizers: Takes into account the loss and adjusts the weights and biases to make them better"
      ]
    },
    {
      "cell_type": "code",
      "execution_count": 13,
      "id": "9d43edfd",
      "metadata": {
        "id": "9d43edfd"
      },
      "outputs": [],
      "source": [
        "# setup a loss function\n",
        "loss_fn = nn.L1Loss()"
      ]
    },
    {
      "cell_type": "code",
      "execution_count": 14,
      "id": "b0af4ba6",
      "metadata": {
        "colab": {
          "base_uri": "https://localhost:8080/"
        },
        "id": "b0af4ba6",
        "outputId": "ce18ba5f-f3b5-4d7c-8f56-39cc30e94337"
      },
      "outputs": [
        {
          "output_type": "execute_result",
          "data": {
            "text/plain": [
              "L1Loss()"
            ]
          },
          "metadata": {},
          "execution_count": 14
        }
      ],
      "source": [
        "loss_fn"
      ]
    },
    {
      "cell_type": "code",
      "execution_count": 22,
      "id": "8d00154a",
      "metadata": {
        "id": "8d00154a"
      },
      "outputs": [],
      "source": [
        "optimizer = torch.optim.SGD(model0.parameters(),lr=0.001) #lr=learning_rate is the most important hyperparameter"
      ]
    },
    {
      "cell_type": "markdown",
      "id": "f849885c",
      "metadata": {
        "id": "f849885c"
      },
      "source": [
        "### building a training and testing loop in pytorch\n",
        "A couple of things that are needed\n",
        "1. Loop through the data\n",
        "2. Forward pass (data moving through the model forward)\n",
        "3. Optimizer zero grad\n",
        "4. Backwards - move backwards through the network to calculate gradients of each of the parameters of the model wrt the loss\n",
        "5. Optimizer step - Use the optimizer to adjust the model parameters to try and improve the loss (gradient descent)"
      ]
    },
    {
      "cell_type": "code",
      "execution_count": 23,
      "id": "c0786063",
      "metadata": {
        "colab": {
          "base_uri": "https://localhost:8080/"
        },
        "id": "c0786063",
        "outputId": "790035be-b0d2-4320-a5b5-22a4fedb6932"
      },
      "outputs": [
        {
          "output_type": "stream",
          "name": "stdout",
          "text": [
            "Loss is  tensor(0., grad_fn=<MeanBackward0>)\n",
            "Epoch: 0, loss: 0.0, test_loss: 0.0\n",
            "Loss is  tensor(0., grad_fn=<MeanBackward0>)\n",
            "Loss is  tensor(0., grad_fn=<MeanBackward0>)\n",
            "Loss is  tensor(0., grad_fn=<MeanBackward0>)\n",
            "Loss is  tensor(0., grad_fn=<MeanBackward0>)\n",
            "Loss is  tensor(0., grad_fn=<MeanBackward0>)\n",
            "Loss is  tensor(0., grad_fn=<MeanBackward0>)\n",
            "Loss is  tensor(0., grad_fn=<MeanBackward0>)\n",
            "Loss is  tensor(0., grad_fn=<MeanBackward0>)\n",
            "Loss is  tensor(0., grad_fn=<MeanBackward0>)\n",
            "Loss is  tensor(0., grad_fn=<MeanBackward0>)\n",
            "Epoch: 10, loss: 0.0, test_loss: 0.0\n",
            "Loss is  tensor(0., grad_fn=<MeanBackward0>)\n",
            "Loss is  tensor(0., grad_fn=<MeanBackward0>)\n",
            "Loss is  tensor(0., grad_fn=<MeanBackward0>)\n",
            "Loss is  tensor(0., grad_fn=<MeanBackward0>)\n",
            "Loss is  tensor(0., grad_fn=<MeanBackward0>)\n",
            "Loss is  tensor(0., grad_fn=<MeanBackward0>)\n",
            "Loss is  tensor(0., grad_fn=<MeanBackward0>)\n",
            "Loss is  tensor(0., grad_fn=<MeanBackward0>)\n",
            "Loss is  tensor(0., grad_fn=<MeanBackward0>)\n",
            "Loss is  tensor(0., grad_fn=<MeanBackward0>)\n",
            "Epoch: 20, loss: 0.0, test_loss: 0.0\n",
            "Loss is  tensor(0., grad_fn=<MeanBackward0>)\n",
            "Loss is  tensor(0., grad_fn=<MeanBackward0>)\n",
            "Loss is  tensor(0., grad_fn=<MeanBackward0>)\n",
            "Loss is  tensor(0., grad_fn=<MeanBackward0>)\n",
            "Loss is  tensor(0., grad_fn=<MeanBackward0>)\n",
            "Loss is  tensor(0., grad_fn=<MeanBackward0>)\n",
            "Loss is  tensor(0., grad_fn=<MeanBackward0>)\n",
            "Loss is  tensor(0., grad_fn=<MeanBackward0>)\n",
            "Loss is  tensor(0., grad_fn=<MeanBackward0>)\n",
            "Loss is  tensor(0., grad_fn=<MeanBackward0>)\n",
            "Epoch: 30, loss: 0.0, test_loss: 0.0\n",
            "Loss is  tensor(0., grad_fn=<MeanBackward0>)\n",
            "Loss is  tensor(0., grad_fn=<MeanBackward0>)\n",
            "Loss is  tensor(0., grad_fn=<MeanBackward0>)\n",
            "Loss is  tensor(0., grad_fn=<MeanBackward0>)\n",
            "Loss is  tensor(0., grad_fn=<MeanBackward0>)\n",
            "Loss is  tensor(0., grad_fn=<MeanBackward0>)\n",
            "Loss is  tensor(0., grad_fn=<MeanBackward0>)\n",
            "Loss is  tensor(0., grad_fn=<MeanBackward0>)\n",
            "Loss is  tensor(0., grad_fn=<MeanBackward0>)\n",
            "Loss is  tensor(0., grad_fn=<MeanBackward0>)\n",
            "Epoch: 40, loss: 0.0, test_loss: 0.0\n",
            "Loss is  tensor(0., grad_fn=<MeanBackward0>)\n",
            "Loss is  tensor(0., grad_fn=<MeanBackward0>)\n",
            "Loss is  tensor(0., grad_fn=<MeanBackward0>)\n",
            "Loss is  tensor(0., grad_fn=<MeanBackward0>)\n",
            "Loss is  tensor(0., grad_fn=<MeanBackward0>)\n",
            "Loss is  tensor(0., grad_fn=<MeanBackward0>)\n",
            "Loss is  tensor(0., grad_fn=<MeanBackward0>)\n",
            "Loss is  tensor(0., grad_fn=<MeanBackward0>)\n",
            "Loss is  tensor(0., grad_fn=<MeanBackward0>)\n",
            "Loss is  tensor(0., grad_fn=<MeanBackward0>)\n",
            "Epoch: 50, loss: 0.0, test_loss: 0.0\n",
            "Loss is  tensor(0., grad_fn=<MeanBackward0>)\n",
            "Loss is  tensor(0., grad_fn=<MeanBackward0>)\n",
            "Loss is  tensor(0., grad_fn=<MeanBackward0>)\n",
            "Loss is  tensor(0., grad_fn=<MeanBackward0>)\n",
            "Loss is  tensor(0., grad_fn=<MeanBackward0>)\n",
            "Loss is  tensor(0., grad_fn=<MeanBackward0>)\n",
            "Loss is  tensor(0., grad_fn=<MeanBackward0>)\n",
            "Loss is  tensor(0., grad_fn=<MeanBackward0>)\n",
            "Loss is  tensor(0., grad_fn=<MeanBackward0>)\n",
            "Loss is  tensor(0., grad_fn=<MeanBackward0>)\n",
            "Epoch: 60, loss: 0.0, test_loss: 0.0\n",
            "Loss is  tensor(0., grad_fn=<MeanBackward0>)\n",
            "Loss is  tensor(0., grad_fn=<MeanBackward0>)\n",
            "Loss is  tensor(0., grad_fn=<MeanBackward0>)\n",
            "Loss is  tensor(0., grad_fn=<MeanBackward0>)\n",
            "Loss is  tensor(0., grad_fn=<MeanBackward0>)\n",
            "Loss is  tensor(0., grad_fn=<MeanBackward0>)\n",
            "Loss is  tensor(0., grad_fn=<MeanBackward0>)\n",
            "Loss is  tensor(0., grad_fn=<MeanBackward0>)\n",
            "Loss is  tensor(0., grad_fn=<MeanBackward0>)\n",
            "Loss is  tensor(0., grad_fn=<MeanBackward0>)\n",
            "Epoch: 70, loss: 0.0, test_loss: 0.0\n",
            "Loss is  tensor(0., grad_fn=<MeanBackward0>)\n",
            "Loss is  tensor(0., grad_fn=<MeanBackward0>)\n",
            "Loss is  tensor(0., grad_fn=<MeanBackward0>)\n",
            "Loss is  tensor(0., grad_fn=<MeanBackward0>)\n",
            "Loss is  tensor(0., grad_fn=<MeanBackward0>)\n",
            "Loss is  tensor(0., grad_fn=<MeanBackward0>)\n",
            "Loss is  tensor(0., grad_fn=<MeanBackward0>)\n",
            "Loss is  tensor(0., grad_fn=<MeanBackward0>)\n",
            "Loss is  tensor(0., grad_fn=<MeanBackward0>)\n",
            "Loss is  tensor(0., grad_fn=<MeanBackward0>)\n",
            "Epoch: 80, loss: 0.0, test_loss: 0.0\n",
            "Loss is  tensor(0., grad_fn=<MeanBackward0>)\n",
            "Loss is  tensor(0., grad_fn=<MeanBackward0>)\n",
            "Loss is  tensor(0., grad_fn=<MeanBackward0>)\n",
            "Loss is  tensor(0., grad_fn=<MeanBackward0>)\n",
            "Loss is  tensor(0., grad_fn=<MeanBackward0>)\n",
            "Loss is  tensor(0., grad_fn=<MeanBackward0>)\n",
            "Loss is  tensor(0., grad_fn=<MeanBackward0>)\n",
            "Loss is  tensor(0., grad_fn=<MeanBackward0>)\n",
            "Loss is  tensor(0., grad_fn=<MeanBackward0>)\n",
            "Loss is  tensor(0., grad_fn=<MeanBackward0>)\n",
            "Epoch: 90, loss: 0.0, test_loss: 0.0\n",
            "Loss is  tensor(0., grad_fn=<MeanBackward0>)\n",
            "Loss is  tensor(0., grad_fn=<MeanBackward0>)\n",
            "Loss is  tensor(0., grad_fn=<MeanBackward0>)\n",
            "Loss is  tensor(0., grad_fn=<MeanBackward0>)\n",
            "Loss is  tensor(0., grad_fn=<MeanBackward0>)\n",
            "Loss is  tensor(0., grad_fn=<MeanBackward0>)\n",
            "Loss is  tensor(0., grad_fn=<MeanBackward0>)\n",
            "Loss is  tensor(0., grad_fn=<MeanBackward0>)\n",
            "Loss is  tensor(0., grad_fn=<MeanBackward0>)\n"
          ]
        }
      ],
      "source": [
        "#epochs\n",
        "epochs = 100 #epoch is one loop through the data\n",
        "epoch_count = []\n",
        "loss_track = []\n",
        "test_loss_track = []\n",
        "for epoch in range(epochs):\n",
        "    model0.train() #train mode requires all parameters that require gradients to require gradients\n",
        "    # forward pass\n",
        "    y_pred = model0(X_train)\n",
        "    #Calculate the loss for the predictions\n",
        "    loss = loss_fn(y_pred,y_train)\n",
        "    print(\"Loss is \",loss)\n",
        "    #set optimizer zero_grad\n",
        "    optimizer.zero_grad()\n",
        "    #perform back propagation on the loss\n",
        "    loss.backward()\n",
        "    #take the gradient step\n",
        "    optimizer.step() #by default, how the optimizer changes will accumulate through the loop so we have to zero them above in step 3\n",
        "    model0.eval() #turns off different settings for evaluation\n",
        "    #in training, you do model0.train(), in evaluation call model0.eval()\n",
        "    with torch.inference_mode(): #turns off gradient tracking, does the same as torch.no_grad() but faster\n",
        "        # do the forward pass,\n",
        "        test_preds = model0(X_test)\n",
        "        loss_test = loss_fn(test_preds,y_test)\n",
        "    if epoch%10==0:\n",
        "        epoch_count.append(epoch)\n",
        "        loss_track.append(loss.detach().numpy())\n",
        "        test_loss_track.append(loss_test.detach().numpy())\n",
        "        print(f\"Epoch: {epoch}, loss: {loss}, test_loss: {loss_test}\")"
      ]
    },
    {
      "cell_type": "code",
      "execution_count": 24,
      "id": "6a9e3148",
      "metadata": {
        "colab": {
          "base_uri": "https://localhost:8080/",
          "height": 490
        },
        "id": "6a9e3148",
        "outputId": "ecb0e5a5-5dcb-49fd-bf33-6855dbe59517"
      },
      "outputs": [
        {
          "output_type": "execute_result",
          "data": {
            "text/plain": [
              "<matplotlib.legend.Legend at 0x795a8636b730>"
            ]
          },
          "metadata": {},
          "execution_count": 24
        },
        {
          "output_type": "display_data",
          "data": {
            "text/plain": [
              "<Figure size 640x480 with 1 Axes>"
            ],
            "image/png": "[encoded data removed]"
          },
          "metadata": {}
        }
      ],
      "source": [
        "import matplotlib.pyplot as plt\n",
        "plt.plot(epoch_count,loss_track,label=\"Train loss\")\n",
        "plt.plot(epoch_count,test_loss_track,label=\"Test loss\")\n",
        "# plt.title(\"Test loss curve\")\n",
        "plt.title(\"Training and test loss curves\")\n",
        "plt.ylabel(\"loss\")\n",
        "plt.xlabel(\"Epoch\")\n",
        "plt.legend()"
      ]
    },
    {
      "cell_type": "code",
      "execution_count": 24,
      "id": "d6460009",
      "metadata": {
        "id": "d6460009"
      },
      "outputs": [],
      "source": []
    },
    {
      "cell_type": "code",
      "execution_count": 25,
      "id": "b2c69865",
      "metadata": {
        "colab": {
          "base_uri": "https://localhost:8080/"
        },
        "id": "b2c69865",
        "outputId": "d39b472a-3ed9-4f56-ebd9-cea54c904758"
      },
      "outputs": [
        {
          "output_type": "execute_result",
          "data": {
            "text/plain": [
              "OrderedDict([('weights', tensor([0.3367])), ('bias', tensor([0.1288]))])"
            ]
          },
          "metadata": {},
          "execution_count": 25
        }
      ],
      "source": [
        "model0.state_dict()"
      ]
    },
    {
      "cell_type": "code",
      "execution_count": 26,
      "id": "292effb5",
      "metadata": {
        "colab": {
          "base_uri": "https://localhost:8080/"
        },
        "id": "292effb5",
        "outputId": "9a6e21b7-7ef6-4be1-8282-9e040d0c28af"
      },
      "outputs": [
        {
          "output_type": "execute_result",
          "data": {
            "text/plain": [
              "[Parameter containing:\n",
              " tensor([0.3367], requires_grad=True),\n",
              " Parameter containing:\n",
              " tensor([0.1288], requires_grad=True)]"
            ]
          },
          "metadata": {},
          "execution_count": 26
        }
      ],
      "source": [
        "model0.eval()\n",
        "list(model0.parameters())"
      ]
    },
    {
      "cell_type": "code",
      "execution_count": 27,
      "id": "9cc9bac7",
      "metadata": {
        "colab": {
          "base_uri": "https://localhost:8080/"
        },
        "id": "9cc9bac7",
        "outputId": "c7508dd9-da14-494f-b64b-730cb45142c6"
      },
      "outputs": [
        {
          "output_type": "stream",
          "name": "stdout",
          "text": [
            "[Parameter containing:\n",
            "tensor([0.3367], requires_grad=True), Parameter containing:\n",
            "tensor([0.1288], requires_grad=True)]\n"
          ]
        }
      ],
      "source": [
        "with torch.no_grad():\n",
        "    print(list(model0.parameters()))"
      ]
    },
    {
      "cell_type": "markdown",
      "id": "7117d0cd",
      "metadata": {
        "id": "7117d0cd"
      },
      "source": [
        "### Saving and loading models in pytorch\n",
        "\n",
        "1) torch.save - save a model in python pickle format\n",
        "2) torch.load - load a saved pytorch object\n",
        "3) torch.nn.module.load_state_dict - allows to load a model's saved state dict\n",
        "\n",
        "Pytorch save and load: https://pytorch.org/tutorials/beginner/saving_loading_models.html"
      ]
    },
    {
      "cell_type": "code",
      "execution_count": null,
      "id": "a2eaf59f",
      "metadata": {
        "id": "a2eaf59f",
        "outputId": "68f98757-724f-4781-c4ce-98911be9c8e2"
      },
      "outputs": [
        {
          "name": "stdout",
          "output_type": "stream",
          "text": [
            "models/01_pytorch_workflow_model_0.pth\n"
          ]
        }
      ],
      "source": [
        "from pathlib import Path\n",
        "MODEL_PATH = Path(\"models\")\n",
        "MODEL_PATH.mkdir(parents=True,exist_ok=True)\n",
        "MODEL_NAME = \"01_pytorch_workflow_model_0.pth\"\n",
        "MODEL_SAVE_PATH = MODEL_PATH / MODEL_NAME\n",
        "print(MODEL_SAVE_PATH)"
      ]
    },
    {
      "cell_type": "code",
      "execution_count": null,
      "id": "0f9d83ba",
      "metadata": {
        "id": "0f9d83ba",
        "outputId": "38f45ac7-b243-4c17-979a-988e588c5135"
      },
      "outputs": [
        {
          "name": "stdout",
          "output_type": "stream",
          "text": [
            "Saving model to: models/01_pytorch_workflow_model_0.pth\n"
          ]
        }
      ],
      "source": [
        "print(f\"Saving model to: {MODEL_SAVE_PATH}\")\n",
        "torch.save(model0.state_dict(),MODEL_SAVE_PATH)"
      ]
    },
    {
      "cell_type": "code",
      "execution_count": null,
      "id": "8fd7825b",
      "metadata": {
        "id": "8fd7825b",
        "outputId": "499a835a-82d5-442c-9d31-256d06454e0f"
      },
      "outputs": [
        {
          "data": {
            "text/plain": [
              "LinearRegressionModel()"
            ]
          },
          "execution_count": 56,
          "metadata": {},
          "output_type": "execute_result"
        }
      ],
      "source": [
        "load_model = LinearRegressionModel()\n",
        "load_model.load_state_dict(torch.load(MODEL_SAVE_PATH))\n",
        "load_model.eval()"
      ]
    },
    {
      "cell_type": "code",
      "execution_count": null,
      "id": "610ea364",
      "metadata": {
        "id": "610ea364"
      },
      "outputs": [],
      "source": [
        "with torch.inference_mode():\n",
        "    loaded_model_preds = load_model(X_test)"
      ]
    },
    {
      "cell_type": "code",
      "execution_count": null,
      "id": "36b025a4",
      "metadata": {
        "id": "36b025a4"
      },
      "outputs": [],
      "source": [
        "# y_pred ==loaded_model_preds\n",
        "model0.eval()\n",
        "with torch.inference_mode():\n",
        "    y_preds = model0(X_test)"
      ]
    },
    {
      "cell_type": "code",
      "execution_count": null,
      "id": "59c00b1e",
      "metadata": {
        "id": "59c00b1e",
        "outputId": "19077950-681a-4ec6-fca1-3cd22cd11b3c"
      },
      "outputs": [
        {
          "data": {
            "text/plain": [
              "tensor([[True],\n",
              "        [True],\n",
              "        [True],\n",
              "        [True],\n",
              "        [True],\n",
              "        [True],\n",
              "        [True],\n",
              "        [True],\n",
              "        [True],\n",
              "        [True],\n",
              "        [True],\n",
              "        [True],\n",
              "        [True],\n",
              "        [True],\n",
              "        [True],\n",
              "        [True],\n",
              "        [True],\n",
              "        [True],\n",
              "        [True]])"
            ]
          },
          "execution_count": 65,
          "metadata": {},
          "output_type": "execute_result"
        }
      ],
      "source": [
        "y_preds==loaded_model_preds"
      ]
    },
    {
      "cell_type": "markdown",
      "id": "30c33089",
      "metadata": {
        "id": "30c33089"
      },
      "source": [
        "### Putting it all together"
      ]
    },
    {
      "cell_type": "code",
      "execution_count": null,
      "id": "0e445207",
      "metadata": {
        "id": "0e445207"
      },
      "outputs": [],
      "source": [
        "import torch\n",
        "from torch import nn\n",
        "import matplotlib.pyplot as plt"
      ]
    },
    {
      "cell_type": "code",
      "execution_count": null,
      "id": "3c8419e5",
      "metadata": {
        "id": "3c8419e5",
        "outputId": "86424ae3-3671-4b7f-efae-d5bebc95eac0"
      },
      "outputs": [
        {
          "data": {
            "text/plain": [
              "'2.0.1'"
            ]
          },
          "execution_count": 67,
          "metadata": {},
          "output_type": "execute_result"
        }
      ],
      "source": [
        "torch.__version__"
      ]
    },
    {
      "cell_type": "code",
      "execution_count": 11,
      "id": "467c8b58",
      "metadata": {
        "id": "467c8b58"
      },
      "outputs": [],
      "source": [
        "torch.backends.mps.is_available()\n",
        "\n",
        "if torch.backends.mps.is_available():\n",
        "    device = torch.device(\"mps\")\n",
        "elif torch.cuda.is_available():\n",
        "    device = torch.device(\"cuda\")\n",
        "else:\n",
        "    device=torch.device(\"cpu\")\n"
      ]
    },
    {
      "cell_type": "code",
      "execution_count": 12,
      "id": "8723a59d",
      "metadata": {
        "colab": {
          "base_uri": "https://localhost:8080/"
        },
        "id": "8723a59d",
        "outputId": "aa8abc03-dc93-40db-b6b7-3bfa2f00ee43"
      },
      "outputs": [
        {
          "output_type": "execute_result",
          "data": {
            "text/plain": [
              "device(type='cuda')"
            ]
          },
          "metadata": {},
          "execution_count": 12
        }
      ],
      "source": [
        "torch.cuda.is_available()\n",
        "device"
      ]
    },
    {
      "cell_type": "markdown",
      "id": "b5189ecb",
      "metadata": {
        "id": "b5189ecb"
      },
      "source": [
        "### Create data using the linear regression formula"
      ]
    },
    {
      "cell_type": "code",
      "execution_count": 13,
      "id": "fa6baad4",
      "metadata": {
        "id": "fa6baad4"
      },
      "outputs": [],
      "source": [
        "import matplotlib.pyplot as plt"
      ]
    },
    {
      "cell_type": "code",
      "execution_count": 14,
      "id": "ac97496a",
      "metadata": {
        "id": "ac97496a"
      },
      "outputs": [],
      "source": [
        "weight=0.7\n",
        "bias = 0.3"
      ]
    },
    {
      "cell_type": "code",
      "execution_count": 15,
      "id": "93ebcfb9",
      "metadata": {
        "id": "93ebcfb9"
      },
      "outputs": [],
      "source": [
        "start = 0\n",
        "stop = 1\n",
        "step = 0.02\n",
        "X = torch.arange(start,stop,step)"
      ]
    },
    {
      "cell_type": "code",
      "execution_count": 16,
      "id": "9b333f21",
      "metadata": {
        "colab": {
          "base_uri": "https://localhost:8080/"
        },
        "id": "9b333f21",
        "outputId": "7e0dcb66-5a62-4704-e9c6-22cb84db24b6"
      },
      "outputs": [
        {
          "output_type": "execute_result",
          "data": {
            "text/plain": [
              "torch.Size([50, 1])"
            ]
          },
          "metadata": {},
          "execution_count": 16
        }
      ],
      "source": [
        "X.unsqueeze(dim=1).shape"
      ]
    },
    {
      "cell_type": "code",
      "source": [
        "X = X.unsqueeze(dim=1)"
      ],
      "metadata": {
        "id": "CQ2T1tBBTRc1"
      },
      "id": "CQ2T1tBBTRc1",
      "execution_count": 17,
      "outputs": []
    },
    {
      "cell_type": "code",
      "execution_count": 18,
      "id": "512f29af",
      "metadata": {
        "id": "512f29af"
      },
      "outputs": [],
      "source": [
        "y = weight*X + bias"
      ]
    },
    {
      "cell_type": "code",
      "execution_count": 67,
      "id": "8a47e470",
      "metadata": {
        "colab": {
          "base_uri": "https://localhost:8080/"
        },
        "id": "8a47e470",
        "outputId": "b548c28a-daf7-4e71-d759-21f9da038177"
      },
      "outputs": [
        {
          "output_type": "execute_result",
          "data": {
            "text/plain": [
              "tensor([[0.3000],\n",
              "        [0.3140],\n",
              "        [0.3280],\n",
              "        [0.3420],\n",
              "        [0.3560],\n",
              "        [0.3700],\n",
              "        [0.3840],\n",
              "        [0.3980],\n",
              "        [0.4120],\n",
              "        [0.4260],\n",
              "        [0.4400],\n",
              "        [0.4540],\n",
              "        [0.4680],\n",
              "        [0.4820],\n",
              "        [0.4960],\n",
              "        [0.5100],\n",
              "        [0.5240],\n",
              "        [0.5380],\n",
              "        [0.5520],\n",
              "        [0.5660],\n",
              "        [0.5800],\n",
              "        [0.5940],\n",
              "        [0.6080],\n",
              "        [0.6220],\n",
              "        [0.6360],\n",
              "        [0.6500],\n",
              "        [0.6640],\n",
              "        [0.6780],\n",
              "        [0.6920],\n",
              "        [0.7060],\n",
              "        [0.7200],\n",
              "        [0.7340],\n",
              "        [0.7480],\n",
              "        [0.7620],\n",
              "        [0.7760],\n",
              "        [0.7900],\n",
              "        [0.8040],\n",
              "        [0.8180],\n",
              "        [0.8320],\n",
              "        [0.8460],\n",
              "        [0.8600],\n",
              "        [0.8740],\n",
              "        [0.8880],\n",
              "        [0.9020],\n",
              "        [0.9160],\n",
              "        [0.9300],\n",
              "        [0.9440],\n",
              "        [0.9580],\n",
              "        [0.9720],\n",
              "        [0.9860]])"
            ]
          },
          "metadata": {},
          "execution_count": 67
        }
      ],
      "source": [
        "y"
      ]
    },
    {
      "cell_type": "code",
      "execution_count": 19,
      "id": "81c6a7b7",
      "metadata": {
        "id": "81c6a7b7"
      },
      "outputs": [],
      "source": [
        "train_split = int(0.8*len(X))"
      ]
    },
    {
      "cell_type": "code",
      "execution_count": 20,
      "id": "23291bdc",
      "metadata": {
        "id": "23291bdc"
      },
      "outputs": [],
      "source": [
        "X_train, y_train = X[:train_split],y[:train_split]\n",
        "X_test, y_test = X[train_split:],y[train_split:]"
      ]
    },
    {
      "cell_type": "code",
      "source": [
        "X_train.shape"
      ],
      "metadata": {
        "colab": {
          "base_uri": "https://localhost:8080/"
        },
        "id": "fKHmIy98S_6z",
        "outputId": "a6eb58c6-221a-474a-f6c9-290abf5c6ebe"
      },
      "id": "fKHmIy98S_6z",
      "execution_count": 21,
      "outputs": [
        {
          "output_type": "execute_result",
          "data": {
            "text/plain": [
              "torch.Size([40, 1])"
            ]
          },
          "metadata": {},
          "execution_count": 21
        }
      ]
    },
    {
      "cell_type": "code",
      "execution_count": 22,
      "id": "9de6f152",
      "metadata": {
        "colab": {
          "base_uri": "https://localhost:8080/"
        },
        "id": "9de6f152",
        "outputId": "a79610e0-2e7e-4192-a544-57560f89d0ab"
      },
      "outputs": [
        {
          "output_type": "execute_result",
          "data": {
            "text/plain": [
              "40"
            ]
          },
          "metadata": {},
          "execution_count": 22
        }
      ],
      "source": [
        "len(X_train)"
      ]
    },
    {
      "cell_type": "code",
      "execution_count": 23,
      "id": "f0d5d0a7",
      "metadata": {
        "colab": {
          "base_uri": "https://localhost:8080/"
        },
        "id": "f0d5d0a7",
        "outputId": "f35757fd-2751-4a99-c2f1-ec014be2f271"
      },
      "outputs": [
        {
          "output_type": "execute_result",
          "data": {
            "text/plain": [
              "10"
            ]
          },
          "metadata": {},
          "execution_count": 23
        }
      ],
      "source": [
        "len(X_test)"
      ]
    },
    {
      "cell_type": "code",
      "execution_count": 24,
      "id": "3aa77d09",
      "metadata": {
        "id": "3aa77d09"
      },
      "outputs": [],
      "source": [
        "def plot_predictions(train_data = X_train, train_labels = y_train, test_data = X_test, test_labels = y_test,predictions=None):\n",
        "    plt.figure(figsize=(10,8))\n",
        "    plt.scatter(train_data,train_labels,s=4,c=\"b\",label=\"Training data\")\n",
        "    plt.scatter(test_data,test_labels,s=4,c=\"g\",label=\"Testing data\")\n",
        "    if predictions is not None:\n",
        "        plt.scatter(test_data,predictions,s=4,c=\"r\",label=\"Predictions\")\n",
        "    plt.legend(prop={'size':14})\n",
        ""
      ]
    },
    {
      "cell_type": "code",
      "execution_count": 25,
      "id": "38e4bca1",
      "metadata": {
        "colab": {
          "base_uri": "https://localhost:8080/",
          "height": 676
        },
        "id": "38e4bca1",
        "outputId": "13089212-03d7-474a-8dd2-5880aa74feac"
      },
      "outputs": [
        {
          "output_type": "display_data",
          "data": {
            "text/plain": [
              "<Figure size 1000x800 with 1 Axes>"
            ],
            "image/png": "[encoded data removed]"
          },
          "metadata": {}
        }
      ],
      "source": [
        "plot_predictions(X_train,y_train,X_test,y_test,None)"
      ]
    },
    {
      "cell_type": "markdown",
      "id": "65ac2ec9",
      "metadata": {
        "id": "65ac2ec9"
      },
      "source": [
        "### 2) Building a linear model"
      ]
    },
    {
      "cell_type": "code",
      "execution_count": 26,
      "id": "2daf078b",
      "metadata": {
        "id": "2daf078b"
      },
      "outputs": [],
      "source": [
        "class LinearRegressionModel(torch.nn.Module):\n",
        "    def __init__(self):\n",
        "        super().__init__()\n",
        "        #use nn.linear for creating model parameters / linear layer/ linear transform\n",
        "        self.linear_layer = nn.Linear(in_features=1,out_features=1)\n",
        "    def forward(self,x: torch.Tensor)->torch.Tensor:\n",
        "        return self.linear_layer(x)"
      ]
    },
    {
      "cell_type": "code",
      "execution_count": 27,
      "id": "2d4edd04",
      "metadata": {
        "id": "2d4edd04"
      },
      "outputs": [],
      "source": [
        "torch.manual_seed(42)\n",
        "model = LinearRegressionModel()"
      ]
    },
    {
      "cell_type": "code",
      "execution_count": 28,
      "id": "aeaff838",
      "metadata": {
        "colab": {
          "base_uri": "https://localhost:8080/"
        },
        "id": "aeaff838",
        "outputId": "e03cec94-0707-415f-8390-f255d7c3c5fd"
      },
      "outputs": [
        {
          "output_type": "execute_result",
          "data": {
            "text/plain": [
              "(LinearRegressionModel(\n",
              "   (linear_layer): Linear(in_features=1, out_features=1, bias=True)\n",
              " ),\n",
              " OrderedDict([('linear_layer.weight', tensor([[0.7645]])),\n",
              "              ('linear_layer.bias', tensor([0.8300]))]))"
            ]
          },
          "metadata": {},
          "execution_count": 28
        }
      ],
      "source": [
        "model, model.state_dict()"
      ]
    },
    {
      "cell_type": "code",
      "execution_count": 29,
      "id": "7654a778",
      "metadata": {
        "id": "7654a778"
      },
      "outputs": [],
      "source": [
        "# set the model to use a target device"
      ]
    },
    {
      "cell_type": "code",
      "execution_count": 30,
      "id": "a71ab743",
      "metadata": {
        "colab": {
          "base_uri": "https://localhost:8080/"
        },
        "id": "a71ab743",
        "outputId": "61aeef55-af65-497d-cc53-0c1c1f1abd11"
      },
      "outputs": [
        {
          "output_type": "execute_result",
          "data": {
            "text/plain": [
              "LinearRegressionModel(\n",
              "  (linear_layer): Linear(in_features=1, out_features=1, bias=True)\n",
              ")"
            ]
          },
          "metadata": {},
          "execution_count": 30
        }
      ],
      "source": [
        "model.to(device)"
      ]
    },
    {
      "cell_type": "code",
      "execution_count": 31,
      "id": "275b7a77",
      "metadata": {
        "colab": {
          "base_uri": "https://localhost:8080/"
        },
        "id": "275b7a77",
        "outputId": "6e8f2375-0daa-4eb3-baa3-fc92288d2a66"
      },
      "outputs": [
        {
          "output_type": "execute_result",
          "data": {
            "text/plain": [
              "device(type='cuda', index=0)"
            ]
          },
          "metadata": {},
          "execution_count": 31
        }
      ],
      "source": [
        "next(model.parameters()).device"
      ]
    },
    {
      "cell_type": "code",
      "execution_count": 32,
      "id": "91036fbf",
      "metadata": {
        "colab": {
          "base_uri": "https://localhost:8080/"
        },
        "id": "91036fbf",
        "outputId": "8748f49d-aad3-4fcd-b96a-243b17b35f7a"
      },
      "outputs": [
        {
          "output_type": "execute_result",
          "data": {
            "text/plain": [
              "OrderedDict([('linear_layer.weight', tensor([[0.7645]], device='cuda:0')),\n",
              "             ('linear_layer.bias', tensor([0.8300], device='cuda:0'))])"
            ]
          },
          "metadata": {},
          "execution_count": 32
        }
      ],
      "source": [
        "model.state_dict()"
      ]
    },
    {
      "cell_type": "markdown",
      "id": "02830830",
      "metadata": {
        "id": "02830830"
      },
      "source": [
        "### Training\n",
        "We need:\n",
        "1) Loss function\n",
        "2) Optimizer\n",
        "3) Training Loop\n",
        "4) Testing loop"
      ]
    },
    {
      "cell_type": "code",
      "execution_count": 33,
      "id": "8cf93f84",
      "metadata": {
        "id": "8cf93f84"
      },
      "outputs": [],
      "source": [
        "loss_fn = nn.L1Loss()\n",
        "optimizer = torch.optim.SGD(params = model.parameters(),lr=0.01)"
      ]
    },
    {
      "cell_type": "code",
      "execution_count": 34,
      "id": "9076d911",
      "metadata": {
        "colab": {
          "base_uri": "https://localhost:8080/"
        },
        "id": "9076d911",
        "outputId": "60bcf1c9-64b0-4956-d163-7a2c35f4b638"
      },
      "outputs": [
        {
          "output_type": "stream",
          "name": "stdout",
          "text": [
            "Epoch is 0\n",
            "Test loss is 0.5739762187004089\n",
            "Train loss is 0.5551779866218567\n",
            "Epoch is 10\n",
            "Test loss is 0.4392664134502411\n",
            "Train loss is 0.439968079328537\n",
            "Epoch is 20\n",
            "Test loss is 0.30455657839775085\n",
            "Train loss is 0.3247582018375397\n",
            "Epoch is 30\n",
            "Test loss is 0.16984669864177704\n",
            "Train loss is 0.20954833924770355\n",
            "Epoch is 40\n",
            "Test loss is 0.03513690456748009\n",
            "Train loss is 0.09433845430612564\n",
            "Epoch is 50\n",
            "Test loss is 0.04784907028079033\n",
            "Train loss is 0.023886388167738914\n",
            "Epoch is 60\n",
            "Test loss is 0.045803118497133255\n",
            "Train loss is 0.019956795498728752\n",
            "Epoch is 70\n",
            "Test loss is 0.037530567497015\n",
            "Train loss is 0.016517987474799156\n",
            "Epoch is 80\n",
            "Test loss is 0.02994490973651409\n",
            "Train loss is 0.013089174404740334\n",
            "Epoch is 90\n",
            "Test loss is 0.02167237363755703\n",
            "Train loss is 0.009653178043663502\n",
            "Epoch is 100\n",
            "Test loss is 0.014086711220443249\n",
            "Train loss is 0.006215683650225401\n",
            "Epoch is 110\n",
            "Test loss is 0.005814164876937866\n",
            "Train loss is 0.00278724217787385\n",
            "Epoch is 120\n",
            "Test loss is 0.013801801018416882\n",
            "Train loss is 0.0012645035749301314\n",
            "Epoch is 130\n",
            "Test loss is 0.013801801018416882\n",
            "Train loss is 0.0012645035749301314\n",
            "Epoch is 140\n",
            "Test loss is 0.013801801018416882\n",
            "Train loss is 0.0012645035749301314\n",
            "Epoch is 150\n",
            "Test loss is 0.013801801018416882\n",
            "Train loss is 0.0012645035749301314\n",
            "Epoch is 160\n",
            "Test loss is 0.013801801018416882\n",
            "Train loss is 0.0012645035749301314\n",
            "Epoch is 170\n",
            "Test loss is 0.013801801018416882\n",
            "Train loss is 0.0012645035749301314\n",
            "Epoch is 180\n",
            "Test loss is 0.013801801018416882\n",
            "Train loss is 0.0012645035749301314\n",
            "Epoch is 190\n",
            "Test loss is 0.013801801018416882\n",
            "Train loss is 0.0012645035749301314\n"
          ]
        }
      ],
      "source": [
        "torch.manual_seed(42)\n",
        "\n",
        "epochs = 200\n",
        "\n",
        "#put data on the same device\n",
        "X_train, y_train, X_test, y_test = X_train.to(device), y_train.to(device), X_test.to(device), y_test.to(device)\n",
        "\n",
        "for epoch in range(epochs):\n",
        "    model.train()\n",
        "    # forward pass\n",
        "    y_pred = model(X_train)\n",
        "    #calculate the loss\n",
        "    loss = loss_fn(y_train,y_pred)\n",
        "    #optimizer zero grad\n",
        "    optimizer.zero_grad()\n",
        "    #perform backpropagation\n",
        "    loss.backward()\n",
        "    #optimize the parameters\n",
        "    optimizer.step()\n",
        "    #testing\n",
        "    model.eval()\n",
        "    with torch.inference_mode():\n",
        "        test_pred = model(X_test).to(device)\n",
        "        test_loss = loss_fn(test_pred,y_test)\n",
        "    #print what's happening\n",
        "    if epoch%10==0:\n",
        "        print(f'Epoch is {epoch}')\n",
        "        print(f'Test loss is {test_loss}')\n",
        "        print(f'Train loss is {loss}')\n"
      ]
    },
    {
      "cell_type": "code",
      "execution_count": 35,
      "id": "09635e45",
      "metadata": {
        "colab": {
          "base_uri": "https://localhost:8080/"
        },
        "id": "09635e45",
        "outputId": "ecfa10d0-9c30-4944-d646-9d5bbb856805"
      },
      "outputs": [
        {
          "output_type": "stream",
          "name": "stdout",
          "text": [
            "OrderedDict([('linear_layer.weight', tensor([[0.6968]], device='cuda:0')), ('linear_layer.bias', tensor([0.3025], device='cuda:0'))])\n"
          ]
        }
      ],
      "source": [
        "print(model.state_dict())"
      ]
    },
    {
      "cell_type": "code",
      "execution_count": 36,
      "id": "4fe132f7",
      "metadata": {
        "colab": {
          "base_uri": "https://localhost:8080/"
        },
        "id": "4fe132f7",
        "outputId": "34bb793c-72db-4771-cfe0-a417d331265d"
      },
      "outputs": [
        {
          "output_type": "execute_result",
          "data": {
            "text/plain": [
              "tensor([[0.8600],\n",
              "        [0.8739],\n",
              "        [0.8878],\n",
              "        [0.9018],\n",
              "        [0.9157],\n",
              "        [0.9296],\n",
              "        [0.9436],\n",
              "        [0.9575],\n",
              "        [0.9714],\n",
              "        [0.9854]], device='cuda:0')"
            ]
          },
          "metadata": {},
          "execution_count": 36
        }
      ],
      "source": [
        "# Turn model into evaluation mode\n",
        "model.eval()\n",
        "\n",
        "# Make predictions on the test data\n",
        "with torch.inference_mode():\n",
        "    y_preds = model(X_test)\n",
        "y_preds"
      ]
    },
    {
      "cell_type": "code",
      "source": [
        "plot_predictions(predictions=y_preds.detach().cpu())"
      ],
      "metadata": {
        "colab": {
          "base_uri": "https://localhost:8080/",
          "height": 676
        },
        "id": "n3MTBBVPT6Ut",
        "outputId": "7738d9ad-52d2-47d1-cb71-a81791f2cb65"
      },
      "id": "n3MTBBVPT6Ut",
      "execution_count": 39,
      "outputs": [
        {
          "output_type": "display_data",
          "data": {
            "text/plain": [
              "<Figure size 1000x800 with 1 Axes>"
            ],
            "image/png": "[encoded data removed]"
          },
          "metadata": {}
        }
      ]
    },
    {
      "cell_type": "code",
      "source": [
        "!pip3 install -I path.py==7.7.1"
      ],
      "metadata": {
        "colab": {
          "base_uri": "https://localhost:8080/"
        },
        "id": "6fSz4uD0UyIG",
        "outputId": "533a735a-f9c4-410c-aeed-090033c5de49"
      },
      "id": "6fSz4uD0UyIG",
      "execution_count": 4,
      "outputs": [
        {
          "output_type": "stream",
          "name": "stdout",
          "text": [
            "Collecting path.py==7.7.1\n",
            "  Downloading path.py-7.7.1-py2.py3-none-any.whl (28 kB)\n",
            "Installing collected packages: path.py\n",
            "Successfully installed path.py-7.7.1\n"
          ]
        }
      ]
    },
    {
      "cell_type": "code",
      "source": [
        "from pathlib import Path\n",
        "MODEL_PATH = Path(\"models\")\n",
        "MODEL_PATH.mkdir(parents=True,exist_ok=True)\n",
        "MODEL_NAME = \"pytorch_workflow_model_1.pt\"\n",
        "MODEL_SAVE_PATH = MODEL_PATH / MODEL_NAME\n",
        "torch.save(obj=model.state_dict(),f=MODEL_SAVE_PATH)"
      ],
      "metadata": {
        "id": "1uJxxi5gUBch"
      },
      "id": "1uJxxi5gUBch",
      "execution_count": 40,
      "outputs": []
    },
    {
      "cell_type": "markdown",
      "source": [
        "Exercise"
      ],
      "metadata": {
        "id": "3C6eOHPkaxK2"
      },
      "id": "3C6eOHPkaxK2"
    },
    {
      "cell_type": "code",
      "source": [
        "X = torch.arange(0,1,0.01)\n"
      ],
      "metadata": {
        "id": "CuQhSA6yayOl"
      },
      "id": "CuQhSA6yayOl",
      "execution_count": 44,
      "outputs": []
    },
    {
      "cell_type": "code",
      "source": [
        "X = X.unsqueeze(dim=1)"
      ],
      "metadata": {
        "id": "z2mltA2EkV1h"
      },
      "id": "z2mltA2EkV1h",
      "execution_count": 84,
      "outputs": []
    },
    {
      "cell_type": "code",
      "source": [
        "weight = 0.3\n",
        "bias = 0.9\n",
        "y = weight*X + bias"
      ],
      "metadata": {
        "id": "qy9Ijemta5eg"
      },
      "id": "qy9Ijemta5eg",
      "execution_count": 85,
      "outputs": []
    },
    {
      "cell_type": "code",
      "source": [
        "y"
      ],
      "metadata": {
        "colab": {
          "base_uri": "https://localhost:8080/"
        },
        "id": "-s0j-7x8bAaK",
        "outputId": "f58ffcea-a757-4d0e-86d4-2e3c93bd4c6f"
      },
      "id": "-s0j-7x8bAaK",
      "execution_count": 86,
      "outputs": [
        {
          "output_type": "execute_result",
          "data": {
            "text/plain": [
              "tensor([[0.9000],\n",
              "        [0.9030],\n",
              "        [0.9060],\n",
              "        [0.9090],\n",
              "        [0.9120],\n",
              "        [0.9150],\n",
              "        [0.9180],\n",
              "        [0.9210],\n",
              "        [0.9240],\n",
              "        [0.9270],\n",
              "        [0.9300],\n",
              "        [0.9330],\n",
              "        [0.9360],\n",
              "        [0.9390],\n",
              "        [0.9420],\n",
              "        [0.9450],\n",
              "        [0.9480],\n",
              "        [0.9510],\n",
              "        [0.9540],\n",
              "        [0.9570],\n",
              "        [0.9600],\n",
              "        [0.9630],\n",
              "        [0.9660],\n",
              "        [0.9690],\n",
              "        [0.9720],\n",
              "        [0.9750],\n",
              "        [0.9780],\n",
              "        [0.9810],\n",
              "        [0.9840],\n",
              "        [0.9870],\n",
              "        [0.9900],\n",
              "        [0.9930],\n",
              "        [0.9960],\n",
              "        [0.9990],\n",
              "        [1.0020],\n",
              "        [1.0050],\n",
              "        [1.0080],\n",
              "        [1.0110],\n",
              "        [1.0140],\n",
              "        [1.0170],\n",
              "        [1.0200],\n",
              "        [1.0230],\n",
              "        [1.0260],\n",
              "        [1.0290],\n",
              "        [1.0320],\n",
              "        [1.0350],\n",
              "        [1.0380],\n",
              "        [1.0410],\n",
              "        [1.0440],\n",
              "        [1.0470],\n",
              "        [1.0500],\n",
              "        [1.0530],\n",
              "        [1.0560],\n",
              "        [1.0590],\n",
              "        [1.0620],\n",
              "        [1.0650],\n",
              "        [1.0680],\n",
              "        [1.0710],\n",
              "        [1.0740],\n",
              "        [1.0770],\n",
              "        [1.0800],\n",
              "        [1.0830],\n",
              "        [1.0860],\n",
              "        [1.0890],\n",
              "        [1.0920],\n",
              "        [1.0950],\n",
              "        [1.0980],\n",
              "        [1.1010],\n",
              "        [1.1040],\n",
              "        [1.1070],\n",
              "        [1.1100],\n",
              "        [1.1130],\n",
              "        [1.1160],\n",
              "        [1.1190],\n",
              "        [1.1220],\n",
              "        [1.1250],\n",
              "        [1.1280],\n",
              "        [1.1310],\n",
              "        [1.1340],\n",
              "        [1.1370],\n",
              "        [1.1400],\n",
              "        [1.1430],\n",
              "        [1.1460],\n",
              "        [1.1490],\n",
              "        [1.1520],\n",
              "        [1.1550],\n",
              "        [1.1580],\n",
              "        [1.1610],\n",
              "        [1.1640],\n",
              "        [1.1670],\n",
              "        [1.1700],\n",
              "        [1.1730],\n",
              "        [1.1760],\n",
              "        [1.1790],\n",
              "        [1.1820],\n",
              "        [1.1850],\n",
              "        [1.1880],\n",
              "        [1.1910],\n",
              "        [1.1940],\n",
              "        [1.1970]])"
            ]
          },
          "metadata": {},
          "execution_count": 86
        }
      ]
    },
    {
      "cell_type": "code",
      "source": [
        "from sklearn.model_selection import train_test_split"
      ],
      "metadata": {
        "id": "hhphgSzEbMSG"
      },
      "id": "hhphgSzEbMSG",
      "execution_count": 87,
      "outputs": []
    },
    {
      "cell_type": "code",
      "source": [
        "X_train, X_test, y_train, y_test = train_test_split(X,y,train_size=0.8)"
      ],
      "metadata": {
        "id": "YB-mm_zHbQ3C"
      },
      "id": "YB-mm_zHbQ3C",
      "execution_count": 88,
      "outputs": []
    },
    {
      "cell_type": "code",
      "source": [
        "len(X_train)"
      ],
      "metadata": {
        "colab": {
          "base_uri": "https://localhost:8080/"
        },
        "id": "K1lrBnoubq1A",
        "outputId": "1a2925be-7263-4211-a784-1f3e8d73aaef"
      },
      "id": "K1lrBnoubq1A",
      "execution_count": 89,
      "outputs": [
        {
          "output_type": "execute_result",
          "data": {
            "text/plain": [
              "80"
            ]
          },
          "metadata": {},
          "execution_count": 89
        }
      ]
    },
    {
      "cell_type": "code",
      "source": [
        "len(X_test)"
      ],
      "metadata": {
        "colab": {
          "base_uri": "https://localhost:8080/"
        },
        "id": "gIpirx_bb03G",
        "outputId": "e0e41f3f-33b8-42db-e05f-e3b79f18e4e0"
      },
      "id": "gIpirx_bb03G",
      "execution_count": 90,
      "outputs": [
        {
          "output_type": "execute_result",
          "data": {
            "text/plain": [
              "20"
            ]
          },
          "metadata": {},
          "execution_count": 90
        }
      ]
    },
    {
      "cell_type": "code",
      "source": [
        "def plot_data(train_points = X_train, test_points = X_test, train_labels = y_train, test_labels = y_test, predictions=None):\n",
        "  plt.figure(figsize=(10,8))\n",
        "  plt.scatter(train_points,train_labels,s=4,c=\"b\",label=\"Training data\")\n",
        "  plt.scatter(test_points,test_labels,s=4,c=\"g\",label=\"Testing data\")\n",
        "  if predictions is not None:\n",
        "      plt.scatter(test_points,predictions,s=4,c=\"r\",label=\"Predictions\")\n",
        "  plt.legend(prop={'size':14})"
      ],
      "metadata": {
        "id": "d5g12ONLb2Xw"
      },
      "id": "d5g12ONLb2Xw",
      "execution_count": 91,
      "outputs": []
    },
    {
      "cell_type": "code",
      "source": [
        "plot_data()"
      ],
      "metadata": {
        "colab": {
          "base_uri": "https://localhost:8080/",
          "height": 676
        },
        "id": "4IOq34pdcWai",
        "outputId": "41b9758a-2452-4fb6-f696-bd8e3763b2fd"
      },
      "id": "4IOq34pdcWai",
      "execution_count": 92,
      "outputs": [
        {
          "output_type": "display_data",
          "data": {
            "text/plain": [
              "<Figure size 1000x800 with 1 Axes>"
            ],
            "image/png": "[encoded data removed]"
          },
          "metadata": {}
        }
      ]
    },
    {
      "cell_type": "code",
      "source": [
        "class LinearModelEx(nn.Module):\n",
        "  def __init__(self):\n",
        "    super().__init__()\n",
        "    self.weights = nn.Parameter(torch.randn(1,requires_grad=True,dtype=torch.float32))\n",
        "    self.bias = nn.Parameter(torch.randn(1,requires_grad=True,dtype=torch.float32))\n",
        "\n",
        "  def forward(self,x:torch.Tensor):\n",
        "    return self.weights*x+self.bias\n"
      ],
      "metadata": {
        "id": "2eL7tzgOcbHI"
      },
      "id": "2eL7tzgOcbHI",
      "execution_count": 93,
      "outputs": []
    },
    {
      "cell_type": "code",
      "source": [
        "torch.randn(1,requires_grad=True,dtype=torch.float32)"
      ],
      "metadata": {
        "colab": {
          "base_uri": "https://localhost:8080/"
        },
        "id": "FwQJHi37elsS",
        "outputId": "6a8e0ca6-4395-4e10-a809-f67be2b42aed"
      },
      "id": "FwQJHi37elsS",
      "execution_count": 64,
      "outputs": [
        {
          "output_type": "execute_result",
          "data": {
            "text/plain": [
              "tensor([-1.6898], requires_grad=True)"
            ]
          },
          "metadata": {},
          "execution_count": 64
        }
      ]
    },
    {
      "cell_type": "code",
      "source": [
        "model_ex = LinearModelEx()"
      ],
      "metadata": {
        "id": "eh_bThQ8enBz"
      },
      "id": "eh_bThQ8enBz",
      "execution_count": 71,
      "outputs": []
    },
    {
      "cell_type": "code",
      "source": [
        "model_ex.parameters()"
      ],
      "metadata": {
        "colab": {
          "base_uri": "https://localhost:8080/"
        },
        "id": "PRa0XUrNf2Mm",
        "outputId": "66de9b6f-97ae-4b34-9c8e-05cb046ea813"
      },
      "id": "PRa0XUrNf2Mm",
      "execution_count": 75,
      "outputs": [
        {
          "output_type": "execute_result",
          "data": {
            "text/plain": [
              "<generator object Module.parameters at 0x795f9281de70>"
            ]
          },
          "metadata": {},
          "execution_count": 75
        }
      ]
    },
    {
      "cell_type": "code",
      "source": [
        "loss = nn.L1Loss()\n",
        "optim = torch.optim.SGD(params=model_ex.parameters(),lr=0.001)"
      ],
      "metadata": {
        "id": "SPWh_kkngMqn"
      },
      "id": "SPWh_kkngMqn",
      "execution_count": 76,
      "outputs": []
    },
    {
      "cell_type": "code",
      "source": [
        "if torch.cuda.is_available()==True:\n",
        "  device = torch.device(\"cuda\")\n",
        "else:\n",
        "  device = torch.device(\"cpu\")\n",
        ""
      ],
      "metadata": {
        "id": "onfWsS04gy2X"
      },
      "id": "onfWsS04gy2X",
      "execution_count": null,
      "outputs": []
    },
    {
      "cell_type": "code",
      "source": [
        "model_ex = model.to(device)"
      ],
      "metadata": {
        "id": "OhFAHTtrg44G"
      },
      "id": "OhFAHTtrg44G",
      "execution_count": 77,
      "outputs": []
    },
    {
      "cell_type": "code",
      "source": [
        "model.state_dict()"
      ],
      "metadata": {
        "colab": {
          "base_uri": "https://localhost:8080/"
        },
        "id": "crshS_NCg7Kv",
        "outputId": "7831797b-1d28-4e41-903b-fbfa59afb4ce"
      },
      "id": "crshS_NCg7Kv",
      "execution_count": 78,
      "outputs": [
        {
          "output_type": "execute_result",
          "data": {
            "text/plain": [
              "OrderedDict([('linear_layer.weight', tensor([[0.6968]], device='cuda:0')),\n",
              "             ('linear_layer.bias', tensor([0.3025], device='cuda:0'))])"
            ]
          },
          "metadata": {},
          "execution_count": 78
        }
      ]
    },
    {
      "cell_type": "code",
      "source": [
        "import numpy as np"
      ],
      "metadata": {
        "id": "brweIdiwjh15"
      },
      "id": "brweIdiwjh15",
      "execution_count": 82,
      "outputs": []
    },
    {
      "cell_type": "code",
      "source": [
        "def plot_loss(loss_track,test_loss_track,epoch_count):\n",
        "  plt.plot(epoch_count,loss_track,label=\"Train loss\")\n",
        "  plt.plot(epoch_count,test_loss_track,label=\"Test loss\")\n",
        "  # plt.title(\"Test loss curve\")\n",
        "  plt.title(\"Training and test loss curves\")\n",
        "  plt.ylabel(\"loss\")\n",
        "  plt.xlabel(\"Epoch\")\n",
        "  plt.legend()"
      ],
      "metadata": {
        "id": "pL99fx96jsqs"
      },
      "id": "pL99fx96jsqs",
      "execution_count": 98,
      "outputs": []
    },
    {
      "cell_type": "code",
      "source": [
        "epochs = 300\n",
        "X_train, X_test, y_train, y_test = X_train.to(device), X_test.to(device), y_train.to(device), y_test.to(device)\n",
        "train_l = []\n",
        "test_l = []\n",
        "epoch_count = []\n",
        "for epoch in range(epochs):\n",
        "  model_ex.train()\n",
        "  y_preds = model_ex(X_train)\n",
        "  train_loss = loss(y_preds,y_train)\n",
        "  optim.zero_grad()\n",
        "  train_loss.backward()\n",
        "  optim.step()\n",
        "  model_ex.eval()\n",
        "  train_l.append(train_loss)\n",
        "  if epoch%20==0:\n",
        "    with torch.no_grad():\n",
        "      model_ex.eval()\n",
        "      test_preds = model_ex(X_test)\n",
        "      test_loss = loss(y_test,test_preds)\n",
        "      test_l.append(test_loss)\n",
        "    epoch_count.append(epoch)\n",
        "    train_l.append(train_loss)\n",
        "    test_l.append(test_loss)\n",
        "\n",
        "\n"
      ],
      "metadata": {
        "id": "mQMchu2Fgg8K"
      },
      "id": "mQMchu2Fgg8K",
      "execution_count": 95,
      "outputs": []
    },
    {
      "cell_type": "code",
      "source": [
        "print(train_l)"
      ],
      "metadata": {
        "colab": {
          "base_uri": "https://localhost:8080/"
        },
        "id": "QglujXh1hELo",
        "outputId": "e41156a0-9b39-4af3-f487-db69527dc288"
      },
      "id": "QglujXh1hELo",
      "execution_count": 96,
      "outputs": [
        {
          "output_type": "stream",
          "name": "stdout",
          "text": [
            "[tensor(0.3953, device='cuda:0', grad_fn=<MeanBackward0>), tensor(0.3953, device='cuda:0', grad_fn=<MeanBackward0>), tensor(0.3953, device='cuda:0', grad_fn=<MeanBackward0>), tensor(0.3953, device='cuda:0', grad_fn=<MeanBackward0>), tensor(0.3953, device='cuda:0', grad_fn=<MeanBackward0>), tensor(0.3953, device='cuda:0', grad_fn=<MeanBackward0>), tensor(0.3953, device='cuda:0', grad_fn=<MeanBackward0>), tensor(0.3953, device='cuda:0', grad_fn=<MeanBackward0>), tensor(0.3953, device='cuda:0', grad_fn=<MeanBackward0>), tensor(0.3953, device='cuda:0', grad_fn=<MeanBackward0>), tensor(0.3953, device='cuda:0', grad_fn=<MeanBackward0>), tensor(0.3953, device='cuda:0', grad_fn=<MeanBackward0>), tensor(0.3953, device='cuda:0', grad_fn=<MeanBackward0>), tensor(0.3953, device='cuda:0', grad_fn=<MeanBackward0>), tensor(0.3953, device='cuda:0', grad_fn=<MeanBackward0>), tensor(0.3953, device='cuda:0', grad_fn=<MeanBackward0>), tensor(0.3953, device='cuda:0', grad_fn=<MeanBackward0>), tensor(0.3953, device='cuda:0', grad_fn=<MeanBackward0>), tensor(0.3953, device='cuda:0', grad_fn=<MeanBackward0>), tensor(0.3953, device='cuda:0', grad_fn=<MeanBackward0>), tensor(0.3953, device='cuda:0', grad_fn=<MeanBackward0>), tensor(0.3953, device='cuda:0', grad_fn=<MeanBackward0>), tensor(0.3953, device='cuda:0', grad_fn=<MeanBackward0>), tensor(0.3953, device='cuda:0', grad_fn=<MeanBackward0>), tensor(0.3953, device='cuda:0', grad_fn=<MeanBackward0>), tensor(0.3953, device='cuda:0', grad_fn=<MeanBackward0>), tensor(0.3953, device='cuda:0', grad_fn=<MeanBackward0>), tensor(0.3953, device='cuda:0', grad_fn=<MeanBackward0>), tensor(0.3953, device='cuda:0', grad_fn=<MeanBackward0>), tensor(0.3953, device='cuda:0', grad_fn=<MeanBackward0>), tensor(0.3953, device='cuda:0', grad_fn=<MeanBackward0>), tensor(0.3953, device='cuda:0', grad_fn=<MeanBackward0>), tensor(0.3953, device='cuda:0', grad_fn=<MeanBackward0>), tensor(0.3953, device='cuda:0', grad_fn=<MeanBackward0>), tensor(0.3953, device='cuda:0', grad_fn=<MeanBackward0>), tensor(0.3953, device='cuda:0', grad_fn=<MeanBackward0>), tensor(0.3953, device='cuda:0', grad_fn=<MeanBackward0>), tensor(0.3953, device='cuda:0', grad_fn=<MeanBackward0>), tensor(0.3953, device='cuda:0', grad_fn=<MeanBackward0>), tensor(0.3953, device='cuda:0', grad_fn=<MeanBackward0>), tensor(0.3953, device='cuda:0', grad_fn=<MeanBackward0>), tensor(0.3953, device='cuda:0', grad_fn=<MeanBackward0>), tensor(0.3953, device='cuda:0', grad_fn=<MeanBackward0>), tensor(0.3953, device='cuda:0', grad_fn=<MeanBackward0>), tensor(0.3953, device='cuda:0', grad_fn=<MeanBackward0>), tensor(0.3953, device='cuda:0', grad_fn=<MeanBackward0>), tensor(0.3953, device='cuda:0', grad_fn=<MeanBackward0>), tensor(0.3953, device='cuda:0', grad_fn=<MeanBackward0>), tensor(0.3953, device='cuda:0', grad_fn=<MeanBackward0>), tensor(0.3953, device='cuda:0', grad_fn=<MeanBackward0>), tensor(0.3953, device='cuda:0', grad_fn=<MeanBackward0>), tensor(0.3953, device='cuda:0', grad_fn=<MeanBackward0>), tensor(0.3953, device='cuda:0', grad_fn=<MeanBackward0>), tensor(0.3953, device='cuda:0', grad_fn=<MeanBackward0>), tensor(0.3953, device='cuda:0', grad_fn=<MeanBackward0>), tensor(0.3953, device='cuda:0', grad_fn=<MeanBackward0>), tensor(0.3953, device='cuda:0', grad_fn=<MeanBackward0>), tensor(0.3953, device='cuda:0', grad_fn=<MeanBackward0>), tensor(0.3953, device='cuda:0', grad_fn=<MeanBackward0>), tensor(0.3953, device='cuda:0', grad_fn=<MeanBackward0>), tensor(0.3953, device='cuda:0', grad_fn=<MeanBackward0>), tensor(0.3953, device='cuda:0', grad_fn=<MeanBackward0>), tensor(0.3953, device='cuda:0', grad_fn=<MeanBackward0>), tensor(0.3953, device='cuda:0', grad_fn=<MeanBackward0>), tensor(0.3953, device='cuda:0', grad_fn=<MeanBackward0>), tensor(0.3953, device='cuda:0', grad_fn=<MeanBackward0>), tensor(0.3953, device='cuda:0', grad_fn=<MeanBackward0>), tensor(0.3953, device='cuda:0', grad_fn=<MeanBackward0>), tensor(0.3953, device='cuda:0', grad_fn=<MeanBackward0>), tensor(0.3953, device='cuda:0', grad_fn=<MeanBackward0>), tensor(0.3953, device='cuda:0', grad_fn=<MeanBackward0>), tensor(0.3953, device='cuda:0', grad_fn=<MeanBackward0>), tensor(0.3953, device='cuda:0', grad_fn=<MeanBackward0>), tensor(0.3953, device='cuda:0', grad_fn=<MeanBackward0>), tensor(0.3953, device='cuda:0', grad_fn=<MeanBackward0>), tensor(0.3953, device='cuda:0', grad_fn=<MeanBackward0>), tensor(0.3953, device='cuda:0', grad_fn=<MeanBackward0>), tensor(0.3953, device='cuda:0', grad_fn=<MeanBackward0>), tensor(0.3953, device='cuda:0', grad_fn=<MeanBackward0>), tensor(0.3953, device='cuda:0', grad_fn=<MeanBackward0>), tensor(0.3953, device='cuda:0', grad_fn=<MeanBackward0>), tensor(0.3953, device='cuda:0', grad_fn=<MeanBackward0>), tensor(0.3953, device='cuda:0', grad_fn=<MeanBackward0>), tensor(0.3953, device='cuda:0', grad_fn=<MeanBackward0>), tensor(0.3953, device='cuda:0', grad_fn=<MeanBackward0>), tensor(0.3953, device='cuda:0', grad_fn=<MeanBackward0>), tensor(0.3953, device='cuda:0', grad_fn=<MeanBackward0>), tensor(0.3953, device='cuda:0', grad_fn=<MeanBackward0>), tensor(0.3953, device='cuda:0', grad_fn=<MeanBackward0>), tensor(0.3953, device='cuda:0', grad_fn=<MeanBackward0>), tensor(0.3953, device='cuda:0', grad_fn=<MeanBackward0>), tensor(0.3953, device='cuda:0', grad_fn=<MeanBackward0>), tensor(0.3953, device='cuda:0', grad_fn=<MeanBackward0>), tensor(0.3953, device='cuda:0', grad_fn=<MeanBackward0>), tensor(0.3953, device='cuda:0', grad_fn=<MeanBackward0>), tensor(0.3953, device='cuda:0', grad_fn=<MeanBackward0>), tensor(0.3953, device='cuda:0', grad_fn=<MeanBackward0>), tensor(0.3953, device='cuda:0', grad_fn=<MeanBackward0>), tensor(0.3953, device='cuda:0', grad_fn=<MeanBackward0>), tensor(0.3953, device='cuda:0', grad_fn=<MeanBackward0>), tensor(0.3953, device='cuda:0', grad_fn=<MeanBackward0>), tensor(0.3953, device='cuda:0', grad_fn=<MeanBackward0>), tensor(0.3953, device='cuda:0', grad_fn=<MeanBackward0>), tensor(0.3953, device='cuda:0', grad_fn=<MeanBackward0>), tensor(0.3953, device='cuda:0', grad_fn=<MeanBackward0>), tensor(0.3953, device='cuda:0', grad_fn=<MeanBackward0>), tensor(0.3953, device='cuda:0', grad_fn=<MeanBackward0>), tensor(0.3953, device='cuda:0', grad_fn=<MeanBackward0>), tensor(0.3953, device='cuda:0', grad_fn=<MeanBackward0>), tensor(0.3953, device='cuda:0', grad_fn=<MeanBackward0>), tensor(0.3953, device='cuda:0', grad_fn=<MeanBackward0>), tensor(0.3953, device='cuda:0', grad_fn=<MeanBackward0>), tensor(0.3953, device='cuda:0', grad_fn=<MeanBackward0>), tensor(0.3953, device='cuda:0', grad_fn=<MeanBackward0>), tensor(0.3953, device='cuda:0', grad_fn=<MeanBackward0>), tensor(0.3953, device='cuda:0', grad_fn=<MeanBackward0>), tensor(0.3953, device='cuda:0', grad_fn=<MeanBackward0>), tensor(0.3953, device='cuda:0', grad_fn=<MeanBackward0>), tensor(0.3953, device='cuda:0', grad_fn=<MeanBackward0>), tensor(0.3953, device='cuda:0', grad_fn=<MeanBackward0>), tensor(0.3953, device='cuda:0', grad_fn=<MeanBackward0>), tensor(0.3953, device='cuda:0', grad_fn=<MeanBackward0>), tensor(0.3953, device='cuda:0', grad_fn=<MeanBackward0>), tensor(0.3953, device='cuda:0', grad_fn=<MeanBackward0>), tensor(0.3953, device='cuda:0', grad_fn=<MeanBackward0>), tensor(0.3953, device='cuda:0', grad_fn=<MeanBackward0>), tensor(0.3953, device='cuda:0', grad_fn=<MeanBackward0>), tensor(0.3953, device='cuda:0', grad_fn=<MeanBackward0>), tensor(0.3953, device='cuda:0', grad_fn=<MeanBackward0>), tensor(0.3953, device='cuda:0', grad_fn=<MeanBackward0>), tensor(0.3953, device='cuda:0', grad_fn=<MeanBackward0>), tensor(0.3953, device='cuda:0', grad_fn=<MeanBackward0>), tensor(0.3953, device='cuda:0', grad_fn=<MeanBackward0>), tensor(0.3953, device='cuda:0', grad_fn=<MeanBackward0>), tensor(0.3953, device='cuda:0', grad_fn=<MeanBackward0>), tensor(0.3953, device='cuda:0', grad_fn=<MeanBackward0>), tensor(0.3953, device='cuda:0', grad_fn=<MeanBackward0>), tensor(0.3953, device='cuda:0', grad_fn=<MeanBackward0>), tensor(0.3953, device='cuda:0', grad_fn=<MeanBackward0>), tensor(0.3953, device='cuda:0', grad_fn=<MeanBackward0>), tensor(0.3953, device='cuda:0', grad_fn=<MeanBackward0>), tensor(0.3953, device='cuda:0', grad_fn=<MeanBackward0>), tensor(0.3953, device='cuda:0', grad_fn=<MeanBackward0>), tensor(0.3953, device='cuda:0', grad_fn=<MeanBackward0>), tensor(0.3953, device='cuda:0', grad_fn=<MeanBackward0>), tensor(0.3953, device='cuda:0', grad_fn=<MeanBackward0>), tensor(0.3953, device='cuda:0', grad_fn=<MeanBackward0>), tensor(0.3953, device='cuda:0', grad_fn=<MeanBackward0>), tensor(0.3953, device='cuda:0', grad_fn=<MeanBackward0>), tensor(0.3953, device='cuda:0', grad_fn=<MeanBackward0>), tensor(0.3953, device='cuda:0', grad_fn=<MeanBackward0>), tensor(0.3953, device='cuda:0', grad_fn=<MeanBackward0>), tensor(0.3953, device='cuda:0', grad_fn=<MeanBackward0>), tensor(0.3953, device='cuda:0', grad_fn=<MeanBackward0>), tensor(0.3953, device='cuda:0', grad_fn=<MeanBackward0>), tensor(0.3953, device='cuda:0', grad_fn=<MeanBackward0>), tensor(0.3953, device='cuda:0', grad_fn=<MeanBackward0>), tensor(0.3953, device='cuda:0', grad_fn=<MeanBackward0>), tensor(0.3953, device='cuda:0', grad_fn=<MeanBackward0>), tensor(0.3953, device='cuda:0', grad_fn=<MeanBackward0>), tensor(0.3953, device='cuda:0', grad_fn=<MeanBackward0>), tensor(0.3953, device='cuda:0', grad_fn=<MeanBackward0>), tensor(0.3953, device='cuda:0', grad_fn=<MeanBackward0>), tensor(0.3953, device='cuda:0', grad_fn=<MeanBackward0>), tensor(0.3953, device='cuda:0', grad_fn=<MeanBackward0>), tensor(0.3953, device='cuda:0', grad_fn=<MeanBackward0>), tensor(0.3953, device='cuda:0', grad_fn=<MeanBackward0>), tensor(0.3953, device='cuda:0', grad_fn=<MeanBackward0>), tensor(0.3953, device='cuda:0', grad_fn=<MeanBackward0>), tensor(0.3953, device='cuda:0', grad_fn=<MeanBackward0>), tensor(0.3953, device='cuda:0', grad_fn=<MeanBackward0>), tensor(0.3953, device='cuda:0', grad_fn=<MeanBackward0>), tensor(0.3953, device='cuda:0', grad_fn=<MeanBackward0>), tensor(0.3953, device='cuda:0', grad_fn=<MeanBackward0>), tensor(0.3953, device='cuda:0', grad_fn=<MeanBackward0>), tensor(0.3953, device='cuda:0', grad_fn=<MeanBackward0>), tensor(0.3953, device='cuda:0', grad_fn=<MeanBackward0>), tensor(0.3953, device='cuda:0', grad_fn=<MeanBackward0>), tensor(0.3953, device='cuda:0', grad_fn=<MeanBackward0>), tensor(0.3953, device='cuda:0', grad_fn=<MeanBackward0>), tensor(0.3953, device='cuda:0', grad_fn=<MeanBackward0>), tensor(0.3953, device='cuda:0', grad_fn=<MeanBackward0>), tensor(0.3953, device='cuda:0', grad_fn=<MeanBackward0>), tensor(0.3953, device='cuda:0', grad_fn=<MeanBackward0>), tensor(0.3953, device='cuda:0', grad_fn=<MeanBackward0>), tensor(0.3953, device='cuda:0', grad_fn=<MeanBackward0>), tensor(0.3953, device='cuda:0', grad_fn=<MeanBackward0>), tensor(0.3953, device='cuda:0', grad_fn=<MeanBackward0>), tensor(0.3953, device='cuda:0', grad_fn=<MeanBackward0>), tensor(0.3953, device='cuda:0', grad_fn=<MeanBackward0>), tensor(0.3953, device='cuda:0', grad_fn=<MeanBackward0>), tensor(0.3953, device='cuda:0', grad_fn=<MeanBackward0>), tensor(0.3953, device='cuda:0', grad_fn=<MeanBackward0>), tensor(0.3953, device='cuda:0', grad_fn=<MeanBackward0>), tensor(0.3953, device='cuda:0', grad_fn=<MeanBackward0>), tensor(0.3953, device='cuda:0', grad_fn=<MeanBackward0>), tensor(0.3953, device='cuda:0', grad_fn=<MeanBackward0>), tensor(0.3953, device='cuda:0', grad_fn=<MeanBackward0>), tensor(0.3953, device='cuda:0', grad_fn=<MeanBackward0>), tensor(0.3953, device='cuda:0', grad_fn=<MeanBackward0>), tensor(0.3953, device='cuda:0', grad_fn=<MeanBackward0>), tensor(0.3953, device='cuda:0', grad_fn=<MeanBackward0>), tensor(0.3953, device='cuda:0', grad_fn=<MeanBackward0>), tensor(0.3953, device='cuda:0', grad_fn=<MeanBackward0>), tensor(0.3953, device='cuda:0', grad_fn=<MeanBackward0>), tensor(0.3953, device='cuda:0', grad_fn=<MeanBackward0>), tensor(0.3953, device='cuda:0', grad_fn=<MeanBackward0>), tensor(0.3953, device='cuda:0', grad_fn=<MeanBackward0>), tensor(0.3953, device='cuda:0', grad_fn=<MeanBackward0>), tensor(0.3953, device='cuda:0', grad_fn=<MeanBackward0>), tensor(0.3953, device='cuda:0', grad_fn=<MeanBackward0>), tensor(0.3953, device='cuda:0', grad_fn=<MeanBackward0>), tensor(0.3953, device='cuda:0', grad_fn=<MeanBackward0>), tensor(0.3953, device='cuda:0', grad_fn=<MeanBackward0>), tensor(0.3953, device='cuda:0', grad_fn=<MeanBackward0>), tensor(0.3953, device='cuda:0', grad_fn=<MeanBackward0>), tensor(0.3953, device='cuda:0', grad_fn=<MeanBackward0>), tensor(0.3953, device='cuda:0', grad_fn=<MeanBackward0>), tensor(0.3953, device='cuda:0', grad_fn=<MeanBackward0>), tensor(0.3953, device='cuda:0', grad_fn=<MeanBackward0>), tensor(0.3953, device='cuda:0', grad_fn=<MeanBackward0>), tensor(0.3953, device='cuda:0', grad_fn=<MeanBackward0>), tensor(0.3953, device='cuda:0', grad_fn=<MeanBackward0>), tensor(0.3953, device='cuda:0', grad_fn=<MeanBackward0>), tensor(0.3953, device='cuda:0', grad_fn=<MeanBackward0>), tensor(0.3953, device='cuda:0', grad_fn=<MeanBackward0>), tensor(0.3953, device='cuda:0', grad_fn=<MeanBackward0>), tensor(0.3953, device='cuda:0', grad_fn=<MeanBackward0>), tensor(0.3953, device='cuda:0', grad_fn=<MeanBackward0>), tensor(0.3953, device='cuda:0', grad_fn=<MeanBackward0>), tensor(0.3953, device='cuda:0', grad_fn=<MeanBackward0>), tensor(0.3953, device='cuda:0', grad_fn=<MeanBackward0>), tensor(0.3953, device='cuda:0', grad_fn=<MeanBackward0>), tensor(0.3953, device='cuda:0', grad_fn=<MeanBackward0>), tensor(0.3953, device='cuda:0', grad_fn=<MeanBackward0>), tensor(0.3953, device='cuda:0', grad_fn=<MeanBackward0>), tensor(0.3953, device='cuda:0', grad_fn=<MeanBackward0>), tensor(0.3953, device='cuda:0', grad_fn=<MeanBackward0>), tensor(0.3953, device='cuda:0', grad_fn=<MeanBackward0>), tensor(0.3953, device='cuda:0', grad_fn=<MeanBackward0>), tensor(0.3953, device='cuda:0', grad_fn=<MeanBackward0>), tensor(0.3953, device='cuda:0', grad_fn=<MeanBackward0>), tensor(0.3953, device='cuda:0', grad_fn=<MeanBackward0>), tensor(0.3953, device='cuda:0', grad_fn=<MeanBackward0>), tensor(0.3953, device='cuda:0', grad_fn=<MeanBackward0>), tensor(0.3953, device='cuda:0', grad_fn=<MeanBackward0>), tensor(0.3953, device='cuda:0', grad_fn=<MeanBackward0>), tensor(0.3953, device='cuda:0', grad_fn=<MeanBackward0>), tensor(0.3953, device='cuda:0', grad_fn=<MeanBackward0>), tensor(0.3953, device='cuda:0', grad_fn=<MeanBackward0>), tensor(0.3953, device='cuda:0', grad_fn=<MeanBackward0>), tensor(0.3953, device='cuda:0', grad_fn=<MeanBackward0>), tensor(0.3953, device='cuda:0', grad_fn=<MeanBackward0>), tensor(0.3953, device='cuda:0', grad_fn=<MeanBackward0>), tensor(0.3953, device='cuda:0', grad_fn=<MeanBackward0>), tensor(0.3953, device='cuda:0', grad_fn=<MeanBackward0>), tensor(0.3953, device='cuda:0', grad_fn=<MeanBackward0>), tensor(0.3953, device='cuda:0', grad_fn=<MeanBackward0>), tensor(0.3953, device='cuda:0', grad_fn=<MeanBackward0>), tensor(0.3953, device='cuda:0', grad_fn=<MeanBackward0>), tensor(0.3953, device='cuda:0', grad_fn=<MeanBackward0>), tensor(0.3953, device='cuda:0', grad_fn=<MeanBackward0>), tensor(0.3953, device='cuda:0', grad_fn=<MeanBackward0>), tensor(0.3953, device='cuda:0', grad_fn=<MeanBackward0>), tensor(0.3953, device='cuda:0', grad_fn=<MeanBackward0>), tensor(0.3953, device='cuda:0', grad_fn=<MeanBackward0>), tensor(0.3953, device='cuda:0', grad_fn=<MeanBackward0>), tensor(0.3953, device='cuda:0', grad_fn=<MeanBackward0>), tensor(0.3953, device='cuda:0', grad_fn=<MeanBackward0>), tensor(0.3953, device='cuda:0', grad_fn=<MeanBackward0>), tensor(0.3953, device='cuda:0', grad_fn=<MeanBackward0>), tensor(0.3953, device='cuda:0', grad_fn=<MeanBackward0>), tensor(0.3953, device='cuda:0', grad_fn=<MeanBackward0>), tensor(0.3953, device='cuda:0', grad_fn=<MeanBackward0>), tensor(0.3953, device='cuda:0', grad_fn=<MeanBackward0>), tensor(0.3953, device='cuda:0', grad_fn=<MeanBackward0>), tensor(0.3953, device='cuda:0', grad_fn=<MeanBackward0>), tensor(0.3953, device='cuda:0', grad_fn=<MeanBackward0>), tensor(0.3953, device='cuda:0', grad_fn=<MeanBackward0>), tensor(0.3953, device='cuda:0', grad_fn=<MeanBackward0>), tensor(0.3953, device='cuda:0', grad_fn=<MeanBackward0>), tensor(0.3953, device='cuda:0', grad_fn=<MeanBackward0>), tensor(0.3953, device='cuda:0', grad_fn=<MeanBackward0>), tensor(0.3953, device='cuda:0', grad_fn=<MeanBackward0>), tensor(0.3953, device='cuda:0', grad_fn=<MeanBackward0>), tensor(0.3953, device='cuda:0', grad_fn=<MeanBackward0>), tensor(0.3953, device='cuda:0', grad_fn=<MeanBackward0>), tensor(0.3953, device='cuda:0', grad_fn=<MeanBackward0>), tensor(0.3953, device='cuda:0', grad_fn=<MeanBackward0>), tensor(0.3953, device='cuda:0', grad_fn=<MeanBackward0>), tensor(0.3953, device='cuda:0', grad_fn=<MeanBackward0>), tensor(0.3953, device='cuda:0', grad_fn=<MeanBackward0>), tensor(0.3953, device='cuda:0', grad_fn=<MeanBackward0>), tensor(0.3953, device='cuda:0', grad_fn=<MeanBackward0>), tensor(0.3953, device='cuda:0', grad_fn=<MeanBackward0>), tensor(0.3953, device='cuda:0', grad_fn=<MeanBackward0>), tensor(0.3953, device='cuda:0', grad_fn=<MeanBackward0>), tensor(0.3953, device='cuda:0', grad_fn=<MeanBackward0>), tensor(0.3953, device='cuda:0', grad_fn=<MeanBackward0>), tensor(0.3953, device='cuda:0', grad_fn=<MeanBackward0>), tensor(0.3953, device='cuda:0', grad_fn=<MeanBackward0>), tensor(0.3953, device='cuda:0', grad_fn=<MeanBackward0>), tensor(0.3953, device='cuda:0', grad_fn=<MeanBackward0>), tensor(0.3953, device='cuda:0', grad_fn=<MeanBackward0>), tensor(0.3953, device='cuda:0', grad_fn=<MeanBackward0>), tensor(0.3953, device='cuda:0', grad_fn=<MeanBackward0>), tensor(0.3953, device='cuda:0', grad_fn=<MeanBackward0>), tensor(0.3953, device='cuda:0', grad_fn=<MeanBackward0>), tensor(0.3953, device='cuda:0', grad_fn=<MeanBackward0>), tensor(0.3953, device='cuda:0', grad_fn=<MeanBackward0>), tensor(0.3953, device='cuda:0', grad_fn=<MeanBackward0>), tensor(0.3953, device='cuda:0', grad_fn=<MeanBackward0>), tensor(0.3953, device='cuda:0', grad_fn=<MeanBackward0>), tensor(0.3953, device='cuda:0', grad_fn=<MeanBackward0>), tensor(0.3953, device='cuda:0', grad_fn=<MeanBackward0>)]\n"
          ]
        }
      ]
    },
    {
      "cell_type": "code",
      "source": [
        "plot_loss(train_l,test_l,epoch_count)"
      ],
      "metadata": {
        "colab": {
          "base_uri": "https://localhost:8080/",
          "height": 746
        },
        "id": "LR0PVtkfktHl",
        "outputId": "d44754cb-f92e-4af8-d667-3d15685733e7"
      },
      "id": "LR0PVtkfktHl",
      "execution_count": 100,
      "outputs": [
        {
          "output_type": "error",
          "ename": "TypeError",
          "evalue": "ignored",
          "traceback": [
            "\u001b[0;31m---------------------------------------------------------------------------\u001b[0m",
            "\u001b[0;31mTypeError\u001b[0m                                 Traceback (most recent call last)",
            "\u001b[0;32m<ipython-input-100-3518d42cf723>\u001b[0m in \u001b[0;36m<cell line: 1>\u001b[0;34m()\u001b[0m\n\u001b[0;32m----> 1\u001b[0;31m \u001b[0mplot_loss\u001b[0m\u001b[0;34m(\u001b[0m\u001b[0mtrain_l\u001b[0m\u001b[0;34m,\u001b[0m\u001b[0mtest_l\u001b[0m\u001b[0;34m,\u001b[0m\u001b[0mepoch_count\u001b[0m\u001b[0;34m)\u001b[0m\u001b[0;34m\u001b[0m\u001b[0;34m\u001b[0m\u001b[0m\n\u001b[0m",
            "\u001b[0;32m<ipython-input-98-73d68f279dbe>\u001b[0m in \u001b[0;36mplot_loss\u001b[0;34m(loss_track, test_loss_track, epoch_count)\u001b[0m\n\u001b[1;32m      1\u001b[0m \u001b[0;32mdef\u001b[0m \u001b[0mplot_loss\u001b[0m\u001b[0;34m(\u001b[0m\u001b[0mloss_track\u001b[0m\u001b[0;34m,\u001b[0m\u001b[0mtest_loss_track\u001b[0m\u001b[0;34m,\u001b[0m\u001b[0mepoch_count\u001b[0m\u001b[0;34m)\u001b[0m\u001b[0;34m:\u001b[0m\u001b[0;34m\u001b[0m\u001b[0;34m\u001b[0m\u001b[0m\n\u001b[0;32m----> 2\u001b[0;31m   \u001b[0mplt\u001b[0m\u001b[0;34m.\u001b[0m\u001b[0mplot\u001b[0m\u001b[0;34m(\u001b[0m\u001b[0mepoch_count\u001b[0m\u001b[0;34m,\u001b[0m\u001b[0mloss_track\u001b[0m\u001b[0;34m,\u001b[0m\u001b[0mlabel\u001b[0m\u001b[0;34m=\u001b[0m\u001b[0;34m\"Train loss\"\u001b[0m\u001b[0;34m)\u001b[0m\u001b[0;34m\u001b[0m\u001b[0;34m\u001b[0m\u001b[0m\n\u001b[0m\u001b[1;32m      3\u001b[0m   \u001b[0mplt\u001b[0m\u001b[0;34m.\u001b[0m\u001b[0mplot\u001b[0m\u001b[0;34m(\u001b[0m\u001b[0mepoch_count\u001b[0m\u001b[0;34m,\u001b[0m\u001b[0mtest_loss_track\u001b[0m\u001b[0;34m,\u001b[0m\u001b[0mlabel\u001b[0m\u001b[0;34m=\u001b[0m\u001b[0;34m\"Test loss\"\u001b[0m\u001b[0;34m)\u001b[0m\u001b[0;34m\u001b[0m\u001b[0;34m\u001b[0m\u001b[0m\n\u001b[1;32m      4\u001b[0m   \u001b[0;31m# plt.title(\"Test loss curve\")\u001b[0m\u001b[0;34m\u001b[0m\u001b[0;34m\u001b[0m\u001b[0m\n\u001b[1;32m      5\u001b[0m   \u001b[0mplt\u001b[0m\u001b[0;34m.\u001b[0m\u001b[0mtitle\u001b[0m\u001b[0;34m(\u001b[0m\u001b[0;34m\"Training and test loss curves\"\u001b[0m\u001b[0;34m)\u001b[0m\u001b[0;34m\u001b[0m\u001b[0;34m\u001b[0m\u001b[0m\n",
            "\u001b[0;32m/usr/local/lib/python3.10/dist-packages/matplotlib/pyplot.py\u001b[0m in \u001b[0;36mplot\u001b[0;34m(scalex, scaley, data, *args, **kwargs)\u001b[0m\n\u001b[1;32m   2810\u001b[0m \u001b[0;34m@\u001b[0m\u001b[0m_copy_docstring_and_deprecators\u001b[0m\u001b[0;34m(\u001b[0m\u001b[0mAxes\u001b[0m\u001b[0;34m.\u001b[0m\u001b[0mplot\u001b[0m\u001b[0;34m)\u001b[0m\u001b[0;34m\u001b[0m\u001b[0;34m\u001b[0m\u001b[0m\n\u001b[1;32m   2811\u001b[0m \u001b[0;32mdef\u001b[0m \u001b[0mplot\u001b[0m\u001b[0;34m(\u001b[0m\u001b[0;34m*\u001b[0m\u001b[0margs\u001b[0m\u001b[0;34m,\u001b[0m \u001b[0mscalex\u001b[0m\u001b[0;34m=\u001b[0m\u001b[0;32mTrue\u001b[0m\u001b[0;34m,\u001b[0m \u001b[0mscaley\u001b[0m\u001b[0;34m=\u001b[0m\u001b[0;32mTrue\u001b[0m\u001b[0;34m,\u001b[0m \u001b[0mdata\u001b[0m\u001b[0;34m=\u001b[0m\u001b[0;32mNone\u001b[0m\u001b[0;34m,\u001b[0m \u001b[0;34m**\u001b[0m\u001b[0mkwargs\u001b[0m\u001b[0;34m)\u001b[0m\u001b[0;34m:\u001b[0m\u001b[0;34m\u001b[0m\u001b[0;34m\u001b[0m\u001b[0m\n\u001b[0;32m-> 2812\u001b[0;31m     return gca().plot(\n\u001b[0m\u001b[1;32m   2813\u001b[0m         \u001b[0;34m*\u001b[0m\u001b[0margs\u001b[0m\u001b[0;34m,\u001b[0m \u001b[0mscalex\u001b[0m\u001b[0;34m=\u001b[0m\u001b[0mscalex\u001b[0m\u001b[0;34m,\u001b[0m \u001b[0mscaley\u001b[0m\u001b[0;34m=\u001b[0m\u001b[0mscaley\u001b[0m\u001b[0;34m,\u001b[0m\u001b[0;34m\u001b[0m\u001b[0;34m\u001b[0m\u001b[0m\n\u001b[1;32m   2814\u001b[0m         **({\"data\": data} if data is not None else {}), **kwargs)\n",
            "\u001b[0;32m/usr/local/lib/python3.10/dist-packages/matplotlib/axes/_axes.py\u001b[0m in \u001b[0;36mplot\u001b[0;34m(self, scalex, scaley, data, *args, **kwargs)\u001b[0m\n\u001b[1;32m   1686\u001b[0m         \"\"\"\n\u001b[1;32m   1687\u001b[0m         \u001b[0mkwargs\u001b[0m \u001b[0;34m=\u001b[0m \u001b[0mcbook\u001b[0m\u001b[0;34m.\u001b[0m\u001b[0mnormalize_kwargs\u001b[0m\u001b[0;34m(\u001b[0m\u001b[0mkwargs\u001b[0m\u001b[0;34m,\u001b[0m \u001b[0mmlines\u001b[0m\u001b[0;34m.\u001b[0m\u001b[0mLine2D\u001b[0m\u001b[0;34m)\u001b[0m\u001b[0;34m\u001b[0m\u001b[0;34m\u001b[0m\u001b[0m\n\u001b[0;32m-> 1688\u001b[0;31m         \u001b[0mlines\u001b[0m \u001b[0;34m=\u001b[0m \u001b[0;34m[\u001b[0m\u001b[0;34m*\u001b[0m\u001b[0mself\u001b[0m\u001b[0;34m.\u001b[0m\u001b[0m_get_lines\u001b[0m\u001b[0;34m(\u001b[0m\u001b[0;34m*\u001b[0m\u001b[0margs\u001b[0m\u001b[0;34m,\u001b[0m \u001b[0mdata\u001b[0m\u001b[0;34m=\u001b[0m\u001b[0mdata\u001b[0m\u001b[0;34m,\u001b[0m \u001b[0;34m**\u001b[0m\u001b[0mkwargs\u001b[0m\u001b[0;34m)\u001b[0m\u001b[0;34m]\u001b[0m\u001b[0;34m\u001b[0m\u001b[0;34m\u001b[0m\u001b[0m\n\u001b[0m\u001b[1;32m   1689\u001b[0m         \u001b[0;32mfor\u001b[0m \u001b[0mline\u001b[0m \u001b[0;32min\u001b[0m \u001b[0mlines\u001b[0m\u001b[0;34m:\u001b[0m\u001b[0;34m\u001b[0m\u001b[0;34m\u001b[0m\u001b[0m\n\u001b[1;32m   1690\u001b[0m             \u001b[0mself\u001b[0m\u001b[0;34m.\u001b[0m\u001b[0madd_line\u001b[0m\u001b[0;34m(\u001b[0m\u001b[0mline\u001b[0m\u001b[0;34m)\u001b[0m\u001b[0;34m\u001b[0m\u001b[0;34m\u001b[0m\u001b[0m\n",
            "\u001b[0;32m/usr/local/lib/python3.10/dist-packages/matplotlib/axes/_base.py\u001b[0m in \u001b[0;36m__call__\u001b[0;34m(self, data, *args, **kwargs)\u001b[0m\n\u001b[1;32m    309\u001b[0m                 \u001b[0mthis\u001b[0m \u001b[0;34m+=\u001b[0m \u001b[0margs\u001b[0m\u001b[0;34m[\u001b[0m\u001b[0;36m0\u001b[0m\u001b[0;34m]\u001b[0m\u001b[0;34m,\u001b[0m\u001b[0;34m\u001b[0m\u001b[0;34m\u001b[0m\u001b[0m\n\u001b[1;32m    310\u001b[0m                 \u001b[0margs\u001b[0m \u001b[0;34m=\u001b[0m \u001b[0margs\u001b[0m\u001b[0;34m[\u001b[0m\u001b[0;36m1\u001b[0m\u001b[0;34m:\u001b[0m\u001b[0;34m]\u001b[0m\u001b[0;34m\u001b[0m\u001b[0;34m\u001b[0m\u001b[0m\n\u001b[0;32m--> 311\u001b[0;31m             yield from self._plot_args(\n\u001b[0m\u001b[1;32m    312\u001b[0m                 this, kwargs, ambiguous_fmt_datakey=ambiguous_fmt_datakey)\n\u001b[1;32m    313\u001b[0m \u001b[0;34m\u001b[0m\u001b[0m\n",
            "\u001b[0;32m/usr/local/lib/python3.10/dist-packages/matplotlib/axes/_base.py\u001b[0m in \u001b[0;36m_plot_args\u001b[0;34m(self, tup, kwargs, return_kwargs, ambiguous_fmt_datakey)\u001b[0m\n\u001b[1;32m    492\u001b[0m         \u001b[0;32mif\u001b[0m \u001b[0mlen\u001b[0m\u001b[0;34m(\u001b[0m\u001b[0mxy\u001b[0m\u001b[0;34m)\u001b[0m \u001b[0;34m==\u001b[0m \u001b[0;36m2\u001b[0m\u001b[0;34m:\u001b[0m\u001b[0;34m\u001b[0m\u001b[0;34m\u001b[0m\u001b[0m\n\u001b[1;32m    493\u001b[0m             \u001b[0mx\u001b[0m \u001b[0;34m=\u001b[0m \u001b[0m_check_1d\u001b[0m\u001b[0;34m(\u001b[0m\u001b[0mxy\u001b[0m\u001b[0;34m[\u001b[0m\u001b[0;36m0\u001b[0m\u001b[0;34m]\u001b[0m\u001b[0;34m)\u001b[0m\u001b[0;34m\u001b[0m\u001b[0;34m\u001b[0m\u001b[0m\n\u001b[0;32m--> 494\u001b[0;31m             \u001b[0my\u001b[0m \u001b[0;34m=\u001b[0m \u001b[0m_check_1d\u001b[0m\u001b[0;34m(\u001b[0m\u001b[0mxy\u001b[0m\u001b[0;34m[\u001b[0m\u001b[0;36m1\u001b[0m\u001b[0;34m]\u001b[0m\u001b[0;34m)\u001b[0m\u001b[0;34m\u001b[0m\u001b[0;34m\u001b[0m\u001b[0m\n\u001b[0m\u001b[1;32m    495\u001b[0m         \u001b[0;32melse\u001b[0m\u001b[0;34m:\u001b[0m\u001b[0;34m\u001b[0m\u001b[0;34m\u001b[0m\u001b[0m\n\u001b[1;32m    496\u001b[0m             \u001b[0mx\u001b[0m\u001b[0;34m,\u001b[0m \u001b[0my\u001b[0m \u001b[0;34m=\u001b[0m \u001b[0mindex_of\u001b[0m\u001b[0;34m(\u001b[0m\u001b[0mxy\u001b[0m\u001b[0;34m[\u001b[0m\u001b[0;34m-\u001b[0m\u001b[0;36m1\u001b[0m\u001b[0;34m]\u001b[0m\u001b[0;34m)\u001b[0m\u001b[0;34m\u001b[0m\u001b[0;34m\u001b[0m\u001b[0m\n",
            "\u001b[0;32m/usr/local/lib/python3.10/dist-packages/matplotlib/cbook/__init__.py\u001b[0m in \u001b[0;36m_check_1d\u001b[0;34m(x)\u001b[0m\n\u001b[1;32m   1346\u001b[0m             \u001b[0;32mnot\u001b[0m \u001b[0mhasattr\u001b[0m\u001b[0;34m(\u001b[0m\u001b[0mx\u001b[0m\u001b[0;34m,\u001b[0m \u001b[0;34m'ndim'\u001b[0m\u001b[0;34m)\u001b[0m \u001b[0;32mor\u001b[0m\u001b[0;34m\u001b[0m\u001b[0;34m\u001b[0m\u001b[0m\n\u001b[1;32m   1347\u001b[0m             len(x.shape) < 1):\n\u001b[0;32m-> 1348\u001b[0;31m         \u001b[0;32mreturn\u001b[0m \u001b[0mnp\u001b[0m\u001b[0;34m.\u001b[0m\u001b[0matleast_1d\u001b[0m\u001b[0;34m(\u001b[0m\u001b[0mx\u001b[0m\u001b[0;34m)\u001b[0m\u001b[0;34m\u001b[0m\u001b[0;34m\u001b[0m\u001b[0m\n\u001b[0m\u001b[1;32m   1349\u001b[0m     \u001b[0;32melse\u001b[0m\u001b[0;34m:\u001b[0m\u001b[0;34m\u001b[0m\u001b[0;34m\u001b[0m\u001b[0m\n\u001b[1;32m   1350\u001b[0m         \u001b[0;32mreturn\u001b[0m \u001b[0mx\u001b[0m\u001b[0;34m\u001b[0m\u001b[0;34m\u001b[0m\u001b[0m\n",
            "\u001b[0;32m/usr/local/lib/python3.10/dist-packages/numpy/core/overrides.py\u001b[0m in \u001b[0;36matleast_1d\u001b[0;34m(*args, **kwargs)\u001b[0m\n",
            "\u001b[0;32m/usr/local/lib/python3.10/dist-packages/numpy/core/shape_base.py\u001b[0m in \u001b[0;36matleast_1d\u001b[0;34m(*arys)\u001b[0m\n\u001b[1;32m     63\u001b[0m     \u001b[0mres\u001b[0m \u001b[0;34m=\u001b[0m \u001b[0;34m[\u001b[0m\u001b[0;34m]\u001b[0m\u001b[0;34m\u001b[0m\u001b[0;34m\u001b[0m\u001b[0m\n\u001b[1;32m     64\u001b[0m     \u001b[0;32mfor\u001b[0m \u001b[0mary\u001b[0m \u001b[0;32min\u001b[0m \u001b[0marys\u001b[0m\u001b[0;34m:\u001b[0m\u001b[0;34m\u001b[0m\u001b[0;34m\u001b[0m\u001b[0m\n\u001b[0;32m---> 65\u001b[0;31m         \u001b[0mary\u001b[0m \u001b[0;34m=\u001b[0m \u001b[0masanyarray\u001b[0m\u001b[0;34m(\u001b[0m\u001b[0mary\u001b[0m\u001b[0;34m)\u001b[0m\u001b[0;34m\u001b[0m\u001b[0;34m\u001b[0m\u001b[0m\n\u001b[0m\u001b[1;32m     66\u001b[0m         \u001b[0;32mif\u001b[0m \u001b[0mary\u001b[0m\u001b[0;34m.\u001b[0m\u001b[0mndim\u001b[0m \u001b[0;34m==\u001b[0m \u001b[0;36m0\u001b[0m\u001b[0;34m:\u001b[0m\u001b[0;34m\u001b[0m\u001b[0;34m\u001b[0m\u001b[0m\n\u001b[1;32m     67\u001b[0m             \u001b[0mresult\u001b[0m \u001b[0;34m=\u001b[0m \u001b[0mary\u001b[0m\u001b[0;34m.\u001b[0m\u001b[0mreshape\u001b[0m\u001b[0;34m(\u001b[0m\u001b[0;36m1\u001b[0m\u001b[0;34m)\u001b[0m\u001b[0;34m\u001b[0m\u001b[0;34m\u001b[0m\u001b[0m\n",
            "\u001b[0;32m/usr/local/lib/python3.10/dist-packages/torch/_tensor.py\u001b[0m in \u001b[0;36m__array__\u001b[0;34m(self, dtype)\u001b[0m\n\u001b[1;32m    968\u001b[0m             \u001b[0;32mreturn\u001b[0m \u001b[0mhandle_torch_function\u001b[0m\u001b[0;34m(\u001b[0m\u001b[0mTensor\u001b[0m\u001b[0;34m.\u001b[0m\u001b[0m__array__\u001b[0m\u001b[0;34m,\u001b[0m \u001b[0;34m(\u001b[0m\u001b[0mself\u001b[0m\u001b[0;34m,\u001b[0m\u001b[0;34m)\u001b[0m\u001b[0;34m,\u001b[0m \u001b[0mself\u001b[0m\u001b[0;34m,\u001b[0m \u001b[0mdtype\u001b[0m\u001b[0;34m=\u001b[0m\u001b[0mdtype\u001b[0m\u001b[0;34m)\u001b[0m\u001b[0;34m\u001b[0m\u001b[0;34m\u001b[0m\u001b[0m\n\u001b[1;32m    969\u001b[0m         \u001b[0;32mif\u001b[0m \u001b[0mdtype\u001b[0m \u001b[0;32mis\u001b[0m \u001b[0;32mNone\u001b[0m\u001b[0;34m:\u001b[0m\u001b[0;34m\u001b[0m\u001b[0;34m\u001b[0m\u001b[0m\n\u001b[0;32m--> 970\u001b[0;31m             \u001b[0;32mreturn\u001b[0m \u001b[0mself\u001b[0m\u001b[0;34m.\u001b[0m\u001b[0mnumpy\u001b[0m\u001b[0;34m(\u001b[0m\u001b[0;34m)\u001b[0m\u001b[0;34m\u001b[0m\u001b[0;34m\u001b[0m\u001b[0m\n\u001b[0m\u001b[1;32m    971\u001b[0m         \u001b[0;32melse\u001b[0m\u001b[0;34m:\u001b[0m\u001b[0;34m\u001b[0m\u001b[0;34m\u001b[0m\u001b[0m\n\u001b[1;32m    972\u001b[0m             \u001b[0;32mreturn\u001b[0m \u001b[0mself\u001b[0m\u001b[0;34m.\u001b[0m\u001b[0mnumpy\u001b[0m\u001b[0;34m(\u001b[0m\u001b[0;34m)\u001b[0m\u001b[0;34m.\u001b[0m\u001b[0mastype\u001b[0m\u001b[0;34m(\u001b[0m\u001b[0mdtype\u001b[0m\u001b[0;34m,\u001b[0m \u001b[0mcopy\u001b[0m\u001b[0;34m=\u001b[0m\u001b[0;32mFalse\u001b[0m\u001b[0;34m)\u001b[0m\u001b[0;34m\u001b[0m\u001b[0;34m\u001b[0m\u001b[0m\n",
            "\u001b[0;31mTypeError\u001b[0m: can't convert cuda:0 device type tensor to numpy. Use Tensor.cpu() to copy the tensor to host memory first."
          ]
        },
        {
          "output_type": "display_data",
          "data": {
            "text/plain": [
              "<Figure size 640x480 with 1 Axes>"
            ],
            "image/png": "[encoded data removed]"
          },
          "metadata": {}
        }
      ]
    },
    {
      "cell_type": "code",
      "source": [],
      "metadata": {
        "id": "d_Q9Pisxk772"
      },
      "id": "d_Q9Pisxk772",
      "execution_count": null,
      "outputs": []
    }
  ],
  "metadata": {
    "kernelspec": {
      "display_name": "Python 3",
      "name": "python3"
    },
    "language_info": {
      "codemirror_mode": {
        "name": "ipython",
        "version": 3
      },
      "file_extension": ".py",
      "mimetype": "text/x-python",
      "name": "python",
      "nbconvert_exporter": "python",
      "pygments_lexer": "ipython3",
      "version": "3.8.16"
    },
    "colab": {
      "provenance": [],
      "gpuType": "T4"
    },
    "accelerator": "GPU"
  },
  "nbformat": 4,
  "nbformat_minor": 5
}