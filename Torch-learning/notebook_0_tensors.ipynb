{
 "cells": [
  {
   "cell_type": "code",
   "execution_count": 1,
   "id": "222d6a5c",
   "metadata": {},
   "outputs": [
    {
     "name": "stdout",
     "output_type": "stream",
     "text": [
      "Intel MKL WARNING: Support of Intel(R) Streaming SIMD Extensions 4.2 (Intel(R) SSE4.2) enabled only processors has been deprecated. Intel oneAPI Math Kernel Library 2025.0 will require Intel(R) Advanced Vector Extensions (Intel(R) AVX) instructions.\n",
      "Intel MKL WARNING: Support of Intel(R) Streaming SIMD Extensions 4.2 (Intel(R) SSE4.2) enabled only processors has been deprecated. Intel oneAPI Math Kernel Library 2025.0 will require Intel(R) Advanced Vector Extensions (Intel(R) AVX) instructions.\n"
     ]
    }
   ],
   "source": [
    "import torch"
   ]
  },
  {
   "cell_type": "code",
   "execution_count": 2,
   "id": "acbf3d95",
   "metadata": {},
   "outputs": [
    {
     "data": {
      "text/plain": [
       "'2.0.1'"
      ]
     },
     "execution_count": 2,
     "metadata": {},
     "output_type": "execute_result"
    }
   ],
   "source": [
    "torch.__version__"
   ]
  },
  {
   "cell_type": "code",
   "execution_count": 3,
   "id": "5cec3520",
   "metadata": {},
   "outputs": [],
   "source": [
    "scaler = torch.tensor(2)"
   ]
  },
  {
   "cell_type": "code",
   "execution_count": 4,
   "id": "2abe492b",
   "metadata": {},
   "outputs": [
    {
     "data": {
      "text/plain": [
       "tensor(2)"
      ]
     },
     "execution_count": 4,
     "metadata": {},
     "output_type": "execute_result"
    }
   ],
   "source": [
    "scaler"
   ]
  },
  {
   "cell_type": "code",
   "execution_count": 5,
   "id": "3831eeb9",
   "metadata": {},
   "outputs": [
    {
     "data": {
      "text/plain": [
       "0"
      ]
     },
     "execution_count": 5,
     "metadata": {},
     "output_type": "execute_result"
    }
   ],
   "source": [
    "scaler.ndim"
   ]
  },
  {
   "cell_type": "code",
   "execution_count": 7,
   "id": "f43c76ca",
   "metadata": {},
   "outputs": [
    {
     "data": {
      "text/plain": [
       "2"
      ]
     },
     "execution_count": 7,
     "metadata": {},
     "output_type": "execute_result"
    }
   ],
   "source": [
    "#Get tensor back as python\n",
    "scaler.item()"
   ]
  },
  {
   "cell_type": "code",
   "execution_count": 8,
   "id": "e0d423d4",
   "metadata": {},
   "outputs": [],
   "source": [
    "vector = torch.tensor([7,7])"
   ]
  },
  {
   "cell_type": "code",
   "execution_count": 9,
   "id": "d5c579d0",
   "metadata": {},
   "outputs": [
    {
     "data": {
      "text/plain": [
       "tensor([7, 7])"
      ]
     },
     "execution_count": 9,
     "metadata": {},
     "output_type": "execute_result"
    }
   ],
   "source": [
    "vector"
   ]
  },
  {
   "cell_type": "code",
   "execution_count": 14,
   "id": "671115b9",
   "metadata": {},
   "outputs": [
    {
     "data": {
      "text/plain": [
       "1"
      ]
     },
     "execution_count": 14,
     "metadata": {},
     "output_type": "execute_result"
    }
   ],
   "source": [
    "vector.ndim #no.of pairs of closing square brackets"
   ]
  },
  {
   "cell_type": "code",
   "execution_count": 15,
   "id": "5344d624",
   "metadata": {},
   "outputs": [
    {
     "data": {
      "text/plain": [
       "torch.Size([2])"
      ]
     },
     "execution_count": 15,
     "metadata": {},
     "output_type": "execute_result"
    }
   ],
   "source": [
    "vector.shape #2*1 elements"
   ]
  },
  {
   "cell_type": "code",
   "execution_count": 16,
   "id": "4b56aac7",
   "metadata": {},
   "outputs": [],
   "source": [
    "matrix = torch.tensor([[1,2,],[3,4]])"
   ]
  },
  {
   "cell_type": "code",
   "execution_count": 22,
   "id": "6da2f0f4",
   "metadata": {},
   "outputs": [
    {
     "data": {
      "text/plain": [
       "2"
      ]
     },
     "execution_count": 22,
     "metadata": {},
     "output_type": "execute_result"
    }
   ],
   "source": [
    "matrix.ndim"
   ]
  },
  {
   "cell_type": "code",
   "execution_count": 21,
   "id": "4537a888",
   "metadata": {},
   "outputs": [
    {
     "data": {
      "text/plain": [
       "tensor([3, 4])"
      ]
     },
     "execution_count": 21,
     "metadata": {},
     "output_type": "execute_result"
    }
   ],
   "source": [
    "matrix[1]"
   ]
  },
  {
   "cell_type": "code",
   "execution_count": 23,
   "id": "c1d00c7b",
   "metadata": {},
   "outputs": [],
   "source": [
    "tensor = torch.tensor([[[1,2,3],[3,6,9],[2,4,5]]])"
   ]
  },
  {
   "cell_type": "code",
   "execution_count": 24,
   "id": "df403e03",
   "metadata": {},
   "outputs": [
    {
     "data": {
      "text/plain": [
       "tensor([[[1, 2, 3],\n",
       "         [3, 6, 9],\n",
       "         [2, 4, 5]]])"
      ]
     },
     "execution_count": 24,
     "metadata": {},
     "output_type": "execute_result"
    }
   ],
   "source": [
    "tensor"
   ]
  },
  {
   "cell_type": "code",
   "execution_count": 25,
   "id": "35680c03",
   "metadata": {},
   "outputs": [
    {
     "data": {
      "text/plain": [
       "3"
      ]
     },
     "execution_count": 25,
     "metadata": {},
     "output_type": "execute_result"
    }
   ],
   "source": [
    "tensor.ndim"
   ]
  },
  {
   "cell_type": "code",
   "execution_count": 26,
   "id": "1ab526bc",
   "metadata": {},
   "outputs": [
    {
     "data": {
      "text/plain": [
       "torch.Size([1, 3, 3])"
      ]
     },
     "execution_count": 26,
     "metadata": {},
     "output_type": "execute_result"
    }
   ],
   "source": [
    "tensor.shape"
   ]
  },
  {
   "cell_type": "code",
   "execution_count": 34,
   "id": "154a66e7",
   "metadata": {},
   "outputs": [
    {
     "data": {
      "text/plain": [
       "tensor(2)"
      ]
     },
     "execution_count": 34,
     "metadata": {},
     "output_type": "execute_result"
    }
   ],
   "source": [
    "tensor[0][0][1]"
   ]
  },
  {
   "cell_type": "markdown",
   "id": "4db9a8bc",
   "metadata": {},
   "source": [
    "### random tensors\n",
    "\n",
    "Why random tensors?\n",
    "\n",
    "Random tensors are important because the way neural networks learn is that they start with tensors full of random numbers and then adjust those random numbers to better represent the data."
   ]
  },
  {
   "cell_type": "code",
   "execution_count": 46,
   "id": "72493dcf",
   "metadata": {},
   "outputs": [],
   "source": [
    "# Create a random tensor of size (3,4)\n",
    "random_tensor = torch.rand(3,4)"
   ]
  },
  {
   "cell_type": "code",
   "execution_count": 47,
   "id": "94d26759",
   "metadata": {},
   "outputs": [
    {
     "data": {
      "text/plain": [
       "2"
      ]
     },
     "execution_count": 47,
     "metadata": {},
     "output_type": "execute_result"
    }
   ],
   "source": [
    "random_tensor.ndim"
   ]
  },
  {
   "cell_type": "code",
   "execution_count": 48,
   "id": "a437e43e",
   "metadata": {},
   "outputs": [],
   "source": [
    "#create a tensor with similar shape to an image tensor"
   ]
  },
  {
   "cell_type": "code",
   "execution_count": 53,
   "id": "a3fb3bd0",
   "metadata": {},
   "outputs": [],
   "source": [
    "random_image = torch.rand((5,10,10,1))"
   ]
  },
  {
   "cell_type": "code",
   "execution_count": 55,
   "id": "61991bb5",
   "metadata": {},
   "outputs": [
    {
     "data": {
      "text/plain": [
       "4"
      ]
     },
     "execution_count": 55,
     "metadata": {},
     "output_type": "execute_result"
    }
   ],
   "source": [
    "random_image.ndim"
   ]
  },
  {
   "cell_type": "code",
   "execution_count": 56,
   "id": "fa39dc6f",
   "metadata": {},
   "outputs": [],
   "source": [
    "#tensor of zeroes\n",
    "zeros = torch.zeros(size=(3,4))"
   ]
  },
  {
   "cell_type": "code",
   "execution_count": 57,
   "id": "56d52e35",
   "metadata": {},
   "outputs": [
    {
     "data": {
      "text/plain": [
       "tensor([[0., 0., 0., 0.],\n",
       "        [0., 0., 0., 0.],\n",
       "        [0., 0., 0., 0.]])"
      ]
     },
     "execution_count": 57,
     "metadata": {},
     "output_type": "execute_result"
    }
   ],
   "source": [
    "zeros"
   ]
  },
  {
   "cell_type": "code",
   "execution_count": 58,
   "id": "a77c6a6f",
   "metadata": {},
   "outputs": [],
   "source": [
    "ones = torch.ones(size=(3,4))"
   ]
  },
  {
   "cell_type": "code",
   "execution_count": 59,
   "id": "d0d15a47",
   "metadata": {},
   "outputs": [
    {
     "data": {
      "text/plain": [
       "tensor([[1., 1., 1., 1.],\n",
       "        [1., 1., 1., 1.],\n",
       "        [1., 1., 1., 1.]])"
      ]
     },
     "execution_count": 59,
     "metadata": {},
     "output_type": "execute_result"
    }
   ],
   "source": [
    "ones"
   ]
  },
  {
   "cell_type": "code",
   "execution_count": 74,
   "id": "106d3c8b",
   "metadata": {},
   "outputs": [],
   "source": [
    "#use torch.range\n",
    "one_to_ten = torch.arange(0,10,step=1)"
   ]
  },
  {
   "cell_type": "code",
   "execution_count": 75,
   "id": "cc24e20b",
   "metadata": {},
   "outputs": [],
   "source": [
    "#creating tensors like\n",
    "ten_zeros = torch.zeros_like(one_to_ten)"
   ]
  },
  {
   "cell_type": "code",
   "execution_count": 76,
   "id": "b6af53a6",
   "metadata": {},
   "outputs": [
    {
     "data": {
      "text/plain": [
       "tensor([0, 0, 0, 0, 0, 0, 0, 0, 0, 0])"
      ]
     },
     "execution_count": 76,
     "metadata": {},
     "output_type": "execute_result"
    }
   ],
   "source": [
    "ten_zeros"
   ]
  },
  {
   "cell_type": "code",
   "execution_count": 5,
   "id": "95861847",
   "metadata": {},
   "outputs": [],
   "source": [
    "#float32 tensor\n",
    "float_32_tensor = torch.tensor([3.0,6.0,9.0],\n",
    "                               dtype=torch.float16,\n",
    "                              requires_grad=False, #computing gradients or not\n",
    "                              #device=\"cuda\"#what device the tensor is on\n",
    "                              )"
   ]
  },
  {
   "cell_type": "code",
   "execution_count": 6,
   "id": "4138855e",
   "metadata": {},
   "outputs": [
    {
     "data": {
      "text/plain": [
       "torch.float16"
      ]
     },
     "execution_count": 6,
     "metadata": {},
     "output_type": "execute_result"
    }
   ],
   "source": [
    "float_32_tensor.dtype"
   ]
  },
  {
   "cell_type": "markdown",
   "id": "a4b08fdc",
   "metadata": {},
   "source": [
    "### tensor datatypes are one of 3 big errors that you'll run into with pytorch and deep learning:\n",
    "(tensor attributes)\n",
    "1) tensors not right datatype - to get data type, use tensor.dtype\n",
    "2) tensors not right shape - use tensor.shape\n",
    "3) tensors not on right device - can use tensor.device"
   ]
  },
  {
   "cell_type": "code",
   "execution_count": 8,
   "id": "e18f34e7",
   "metadata": {},
   "outputs": [],
   "source": [
    "float_16_tensor = float_32_tensor.type(torch.float16)"
   ]
  },
  {
   "cell_type": "code",
   "execution_count": 12,
   "id": "0ab60e7f",
   "metadata": {},
   "outputs": [
    {
     "data": {
      "text/plain": [
       "torch.float16"
      ]
     },
     "execution_count": 12,
     "metadata": {},
     "output_type": "execute_result"
    }
   ],
   "source": [
    "float_16_tensor.dtype"
   ]
  },
  {
   "cell_type": "markdown",
   "id": "6896a605",
   "metadata": {},
   "source": [
    "### Matrix multiplication\n",
    "\n",
    "1) Element wise\n",
    "2) Matrix multiplication\n",
    "\n"
   ]
  },
  {
   "cell_type": "code",
   "execution_count": 4,
   "id": "d0a13bba",
   "metadata": {},
   "outputs": [],
   "source": [
    "tensor = torch.tensor([1,2,3])"
   ]
  },
  {
   "cell_type": "code",
   "execution_count": 6,
   "id": "81084a69",
   "metadata": {},
   "outputs": [
    {
     "data": {
      "text/plain": [
       "tensor([1, 2, 3])"
      ]
     },
     "execution_count": 6,
     "metadata": {},
     "output_type": "execute_result"
    }
   ],
   "source": [
    "tensor"
   ]
  },
  {
   "cell_type": "code",
   "execution_count": 7,
   "id": "a5d6d274",
   "metadata": {},
   "outputs": [
    {
     "data": {
      "text/plain": [
       "tensor([1, 4, 9])"
      ]
     },
     "execution_count": 7,
     "metadata": {},
     "output_type": "execute_result"
    }
   ],
   "source": [
    "tensor * tensor"
   ]
  },
  {
   "cell_type": "code",
   "execution_count": 9,
   "id": "aa670936",
   "metadata": {},
   "outputs": [
    {
     "data": {
      "text/plain": [
       "14"
      ]
     },
     "execution_count": 9,
     "metadata": {},
     "output_type": "execute_result"
    }
   ],
   "source": [
    "torch.matmul(tensor,tensor).item()"
   ]
  },
  {
   "cell_type": "markdown",
   "id": "b8ecc329",
   "metadata": {},
   "source": [
    "### Finding min, max, mean and sum of tensors\n",
    "\n",
    "1) Torch.mean requires a tensor of type float32"
   ]
  },
  {
   "cell_type": "code",
   "execution_count": 21,
   "id": "869ac81b",
   "metadata": {},
   "outputs": [
    {
     "data": {
      "text/plain": [
       "tensor([ 0, 10, 20, 30, 40, 50, 60, 70, 80, 90])"
      ]
     },
     "execution_count": 21,
     "metadata": {},
     "output_type": "execute_result"
    }
   ],
   "source": [
    "#create a tensor\n",
    "x = torch.arange(0,100,10)\n",
    "x"
   ]
  },
  {
   "cell_type": "code",
   "execution_count": 22,
   "id": "0d07791a",
   "metadata": {},
   "outputs": [
    {
     "data": {
      "text/plain": [
       "tensor(0)"
      ]
     },
     "execution_count": 22,
     "metadata": {},
     "output_type": "execute_result"
    }
   ],
   "source": [
    "torch.min(x)"
   ]
  },
  {
   "cell_type": "code",
   "execution_count": 23,
   "id": "64517195",
   "metadata": {},
   "outputs": [
    {
     "data": {
      "text/plain": [
       "tensor(90)"
      ]
     },
     "execution_count": 23,
     "metadata": {},
     "output_type": "execute_result"
    }
   ],
   "source": [
    "torch.max(x)"
   ]
  },
  {
   "cell_type": "code",
   "execution_count": 24,
   "id": "fa74adf1",
   "metadata": {},
   "outputs": [
    {
     "data": {
      "text/plain": [
       "tensor(45.)"
      ]
     },
     "execution_count": 24,
     "metadata": {},
     "output_type": "execute_result"
    }
   ],
   "source": [
    "torch.mean(x.type(torch.float32))\n",
    "x.type(torch.float32).mean()"
   ]
  },
  {
   "cell_type": "code",
   "execution_count": 25,
   "id": "60143c23",
   "metadata": {},
   "outputs": [
    {
     "data": {
      "text/plain": [
       "torch.int64"
      ]
     },
     "execution_count": 25,
     "metadata": {},
     "output_type": "execute_result"
    }
   ],
   "source": [
    "x.dtype"
   ]
  },
  {
   "cell_type": "markdown",
   "id": "240019b9",
   "metadata": {},
   "source": [
    "### Finding positional min and max"
   ]
  },
  {
   "cell_type": "code",
   "execution_count": 26,
   "id": "6efcb63f",
   "metadata": {},
   "outputs": [
    {
     "data": {
      "text/plain": [
       "tensor(0)"
      ]
     },
     "execution_count": 26,
     "metadata": {},
     "output_type": "execute_result"
    }
   ],
   "source": [
    "x.argmin()"
   ]
  },
  {
   "cell_type": "code",
   "execution_count": 27,
   "id": "12306ee0",
   "metadata": {},
   "outputs": [
    {
     "data": {
      "text/plain": [
       "tensor(9)"
      ]
     },
     "execution_count": 27,
     "metadata": {},
     "output_type": "execute_result"
    }
   ],
   "source": [
    "x.argmax()"
   ]
  },
  {
   "cell_type": "markdown",
   "id": "7b078307",
   "metadata": {},
   "source": [
    "### Reshaping, stacking, squeezing and unsqueezing\n",
    "1) View gives a view of a tensor from the same memory as the original tensor\n",
    "2) Torch.stack concatenates a series of tensors along a particular dimension (hstack) or (vstack)\n",
    "3) Squeeze - removes all 1 dimensions\n",
    "4) Add a 1 dimension to target tensor\n",
    "5) Return a view of input with dimensions permuted (swapped)n in a certain way"
   ]
  },
  {
   "cell_type": "code",
   "execution_count": 42,
   "id": "816092e2",
   "metadata": {},
   "outputs": [
    {
     "data": {
      "text/plain": [
       "tensor([ 1.,  2.,  3.,  4.,  5.,  6.,  7.,  8.,  9., 10.])"
      ]
     },
     "execution_count": 42,
     "metadata": {},
     "output_type": "execute_result"
    }
   ],
   "source": [
    "x = torch.arange(1.,11.,1.)\n",
    "x\n",
    "# x.shape"
   ]
  },
  {
   "cell_type": "code",
   "execution_count": 43,
   "id": "2edac4ba",
   "metadata": {},
   "outputs": [],
   "source": [
    "x_reshaped = x.reshape(5,2)"
   ]
  },
  {
   "cell_type": "code",
   "execution_count": 44,
   "id": "c6e676d4",
   "metadata": {},
   "outputs": [
    {
     "data": {
      "text/plain": [
       "torch.Size([5, 2])"
      ]
     },
     "execution_count": 44,
     "metadata": {},
     "output_type": "execute_result"
    }
   ],
   "source": [
    "x_reshaped.shape"
   ]
  },
  {
   "cell_type": "code",
   "execution_count": 45,
   "id": "d06f96ff",
   "metadata": {},
   "outputs": [
    {
     "data": {
      "text/plain": [
       "tensor([[ 1.,  2.],\n",
       "        [ 3.,  4.],\n",
       "        [ 5.,  6.],\n",
       "        [ 7.,  8.],\n",
       "        [ 9., 10.]])"
      ]
     },
     "execution_count": 45,
     "metadata": {},
     "output_type": "execute_result"
    }
   ],
   "source": [
    "x_reshaped"
   ]
  },
  {
   "cell_type": "code",
   "execution_count": 47,
   "id": "de8a8d8d",
   "metadata": {},
   "outputs": [],
   "source": [
    "z = x.view(1,10)"
   ]
  },
  {
   "cell_type": "code",
   "execution_count": 48,
   "id": "9ab35570",
   "metadata": {},
   "outputs": [
    {
     "data": {
      "text/plain": [
       "tensor([[ 1.,  2.,  3.,  4.,  5.,  6.,  7.,  8.,  9., 10.]])"
      ]
     },
     "execution_count": 48,
     "metadata": {},
     "output_type": "execute_result"
    }
   ],
   "source": [
    "z"
   ]
  },
  {
   "cell_type": "code",
   "execution_count": 67,
   "id": "043280a3",
   "metadata": {},
   "outputs": [],
   "source": [
    "x_stacked = torch.stack([x,x,x,x],dim=1)"
   ]
  },
  {
   "cell_type": "code",
   "execution_count": 68,
   "id": "08717f91",
   "metadata": {},
   "outputs": [
    {
     "data": {
      "text/plain": [
       "tensor([[ 1.,  1.,  1.,  1.],\n",
       "        [ 2.,  2.,  2.,  2.],\n",
       "        [ 3.,  3.,  3.,  3.],\n",
       "        [ 4.,  4.,  4.,  4.],\n",
       "        [ 5.,  5.,  5.,  5.],\n",
       "        [ 6.,  6.,  6.,  6.],\n",
       "        [ 7.,  7.,  7.,  7.],\n",
       "        [ 8.,  8.,  8.,  8.],\n",
       "        [ 9.,  9.,  9.,  9.],\n",
       "        [10., 10., 10., 10.]])"
      ]
     },
     "execution_count": 68,
     "metadata": {},
     "output_type": "execute_result"
    }
   ],
   "source": [
    "x_stacked"
   ]
  },
  {
   "cell_type": "code",
   "execution_count": 69,
   "id": "b8fcb9df",
   "metadata": {},
   "outputs": [
    {
     "data": {
      "text/plain": [
       "1"
      ]
     },
     "execution_count": 69,
     "metadata": {},
     "output_type": "execute_result"
    }
   ],
   "source": [
    "x.dim()"
   ]
  },
  {
   "cell_type": "code",
   "execution_count": 70,
   "id": "119acb54",
   "metadata": {},
   "outputs": [],
   "source": [
    "x_hstacked = torch.vstack([x,x,x,x])"
   ]
  },
  {
   "cell_type": "code",
   "execution_count": 66,
   "id": "3f37292e",
   "metadata": {},
   "outputs": [
    {
     "data": {
      "text/plain": [
       "tensor([[ 1.,  2.,  3.,  4.,  5.,  6.,  7.,  8.,  9., 10.],\n",
       "        [ 1.,  2.,  3.,  4.,  5.,  6.,  7.,  8.,  9., 10.],\n",
       "        [ 1.,  2.,  3.,  4.,  5.,  6.,  7.,  8.,  9., 10.],\n",
       "        [ 1.,  2.,  3.,  4.,  5.,  6.,  7.,  8.,  9., 10.]])"
      ]
     },
     "execution_count": 66,
     "metadata": {},
     "output_type": "execute_result"
    }
   ],
   "source": [
    "x_hstacked"
   ]
  },
  {
   "cell_type": "code",
   "execution_count": 71,
   "id": "0ce9410d",
   "metadata": {},
   "outputs": [
    {
     "data": {
      "text/plain": [
       "torch.Size([10])"
      ]
     },
     "execution_count": 71,
     "metadata": {},
     "output_type": "execute_result"
    }
   ],
   "source": [
    "x.shape"
   ]
  },
  {
   "cell_type": "markdown",
   "id": "73ba8147",
   "metadata": {},
   "source": [
    "### Squeeze and unsqueeze"
   ]
  },
  {
   "cell_type": "code",
   "execution_count": 80,
   "id": "6acd1936",
   "metadata": {},
   "outputs": [
    {
     "data": {
      "text/plain": [
       "tensor([[0.],\n",
       "        [0.]])"
      ]
     },
     "execution_count": 80,
     "metadata": {},
     "output_type": "execute_result"
    }
   ],
   "source": [
    "z = torch.zeros(2,1)\n",
    "z"
   ]
  },
  {
   "cell_type": "code",
   "execution_count": 81,
   "id": "1ba10ddc",
   "metadata": {},
   "outputs": [
    {
     "data": {
      "text/plain": [
       "tensor([0., 0.])"
      ]
     },
     "execution_count": 81,
     "metadata": {},
     "output_type": "execute_result"
    }
   ],
   "source": [
    "z.squeeze()"
   ]
  },
  {
   "cell_type": "code",
   "execution_count": 87,
   "id": "c087df06",
   "metadata": {},
   "outputs": [
    {
     "data": {
      "text/plain": [
       "tensor([[[0.]],\n",
       "\n",
       "        [[0.]]])"
      ]
     },
     "execution_count": 87,
     "metadata": {},
     "output_type": "execute_result"
    }
   ],
   "source": [
    "z.unsqueeze(2)"
   ]
  },
  {
   "cell_type": "code",
   "execution_count": 89,
   "id": "9a8207bf",
   "metadata": {},
   "outputs": [
    {
     "data": {
      "text/plain": [
       "2"
      ]
     },
     "execution_count": 89,
     "metadata": {},
     "output_type": "execute_result"
    }
   ],
   "source": [
    "z.dim()"
   ]
  },
  {
   "cell_type": "code",
   "execution_count": 91,
   "id": "e62fb654",
   "metadata": {},
   "outputs": [
    {
     "data": {
      "text/plain": [
       "tensor([[0., 0.]])"
      ]
     },
     "execution_count": 91,
     "metadata": {},
     "output_type": "execute_result"
    }
   ],
   "source": [
    "z.permute(1,0)"
   ]
  },
  {
   "cell_type": "markdown",
   "id": "fb587955",
   "metadata": {},
   "source": [
    "### Indexing in tensors"
   ]
  },
  {
   "cell_type": "code",
   "execution_count": 94,
   "id": "ff07971e",
   "metadata": {},
   "outputs": [],
   "source": [
    "t = torch.arange(1,10).reshape(1,3,3)"
   ]
  },
  {
   "cell_type": "code",
   "execution_count": 100,
   "id": "d3eb8c4d",
   "metadata": {},
   "outputs": [
    {
     "name": "stdout",
     "output_type": "stream",
     "text": [
      "tensor([[[1, 2, 3],\n",
      "         [4, 5, 6],\n",
      "         [7, 8, 9]]])\n"
     ]
    }
   ],
   "source": [
    "t.size()\n",
    "print(t)"
   ]
  },
  {
   "cell_type": "code",
   "execution_count": 106,
   "id": "4dcb2c02",
   "metadata": {},
   "outputs": [
    {
     "data": {
      "text/plain": [
       "tensor(3)"
      ]
     },
     "execution_count": 106,
     "metadata": {},
     "output_type": "execute_result"
    }
   ],
   "source": [
    "t[0][0][2]"
   ]
  },
  {
   "cell_type": "code",
   "execution_count": 108,
   "id": "c3a5f78d",
   "metadata": {},
   "outputs": [
    {
     "data": {
      "text/plain": [
       "tensor([[2, 5, 8]])"
      ]
     },
     "execution_count": 108,
     "metadata": {},
     "output_type": "execute_result"
    }
   ],
   "source": [
    "t[:,:,1]"
   ]
  },
  {
   "cell_type": "code",
   "execution_count": 112,
   "id": "ba6a4a6b",
   "metadata": {},
   "outputs": [
    {
     "data": {
      "text/plain": [
       "tensor([[2, 5, 8]])"
      ]
     },
     "execution_count": 112,
     "metadata": {},
     "output_type": "execute_result"
    }
   ],
   "source": [
    "t[:,:,1]"
   ]
  },
  {
   "cell_type": "code",
   "execution_count": 113,
   "id": "238e2c9d",
   "metadata": {},
   "outputs": [
    {
     "data": {
      "text/plain": [
       "tensor([1, 2, 3])"
      ]
     },
     "execution_count": 113,
     "metadata": {},
     "output_type": "execute_result"
    }
   ],
   "source": [
    "t[0,0,:]"
   ]
  },
  {
   "cell_type": "markdown",
   "id": "acac328b",
   "metadata": {},
   "source": [
    "### Pytorch -> numpy\n",
    "\n",
    "Numpy is a popular scientific computing library\n",
    "Can convert numpy arrays to torch tensors for use in deep learning models"
   ]
  },
  {
   "cell_type": "code",
   "execution_count": 114,
   "id": "dbf84ee9",
   "metadata": {},
   "outputs": [],
   "source": [
    "import numpy as np"
   ]
  },
  {
   "cell_type": "code",
   "execution_count": 115,
   "id": "0a8d5870",
   "metadata": {},
   "outputs": [],
   "source": [
    "n = np.arange(1,10)"
   ]
  },
  {
   "cell_type": "code",
   "execution_count": 119,
   "id": "7f480f40",
   "metadata": {},
   "outputs": [],
   "source": [
    "t = torch.from_numpy(n)"
   ]
  },
  {
   "cell_type": "code",
   "execution_count": 120,
   "id": "4b954718",
   "metadata": {},
   "outputs": [
    {
     "data": {
      "text/plain": [
       "tensor([1, 2, 3, 4, 5, 6, 7, 8, 9])"
      ]
     },
     "execution_count": 120,
     "metadata": {},
     "output_type": "execute_result"
    }
   ],
   "source": [
    "t"
   ]
  },
  {
   "cell_type": "code",
   "execution_count": 121,
   "id": "3174833b",
   "metadata": {},
   "outputs": [
    {
     "data": {
      "text/plain": [
       "array([1, 2, 3, 4, 5, 6, 7, 8, 9])"
      ]
     },
     "execution_count": 121,
     "metadata": {},
     "output_type": "execute_result"
    }
   ],
   "source": [
    "n"
   ]
  },
  {
   "cell_type": "code",
   "execution_count": 122,
   "id": "29530b3d",
   "metadata": {},
   "outputs": [],
   "source": [
    "n = n+1"
   ]
  },
  {
   "cell_type": "code",
   "execution_count": 123,
   "id": "cd2c5da4",
   "metadata": {},
   "outputs": [
    {
     "data": {
      "text/plain": [
       "array([ 2,  3,  4,  5,  6,  7,  8,  9, 10])"
      ]
     },
     "execution_count": 123,
     "metadata": {},
     "output_type": "execute_result"
    }
   ],
   "source": [
    "n"
   ]
  },
  {
   "cell_type": "code",
   "execution_count": 124,
   "id": "4937a71b",
   "metadata": {},
   "outputs": [
    {
     "data": {
      "text/plain": [
       "tensor([1, 2, 3, 4, 5, 6, 7, 8, 9])"
      ]
     },
     "execution_count": 124,
     "metadata": {},
     "output_type": "execute_result"
    }
   ],
   "source": [
    "t"
   ]
  },
  {
   "cell_type": "code",
   "execution_count": 125,
   "id": "c97b1534",
   "metadata": {},
   "outputs": [],
   "source": [
    "arr = t.numpy()"
   ]
  },
  {
   "cell_type": "code",
   "execution_count": 126,
   "id": "8d018373",
   "metadata": {},
   "outputs": [
    {
     "data": {
      "text/plain": [
       "array([1, 2, 3, 4, 5, 6, 7, 8, 9])"
      ]
     },
     "execution_count": 126,
     "metadata": {},
     "output_type": "execute_result"
    }
   ],
   "source": [
    "arr"
   ]
  },
  {
   "cell_type": "markdown",
   "id": "2a9209b1",
   "metadata": {},
   "source": [
    "### Torch reproducibility\n",
    "Taking the random out of random\n",
    "Essentially how neural networks learn\n",
    "Use random seed to reduce randomness of tensors"
   ]
  },
  {
   "cell_type": "code",
   "execution_count": 3,
   "id": "aa9797a2",
   "metadata": {},
   "outputs": [],
   "source": [
    "r_tensor_a = torch.rand(3,4)\n",
    "r_tensor_b = torch.rand(3,4)"
   ]
  },
  {
   "cell_type": "code",
   "execution_count": 4,
   "id": "7c66422a",
   "metadata": {},
   "outputs": [
    {
     "name": "stdout",
     "output_type": "stream",
     "text": [
      "tensor([[False, False, False, False],\n",
      "        [False, False, False, False],\n",
      "        [False, False, False, False]])\n"
     ]
    }
   ],
   "source": [
    "print(r_tensor_a==r_tensor_b)"
   ]
  },
  {
   "cell_type": "code",
   "execution_count": 9,
   "id": "601ec81e",
   "metadata": {},
   "outputs": [
    {
     "data": {
      "text/plain": [
       "<torch._C.Generator at 0x7fee80544090>"
      ]
     },
     "execution_count": 9,
     "metadata": {},
     "output_type": "execute_result"
    }
   ],
   "source": [
    "# Random but reproducible tensors\n",
    "RANDOM_SEED = 42\n",
    "torch.manual_seed(RANDOM_SEED)"
   ]
  },
  {
   "cell_type": "code",
   "execution_count": 10,
   "id": "81ef9e14",
   "metadata": {},
   "outputs": [],
   "source": [
    "r_tensor_c = torch.rand(3,4)\n",
    "torch.manual_seed(RANDOM_SEED)\n",
    "r_tensor_d = torch.rand(3,4)"
   ]
  },
  {
   "cell_type": "code",
   "execution_count": 11,
   "id": "43ac72f1",
   "metadata": {},
   "outputs": [
    {
     "name": "stdout",
     "output_type": "stream",
     "text": [
      "tensor([[True, True, True, True],\n",
      "        [True, True, True, True],\n",
      "        [True, True, True, True]])\n"
     ]
    }
   ],
   "source": [
    "print(r_tensor_c == r_tensor_d)"
   ]
  },
  {
   "cell_type": "markdown",
   "id": "27f5f2aa",
   "metadata": {},
   "source": [
    "### Use manual seed for each time you initialize a random tensor"
   ]
  },
  {
   "cell_type": "markdown",
   "id": "d91a81d6",
   "metadata": {},
   "source": [
    "### running tensors or pytorch objects on GPUs"
   ]
  },
  {
   "cell_type": "code",
   "execution_count": 12,
   "id": "c52ab28e",
   "metadata": {},
   "outputs": [],
   "source": [
    "### 1. Getting a GPU\n",
    "### 2. Use google colab (free gpu)\n",
    "### 3. Use Google Colab Pro\n"
   ]
  },
  {
   "cell_type": "code",
   "execution_count": 13,
   "id": "8c9a71de",
   "metadata": {},
   "outputs": [],
   "source": [
    "## check gpu access with pytorch"
   ]
  },
  {
   "cell_type": "code",
   "execution_count": 14,
   "id": "e89dc51a",
   "metadata": {},
   "outputs": [
    {
     "data": {
      "text/plain": [
       "False"
      ]
     },
     "execution_count": 14,
     "metadata": {},
     "output_type": "execute_result"
    }
   ],
   "source": [
    "torch.cuda.is_available()"
   ]
  },
  {
   "cell_type": "code",
   "execution_count": 15,
   "id": "56a07fd7",
   "metadata": {},
   "outputs": [
    {
     "data": {
      "text/plain": [
       "True"
      ]
     },
     "execution_count": 15,
     "metadata": {},
     "output_type": "execute_result"
    }
   ],
   "source": [
    "torch.has_mps"
   ]
  },
  {
   "cell_type": "markdown",
   "id": "9f621223",
   "metadata": {},
   "source": [
    "### MPS in MACBOOK PRO, CUDA in windows"
   ]
  },
  {
   "cell_type": "code",
   "execution_count": 16,
   "id": "8370375e",
   "metadata": {},
   "outputs": [],
   "source": [
    "device = \"cuda\" if torch.cuda.is_available() else \"mps\" if torch.mps else \"cpu\""
   ]
  },
  {
   "cell_type": "code",
   "execution_count": 17,
   "id": "466c48d5",
   "metadata": {},
   "outputs": [
    {
     "data": {
      "text/plain": [
       "'mps'"
      ]
     },
     "execution_count": 17,
     "metadata": {},
     "output_type": "execute_result"
    }
   ],
   "source": [
    "device"
   ]
  },
  {
   "cell_type": "markdown",
   "id": "c8869fa1",
   "metadata": {},
   "source": [
    "### Putting tensors and models on GPUs"
   ]
  },
  {
   "cell_type": "code",
   "execution_count": 18,
   "id": "15e2b970",
   "metadata": {},
   "outputs": [],
   "source": [
    "tensor = torch.tensor([1,2,3],device=device)"
   ]
  },
  {
   "cell_type": "code",
   "execution_count": 19,
   "id": "1dc0705b",
   "metadata": {},
   "outputs": [
    {
     "data": {
      "text/plain": [
       "tensor([1, 2, 3], device='mps:0')"
      ]
     },
     "execution_count": 19,
     "metadata": {},
     "output_type": "execute_result"
    }
   ],
   "source": [
    "tensor"
   ]
  },
  {
   "cell_type": "code",
   "execution_count": 26,
   "id": "46e3e3ed",
   "metadata": {},
   "outputs": [],
   "source": [
    "tensor_on_gpu = tensor.cpu()"
   ]
  },
  {
   "cell_type": "code",
   "execution_count": 27,
   "id": "39c20942",
   "metadata": {},
   "outputs": [
    {
     "data": {
      "text/plain": [
       "device(type='cpu')"
      ]
     },
     "execution_count": 27,
     "metadata": {},
     "output_type": "execute_result"
    }
   ],
   "source": [
    "tensor_on_gpu.device"
   ]
  },
  {
   "cell_type": "code",
   "execution_count": 25,
   "id": "ef3c8d3a",
   "metadata": {},
   "outputs": [],
   "source": [
    "## Moving tensors back to cpus to convert to numpy array"
   ]
  },
  {
   "cell_type": "markdown",
   "id": "123b47f4",
   "metadata": {},
   "source": [
    "### Exercises"
   ]
  },
  {
   "cell_type": "code",
   "execution_count": 28,
   "id": "b0e3cbda",
   "metadata": {},
   "outputs": [],
   "source": [
    "# Random tensor with size 7*7\n",
    "t = torch.rand(7,7)"
   ]
  },
  {
   "cell_type": "code",
   "execution_count": 32,
   "id": "6d81c41c",
   "metadata": {},
   "outputs": [
    {
     "data": {
      "text/plain": [
       "2"
      ]
     },
     "execution_count": 32,
     "metadata": {},
     "output_type": "execute_result"
    }
   ],
   "source": [
    "t.size()\n",
    "t.dim()"
   ]
  },
  {
   "cell_type": "code",
   "execution_count": 33,
   "id": "9f117300",
   "metadata": {},
   "outputs": [],
   "source": [
    "t_2 = torch.rand(1,7)"
   ]
  },
  {
   "cell_type": "code",
   "execution_count": 35,
   "id": "80e8afad",
   "metadata": {},
   "outputs": [
    {
     "data": {
      "text/plain": [
       "tensor([[1.9625],\n",
       "        [1.0950],\n",
       "        [0.9967],\n",
       "        [1.8910],\n",
       "        [1.9205],\n",
       "        [1.0674],\n",
       "        [1.6949]])"
      ]
     },
     "execution_count": 35,
     "metadata": {},
     "output_type": "execute_result"
    }
   ],
   "source": [
    "t.matmul(t_2.T)"
   ]
  },
  {
   "cell_type": "code",
   "execution_count": 36,
   "id": "6b9315db",
   "metadata": {},
   "outputs": [],
   "source": [
    "RANDOM_SEED=0\n",
    "torch.manual_seed(RANDOM_SEED)\n",
    "t = torch.rand(7,7)\n",
    "torch.manual_seed(RANDOM_SEED)\n",
    "t_2 = torch.rand(1,7)"
   ]
  },
  {
   "cell_type": "code",
   "execution_count": 37,
   "id": "0ef4347a",
   "metadata": {},
   "outputs": [
    {
     "data": {
      "text/plain": [
       "tensor([[1.5985],\n",
       "        [1.1173],\n",
       "        [1.2741],\n",
       "        [1.6838],\n",
       "        [0.8279],\n",
       "        [1.0347],\n",
       "        [1.2498]])"
      ]
     },
     "execution_count": 37,
     "metadata": {},
     "output_type": "execute_result"
    }
   ],
   "source": [
    "t.matmul(t_2.T)"
   ]
  },
  {
   "cell_type": "code",
   "execution_count": 39,
   "id": "f8f1f5f0",
   "metadata": {},
   "outputs": [],
   "source": [
    "torch.mps.manual_seed(1234)"
   ]
  },
  {
   "cell_type": "code",
   "execution_count": 41,
   "id": "e5d290c1",
   "metadata": {},
   "outputs": [],
   "source": [
    "t_gpu = torch.rand(2,3).to(device)\n",
    "s_gpu = torch.rand(2,3).to(device)"
   ]
  },
  {
   "cell_type": "code",
   "execution_count": 42,
   "id": "3da2e59e",
   "metadata": {},
   "outputs": [
    {
     "data": {
      "text/plain": [
       "tensor([[0.2823, 0.6816, 0.9152],\n",
       "        [0.3971, 0.8742, 0.4194]], device='mps:0')"
      ]
     },
     "execution_count": 42,
     "metadata": {},
     "output_type": "execute_result"
    }
   ],
   "source": [
    "t_gpu"
   ]
  },
  {
   "cell_type": "code",
   "execution_count": 46,
   "id": "d649934c",
   "metadata": {},
   "outputs": [],
   "source": [
    "prod = t_gpu.matmul(s_gpu.T)"
   ]
  },
  {
   "cell_type": "code",
   "execution_count": 48,
   "id": "4248678f",
   "metadata": {},
   "outputs": [
    {
     "data": {
      "text/plain": [
       "tensor(1.0676, device='mps:0')"
      ]
     },
     "execution_count": 48,
     "metadata": {},
     "output_type": "execute_result"
    }
   ],
   "source": [
    "prod.max()"
   ]
  },
  {
   "cell_type": "code",
   "execution_count": 49,
   "id": "083f4374",
   "metadata": {},
   "outputs": [
    {
     "data": {
      "text/plain": [
       "tensor(0.5279, device='mps:0')"
      ]
     },
     "execution_count": 49,
     "metadata": {},
     "output_type": "execute_result"
    }
   ],
   "source": [
    "prod.min()"
   ]
  },
  {
   "cell_type": "code",
   "execution_count": 52,
   "id": "daa7b86a",
   "metadata": {},
   "outputs": [
    {
     "name": "stdout",
     "output_type": "stream",
     "text": [
      "tensor(-9223372036854775808, device='mps:0')\n",
      "tensor(-9223372036854775808, device='mps:0')\n"
     ]
    }
   ],
   "source": [
    "print(prod.argmin())\n",
    "print(prod.argmax())"
   ]
  },
  {
   "cell_type": "code",
   "execution_count": 53,
   "id": "c4bf54cb",
   "metadata": {},
   "outputs": [],
   "source": [
    "torch.manual_seed(7)\n",
    "t1 = torch.rand(1,1,1,10)"
   ]
  },
  {
   "cell_type": "code",
   "execution_count": 55,
   "id": "bbc74bb1",
   "metadata": {},
   "outputs": [],
   "source": [
    "t2 = torch.squeeze(t1)"
   ]
  },
  {
   "cell_type": "code",
   "execution_count": 56,
   "id": "82884ee6",
   "metadata": {},
   "outputs": [
    {
     "data": {
      "text/plain": [
       "torch.Size([10])"
      ]
     },
     "execution_count": 56,
     "metadata": {},
     "output_type": "execute_result"
    }
   ],
   "source": [
    "t2.shape"
   ]
  },
  {
   "cell_type": "code",
   "execution_count": 57,
   "id": "18c0394a",
   "metadata": {},
   "outputs": [
    {
     "name": "stdout",
     "output_type": "stream",
     "text": [
      "tensor([[[[0.5349, 0.1988, 0.6592, 0.6569, 0.2328, 0.4251, 0.2071, 0.6297,\n",
      "           0.3653, 0.8513]]]])\n",
      "torch.Size([1, 1, 1, 10])\n"
     ]
    }
   ],
   "source": [
    "print(t1)\n",
    "print(t1.shape)"
   ]
  },
  {
   "cell_type": "code",
   "execution_count": 58,
   "id": "aea78720",
   "metadata": {},
   "outputs": [
    {
     "name": "stdout",
     "output_type": "stream",
     "text": [
      "tensor([0.5349, 0.1988, 0.6592, 0.6569, 0.2328, 0.4251, 0.2071, 0.6297, 0.3653,\n",
      "        0.8513])\n",
      "torch.Size([10])\n"
     ]
    }
   ],
   "source": [
    "print(t2)\n",
    "print(t2.shape)"
   ]
  },
  {
   "cell_type": "code",
   "execution_count": null,
   "id": "0b04d974",
   "metadata": {},
   "outputs": [],
   "source": []
  }
 ],
 "metadata": {
  "kernelspec": {
   "display_name": "Python 3 (ipykernel)",
   "language": "python",
   "name": "python3"
  },
  "language_info": {
   "codemirror_mode": {
    "name": "ipython",
    "version": 3
   },
   "file_extension": ".py",
   "mimetype": "text/x-python",
   "name": "python",
   "nbconvert_exporter": "python",
   "pygments_lexer": "ipython3",
   "version": "3.8.16"
  }
 },
 "nbformat": 4,
 "nbformat_minor": 5
}
