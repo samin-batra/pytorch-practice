{
 "cells": [
  {
   "cell_type": "markdown",
   "id": "e7eed680",
   "metadata": {},
   "source": [
    "### Data can be about\n",
    "!) Text\n",
    "2) Audio\n",
    "3) Video\n",
    "4) Images\n",
    "5) DNA\n",
    "6) Excel\n",
    "\n",
    "\n",
    "1) Get data into a numerical representation\n",
    "2) Build a machine learning model\n",
    "\n",
    "We'll use a linear regression formula to make a straight line with known parameters"
   ]
  },
  {
   "cell_type": "code",
   "execution_count": 118,
   "id": "6818d50b",
   "metadata": {},
   "outputs": [
    {
     "name": "stdout",
     "output_type": "stream",
     "text": [
      "Collecting matplotlib\n",
      "  Downloading matplotlib-3.7.1-cp38-cp38-macosx_10_12_x86_64.whl (7.4 MB)\n",
      "\u001b[2K     \u001b[90m━━━━━━━━━━━━━━━━━━━━━━━━━━━━━━━━━━━━━━━━\u001b[0m \u001b[32m7.4/7.4 MB\u001b[0m \u001b[31m9.7 MB/s\u001b[0m eta \u001b[36m0:00:00\u001b[0m:00:01\u001b[0m00:01\u001b[0m\n",
      "\u001b[?25hCollecting kiwisolver>=1.0.1\n",
      "  Downloading kiwisolver-1.4.4-cp38-cp38-macosx_10_9_x86_64.whl (65 kB)\n",
      "\u001b[2K     \u001b[90m━━━━━━━━━━━━━━━━━━━━━━━━━━━━━━━━━━━━━━━━\u001b[0m \u001b[32m65.4/65.4 kB\u001b[0m \u001b[31m6.7 MB/s\u001b[0m eta \u001b[36m0:00:00\u001b[0m\n",
      "\u001b[?25hCollecting pyparsing>=2.3.1\n",
      "  Using cached pyparsing-3.0.9-py3-none-any.whl (98 kB)\n",
      "Requirement already satisfied: packaging>=20.0 in /Users/saminbatra/opt/anaconda3/envs/torch-practice/lib/python3.8/site-packages (from matplotlib) (23.1)\n",
      "Requirement already satisfied: python-dateutil>=2.7 in /Users/saminbatra/opt/anaconda3/envs/torch-practice/lib/python3.8/site-packages (from matplotlib) (2.8.2)\n",
      "Collecting cycler>=0.10\n",
      "  Using cached cycler-0.11.0-py3-none-any.whl (6.4 kB)\n",
      "Requirement already satisfied: pillow>=6.2.0 in /Users/saminbatra/opt/anaconda3/envs/torch-practice/lib/python3.8/site-packages (from matplotlib) (9.4.0)\n",
      "Requirement already satisfied: importlib-resources>=3.2.0 in /Users/saminbatra/opt/anaconda3/envs/torch-practice/lib/python3.8/site-packages (from matplotlib) (5.12.0)\n",
      "Collecting contourpy>=1.0.1\n",
      "  Downloading contourpy-1.1.0-cp38-cp38-macosx_10_9_x86_64.whl (243 kB)\n",
      "\u001b[2K     \u001b[90m━━━━━━━━━━━━━━━━━━━━━━━━━━━━━━━━━━━━━━━\u001b[0m \u001b[32m243.4/243.4 kB\u001b[0m \u001b[31m8.2 MB/s\u001b[0m eta \u001b[36m0:00:00\u001b[0m\n",
      "\u001b[?25hCollecting fonttools>=4.22.0\n",
      "  Downloading fonttools-4.40.0-cp38-cp38-macosx_10_9_x86_64.whl (2.1 MB)\n",
      "\u001b[2K     \u001b[90m━━━━━━━━━━━━━━━━━━━━━━━━━━━━━━━━━━━━━━━━\u001b[0m \u001b[32m2.1/2.1 MB\u001b[0m \u001b[31m9.9 MB/s\u001b[0m eta \u001b[36m0:00:00\u001b[0mta \u001b[36m0:00:01\u001b[0m\n",
      "\u001b[?25hRequirement already satisfied: numpy>=1.20 in /Users/saminbatra/opt/anaconda3/envs/torch-practice/lib/python3.8/site-packages (from matplotlib) (1.23.5)\n",
      "Requirement already satisfied: zipp>=3.1.0 in /Users/saminbatra/opt/anaconda3/envs/torch-practice/lib/python3.8/site-packages (from importlib-resources>=3.2.0->matplotlib) (3.15.0)\n",
      "Requirement already satisfied: six>=1.5 in /Users/saminbatra/opt/anaconda3/envs/torch-practice/lib/python3.8/site-packages (from python-dateutil>=2.7->matplotlib) (1.16.0)\n",
      "Installing collected packages: pyparsing, kiwisolver, fonttools, cycler, contourpy, matplotlib\n",
      "Successfully installed contourpy-1.1.0 cycler-0.11.0 fonttools-4.40.0 kiwisolver-1.4.4 matplotlib-3.7.1 pyparsing-3.0.9\n",
      "Note: you may need to restart the kernel to use updated packages.\n"
     ]
    }
   ],
   "source": [
    "%pip install matplotlib"
   ]
  },
  {
   "cell_type": "markdown",
   "id": "2d5e30b4",
   "metadata": {},
   "source": [
    "### creating a linear regression pytorch class"
   ]
  },
  {
   "cell_type": "code",
   "execution_count": 1,
   "id": "eb9dd4f6",
   "metadata": {},
   "outputs": [
    {
     "name": "stdout",
     "output_type": "stream",
     "text": [
      "Intel MKL WARNING: Support of Intel(R) Streaming SIMD Extensions 4.2 (Intel(R) SSE4.2) enabled only processors has been deprecated. Intel oneAPI Math Kernel Library 2025.0 will require Intel(R) Advanced Vector Extensions (Intel(R) AVX) instructions.\n",
      "Intel MKL WARNING: Support of Intel(R) Streaming SIMD Extensions 4.2 (Intel(R) SSE4.2) enabled only processors has been deprecated. Intel oneAPI Math Kernel Library 2025.0 will require Intel(R) Advanced Vector Extensions (Intel(R) AVX) instructions.\n"
     ]
    }
   ],
   "source": [
    "import torch\n",
    "import torch.nn as nn"
   ]
  },
  {
   "cell_type": "code",
   "execution_count": 2,
   "id": "8611212e",
   "metadata": {},
   "outputs": [],
   "source": [
    "class LinearRegressionModel(torch.nn.Module):\n",
    "    def __init__(self):\n",
    "        super().__init__()\n",
    "        self.weights = nn.Parameter(torch.randn(1,requires_grad=True,dtype=torch.float32))\n",
    "        self.bias = nn.Parameter(torch.randn(1, requires_grad=True,dtype=torch.float32))\n",
    "    def forward(self,x: torch.Tensor):\n",
    "        return self.weights*x+self.bias\n",
    "    "
   ]
  },
  {
   "cell_type": "markdown",
   "id": "2cc98815",
   "metadata": {},
   "source": [
    "### Checking out model parameters"
   ]
  },
  {
   "cell_type": "code",
   "execution_count": 3,
   "id": "2dfc89c6",
   "metadata": {},
   "outputs": [],
   "source": [
    "torch.manual_seed(42)\n",
    "model0 = LinearRegressionModel()"
   ]
  },
  {
   "cell_type": "code",
   "execution_count": 24,
   "id": "27b93561",
   "metadata": {},
   "outputs": [
    {
     "data": {
      "text/plain": [
       "[Parameter containing:\n",
       " tensor([0.3367], requires_grad=True),\n",
       " Parameter containing:\n",
       " tensor([0.1288], requires_grad=True)]"
      ]
     },
     "execution_count": 24,
     "metadata": {},
     "output_type": "execute_result"
    }
   ],
   "source": [
    "list(model0.parameters())"
   ]
  },
  {
   "cell_type": "code",
   "execution_count": 5,
   "id": "a5b172b8",
   "metadata": {},
   "outputs": [
    {
     "data": {
      "text/plain": [
       "['weights', 'bias']"
      ]
     },
     "execution_count": 5,
     "metadata": {},
     "output_type": "execute_result"
    }
   ],
   "source": [
    "list(model0.state_dict())"
   ]
  },
  {
   "cell_type": "markdown",
   "id": "156552ca",
   "metadata": {},
   "source": [
    "### Making predictions using torch.inference_mode()"
   ]
  },
  {
   "cell_type": "markdown",
   "id": "348871d3",
   "metadata": {},
   "source": [
    "### Inference mode prevents python from keeping track of gradients. It means less data to keep track of\n",
    "### helps, make the code run faster. Same as torch.no_grad() but inference_mode is newer"
   ]
  },
  {
   "cell_type": "code",
   "execution_count": 6,
   "id": "80d4eaf0",
   "metadata": {},
   "outputs": [],
   "source": [
    "X = torch.arange(0,1,0.02).unsqueeze(dim=1)\n",
    "# y = torch.arange(0,1,0.01)"
   ]
  },
  {
   "cell_type": "code",
   "execution_count": 7,
   "id": "429ddb54",
   "metadata": {},
   "outputs": [],
   "source": [
    "len(X)\n",
    "X_train = X[:30]\n",
    "X_test = X[31:]"
   ]
  },
  {
   "cell_type": "code",
   "execution_count": 8,
   "id": "7db49634",
   "metadata": {},
   "outputs": [],
   "source": [
    "with torch.inference_mode():\n",
    "    y = model0.forward(X)"
   ]
  },
  {
   "cell_type": "code",
   "execution_count": 9,
   "id": "030c8195",
   "metadata": {},
   "outputs": [],
   "source": [
    "y\n",
    "y_train = y[:30]\n",
    "y_test = y[31:]"
   ]
  },
  {
   "cell_type": "code",
   "execution_count": 10,
   "id": "3aa6f68c",
   "metadata": {},
   "outputs": [],
   "source": [
    "weights=0.7\n",
    "bias = 0.3\n",
    "y = weights*X+bias"
   ]
  },
  {
   "cell_type": "code",
   "execution_count": 11,
   "id": "0379fef7",
   "metadata": {},
   "outputs": [
    {
     "data": {
      "text/plain": [
       "tensor([[0.3000],\n",
       "        [0.3140],\n",
       "        [0.3280],\n",
       "        [0.3420],\n",
       "        [0.3560],\n",
       "        [0.3700],\n",
       "        [0.3840],\n",
       "        [0.3980],\n",
       "        [0.4120],\n",
       "        [0.4260],\n",
       "        [0.4400],\n",
       "        [0.4540],\n",
       "        [0.4680],\n",
       "        [0.4820],\n",
       "        [0.4960],\n",
       "        [0.5100],\n",
       "        [0.5240],\n",
       "        [0.5380],\n",
       "        [0.5520],\n",
       "        [0.5660],\n",
       "        [0.5800],\n",
       "        [0.5940],\n",
       "        [0.6080],\n",
       "        [0.6220],\n",
       "        [0.6360],\n",
       "        [0.6500],\n",
       "        [0.6640],\n",
       "        [0.6780],\n",
       "        [0.6920],\n",
       "        [0.7060],\n",
       "        [0.7200],\n",
       "        [0.7340],\n",
       "        [0.7480],\n",
       "        [0.7620],\n",
       "        [0.7760],\n",
       "        [0.7900],\n",
       "        [0.8040],\n",
       "        [0.8180],\n",
       "        [0.8320],\n",
       "        [0.8460],\n",
       "        [0.8600],\n",
       "        [0.8740],\n",
       "        [0.8880],\n",
       "        [0.9020],\n",
       "        [0.9160],\n",
       "        [0.9300],\n",
       "        [0.9440],\n",
       "        [0.9580],\n",
       "        [0.9720],\n",
       "        [0.9860]])"
      ]
     },
     "execution_count": 11,
     "metadata": {},
     "output_type": "execute_result"
    }
   ],
   "source": [
    "y"
   ]
  },
  {
   "cell_type": "markdown",
   "id": "112f8059",
   "metadata": {},
   "source": [
    "### Training a model is to move from some unknown parameters to some known parameters\n",
    "### Use loss functions for this\n",
    "### Loss function is also cost function or criterion\n",
    "### measures how wrong the measurements are compared to real val\n",
    "### Optimizers: Takes into account the loss and adjusts the weights and biases to make them better"
   ]
  },
  {
   "cell_type": "code",
   "execution_count": 20,
   "id": "9d43edfd",
   "metadata": {},
   "outputs": [],
   "source": [
    "# setup a loss function\n",
    "loss_fn = nn.L1Loss()"
   ]
  },
  {
   "cell_type": "code",
   "execution_count": 21,
   "id": "b0af4ba6",
   "metadata": {},
   "outputs": [
    {
     "data": {
      "text/plain": [
       "L1Loss()"
      ]
     },
     "execution_count": 21,
     "metadata": {},
     "output_type": "execute_result"
    }
   ],
   "source": [
    "loss_fn"
   ]
  },
  {
   "cell_type": "code",
   "execution_count": 22,
   "id": "8d00154a",
   "metadata": {},
   "outputs": [],
   "source": [
    "optimizer = torch.optim.SGD(model0.parameters(),lr=0.01) #lr=learning_rate is the most important hyperparameter"
   ]
  },
  {
   "cell_type": "markdown",
   "id": "f849885c",
   "metadata": {},
   "source": [
    "### building a training and testing loop in pytorch\n",
    "A couple of things that are needed\n",
    "1. Loop through the data\n",
    "2. Forward pass (data moving through the model forward)\n",
    "3. Optimizer zero grad\n",
    "4. Backwards - move backwards through the network to calculate gradients of each of the parameters of the model wrt the loss\n",
    "5. Optimizer step - Use the optimizer to adjust the model parameters to try and improve the loss (gradient descent) "
   ]
  },
  {
   "cell_type": "code",
   "execution_count": 25,
   "id": "c0786063",
   "metadata": {},
   "outputs": [
    {
     "name": "stdout",
     "output_type": "stream",
     "text": [
      "Loss is  tensor(0., grad_fn=<MeanBackward0>)\n",
      "Epoch: 0, loss: 0.0, test_loss: 0.0\n",
      "Loss is  tensor(0., grad_fn=<MeanBackward0>)\n",
      "Loss is  tensor(0., grad_fn=<MeanBackward0>)\n",
      "Loss is  tensor(0., grad_fn=<MeanBackward0>)\n",
      "Loss is  tensor(0., grad_fn=<MeanBackward0>)\n",
      "Loss is  tensor(0., grad_fn=<MeanBackward0>)\n",
      "Loss is  tensor(0., grad_fn=<MeanBackward0>)\n",
      "Loss is  tensor(0., grad_fn=<MeanBackward0>)\n",
      "Loss is  tensor(0., grad_fn=<MeanBackward0>)\n",
      "Loss is  tensor(0., grad_fn=<MeanBackward0>)\n",
      "Loss is  tensor(0., grad_fn=<MeanBackward0>)\n",
      "Epoch: 10, loss: 0.0, test_loss: 0.0\n",
      "Loss is  tensor(0., grad_fn=<MeanBackward0>)\n",
      "Loss is  tensor(0., grad_fn=<MeanBackward0>)\n",
      "Loss is  tensor(0., grad_fn=<MeanBackward0>)\n",
      "Loss is  tensor(0., grad_fn=<MeanBackward0>)\n",
      "Loss is  tensor(0., grad_fn=<MeanBackward0>)\n",
      "Loss is  tensor(0., grad_fn=<MeanBackward0>)\n",
      "Loss is  tensor(0., grad_fn=<MeanBackward0>)\n",
      "Loss is  tensor(0., grad_fn=<MeanBackward0>)\n",
      "Loss is  tensor(0., grad_fn=<MeanBackward0>)\n",
      "Loss is  tensor(0., grad_fn=<MeanBackward0>)\n",
      "Epoch: 20, loss: 0.0, test_loss: 0.0\n",
      "Loss is  tensor(0., grad_fn=<MeanBackward0>)\n",
      "Loss is  tensor(0., grad_fn=<MeanBackward0>)\n",
      "Loss is  tensor(0., grad_fn=<MeanBackward0>)\n",
      "Loss is  tensor(0., grad_fn=<MeanBackward0>)\n",
      "Loss is  tensor(0., grad_fn=<MeanBackward0>)\n",
      "Loss is  tensor(0., grad_fn=<MeanBackward0>)\n",
      "Loss is  tensor(0., grad_fn=<MeanBackward0>)\n",
      "Loss is  tensor(0., grad_fn=<MeanBackward0>)\n",
      "Loss is  tensor(0., grad_fn=<MeanBackward0>)\n",
      "Loss is  tensor(0., grad_fn=<MeanBackward0>)\n",
      "Epoch: 30, loss: 0.0, test_loss: 0.0\n",
      "Loss is  tensor(0., grad_fn=<MeanBackward0>)\n",
      "Loss is  tensor(0., grad_fn=<MeanBackward0>)\n",
      "Loss is  tensor(0., grad_fn=<MeanBackward0>)\n",
      "Loss is  tensor(0., grad_fn=<MeanBackward0>)\n",
      "Loss is  tensor(0., grad_fn=<MeanBackward0>)\n",
      "Loss is  tensor(0., grad_fn=<MeanBackward0>)\n",
      "Loss is  tensor(0., grad_fn=<MeanBackward0>)\n",
      "Loss is  tensor(0., grad_fn=<MeanBackward0>)\n",
      "Loss is  tensor(0., grad_fn=<MeanBackward0>)\n",
      "Loss is  tensor(0., grad_fn=<MeanBackward0>)\n",
      "Epoch: 40, loss: 0.0, test_loss: 0.0\n",
      "Loss is  tensor(0., grad_fn=<MeanBackward0>)\n",
      "Loss is  tensor(0., grad_fn=<MeanBackward0>)\n",
      "Loss is  tensor(0., grad_fn=<MeanBackward0>)\n",
      "Loss is  tensor(0., grad_fn=<MeanBackward0>)\n",
      "Loss is  tensor(0., grad_fn=<MeanBackward0>)\n",
      "Loss is  tensor(0., grad_fn=<MeanBackward0>)\n",
      "Loss is  tensor(0., grad_fn=<MeanBackward0>)\n",
      "Loss is  tensor(0., grad_fn=<MeanBackward0>)\n",
      "Loss is  tensor(0., grad_fn=<MeanBackward0>)\n",
      "Loss is  tensor(0., grad_fn=<MeanBackward0>)\n",
      "Epoch: 50, loss: 0.0, test_loss: 0.0\n",
      "Loss is  tensor(0., grad_fn=<MeanBackward0>)\n",
      "Loss is  tensor(0., grad_fn=<MeanBackward0>)\n",
      "Loss is  tensor(0., grad_fn=<MeanBackward0>)\n",
      "Loss is  tensor(0., grad_fn=<MeanBackward0>)\n",
      "Loss is  tensor(0., grad_fn=<MeanBackward0>)\n",
      "Loss is  tensor(0., grad_fn=<MeanBackward0>)\n",
      "Loss is  tensor(0., grad_fn=<MeanBackward0>)\n",
      "Loss is  tensor(0., grad_fn=<MeanBackward0>)\n",
      "Loss is  tensor(0., grad_fn=<MeanBackward0>)\n",
      "Loss is  tensor(0., grad_fn=<MeanBackward0>)\n",
      "Epoch: 60, loss: 0.0, test_loss: 0.0\n",
      "Loss is  tensor(0., grad_fn=<MeanBackward0>)\n",
      "Loss is  tensor(0., grad_fn=<MeanBackward0>)\n",
      "Loss is  tensor(0., grad_fn=<MeanBackward0>)\n",
      "Loss is  tensor(0., grad_fn=<MeanBackward0>)\n",
      "Loss is  tensor(0., grad_fn=<MeanBackward0>)\n",
      "Loss is  tensor(0., grad_fn=<MeanBackward0>)\n",
      "Loss is  tensor(0., grad_fn=<MeanBackward0>)\n",
      "Loss is  tensor(0., grad_fn=<MeanBackward0>)\n",
      "Loss is  tensor(0., grad_fn=<MeanBackward0>)\n",
      "Loss is  tensor(0., grad_fn=<MeanBackward0>)\n",
      "Epoch: 70, loss: 0.0, test_loss: 0.0\n",
      "Loss is  tensor(0., grad_fn=<MeanBackward0>)\n",
      "Loss is  tensor(0., grad_fn=<MeanBackward0>)\n",
      "Loss is  tensor(0., grad_fn=<MeanBackward0>)\n",
      "Loss is  tensor(0., grad_fn=<MeanBackward0>)\n",
      "Loss is  tensor(0., grad_fn=<MeanBackward0>)\n",
      "Loss is  tensor(0., grad_fn=<MeanBackward0>)\n",
      "Loss is  tensor(0., grad_fn=<MeanBackward0>)\n",
      "Loss is  tensor(0., grad_fn=<MeanBackward0>)\n",
      "Loss is  tensor(0., grad_fn=<MeanBackward0>)\n",
      "Loss is  tensor(0., grad_fn=<MeanBackward0>)\n",
      "Epoch: 80, loss: 0.0, test_loss: 0.0\n",
      "Loss is  tensor(0., grad_fn=<MeanBackward0>)\n",
      "Loss is  tensor(0., grad_fn=<MeanBackward0>)\n",
      "Loss is  tensor(0., grad_fn=<MeanBackward0>)\n",
      "Loss is  tensor(0., grad_fn=<MeanBackward0>)\n",
      "Loss is  tensor(0., grad_fn=<MeanBackward0>)\n",
      "Loss is  tensor(0., grad_fn=<MeanBackward0>)\n",
      "Loss is  tensor(0., grad_fn=<MeanBackward0>)\n",
      "Loss is  tensor(0., grad_fn=<MeanBackward0>)\n",
      "Loss is  tensor(0., grad_fn=<MeanBackward0>)\n",
      "Loss is  tensor(0., grad_fn=<MeanBackward0>)\n",
      "Epoch: 90, loss: 0.0, test_loss: 0.0\n",
      "Loss is  tensor(0., grad_fn=<MeanBackward0>)\n",
      "Loss is  tensor(0., grad_fn=<MeanBackward0>)\n",
      "Loss is  tensor(0., grad_fn=<MeanBackward0>)\n",
      "Loss is  tensor(0., grad_fn=<MeanBackward0>)\n",
      "Loss is  tensor(0., grad_fn=<MeanBackward0>)\n",
      "Loss is  tensor(0., grad_fn=<MeanBackward0>)\n",
      "Loss is  tensor(0., grad_fn=<MeanBackward0>)\n",
      "Loss is  tensor(0., grad_fn=<MeanBackward0>)\n",
      "Loss is  tensor(0., grad_fn=<MeanBackward0>)\n"
     ]
    }
   ],
   "source": [
    "#epochs\n",
    "epochs = 100 #epoch is one loop through the data\n",
    "epoch_count = []\n",
    "loss_track = []\n",
    "test_loss_track = []\n",
    "for epoch in range(epochs):\n",
    "    model0.train() #train mode requires all parameters that require gradients to require gradients\n",
    "    # forward pass\n",
    "    y_pred = model0(X_train)\n",
    "    #Calculate the loss for the predictions\n",
    "    loss = loss_fn(y_pred,y_train)\n",
    "    print(\"Loss is \",loss)\n",
    "    #set optimizer zero_grad\n",
    "    optimizer.zero_grad()\n",
    "    #perform back propagation on the loss\n",
    "    loss.backward()\n",
    "    #take the gradient step\n",
    "    optimizer.step() #by default, how the optimizer changes will accumulate through the loop so we have to zero them above in step 3\n",
    "    model0.eval() #turns off different settings for evaluation\n",
    "    #in training, you do model0.train(), in evaluation call model0.eval()\n",
    "    with torch.inference_mode(): #turns off gradient tracking, does the same as torch.no_grad() but faster\n",
    "        # do the forward pass, \n",
    "        test_preds = model0(X_test)\n",
    "        loss_test = loss_fn(test_preds,y_test)\n",
    "    if epoch%10==0:\n",
    "        epoch_count.append(epoch)\n",
    "        loss_track.append(loss.detach().numpy())\n",
    "        test_loss_track.append(loss_test.detach().numpy())\n",
    "        print(f\"Epoch: {epoch}, loss: {loss}, test_loss: {loss_test}\") "
   ]
  },
  {
   "cell_type": "code",
   "execution_count": 17,
   "id": "6a9e3148",
   "metadata": {},
   "outputs": [
    {
     "data": {
      "text/plain": [
       "<matplotlib.legend.Legend at 0x7f7c548a19a0>"
      ]
     },
     "execution_count": 17,
     "metadata": {},
     "output_type": "execute_result"
    },
    {
     "data": {
      "image/png": "[encoded data removed]",
      "text/plain": [
       "<Figure size 640x480 with 1 Axes>"
      ]
     },
     "metadata": {},
     "output_type": "display_data"
    }
   ],
   "source": [
    "import matplotlib.pyplot as plt\n",
    "plt.plot(epoch_count,loss_track,label=\"Train loss\")\n",
    "plt.plot(epoch_count,test_loss_track,label=\"Test loss\")\n",
    "# plt.title(\"Test loss curve\")\n",
    "plt.title(\"Training and test loss curves\")\n",
    "plt.ylabel(\"loss\")\n",
    "plt.xlabel(\"Epoch\")\n",
    "plt.legend()"
   ]
  },
  {
   "cell_type": "code",
   "execution_count": 129,
   "id": "d6460009",
   "metadata": {},
   "outputs": [
    {
     "data": {
      "text/plain": [
       "Text(0.5, 1.0, 'Test loss curve')"
      ]
     },
     "execution_count": 129,
     "metadata": {},
     "output_type": "execute_result"
    },
    {
     "data": {
      "image/png": "[encoded data removed]",
      "text/plain": [
       "<Figure size 640x480 with 1 Axes>"
      ]
     },
     "metadata": {},
     "output_type": "display_data"
    }
   ],
   "source": []
  },
  {
   "cell_type": "code",
   "execution_count": 49,
   "id": "b2c69865",
   "metadata": {},
   "outputs": [
    {
     "data": {
      "text/plain": [
       "OrderedDict([('weights', tensor([0.6573])), ('bias', tensor([0.3128]))])"
      ]
     },
     "execution_count": 49,
     "metadata": {},
     "output_type": "execute_result"
    }
   ],
   "source": [
    "model0.state_dict()"
   ]
  },
  {
   "cell_type": "code",
   "execution_count": 50,
   "id": "292effb5",
   "metadata": {},
   "outputs": [
    {
     "data": {
      "text/plain": [
       "[Parameter containing:\n",
       " tensor([0.6573], requires_grad=True),\n",
       " Parameter containing:\n",
       " tensor([0.3128], requires_grad=True)]"
      ]
     },
     "execution_count": 50,
     "metadata": {},
     "output_type": "execute_result"
    }
   ],
   "source": [
    "model0.eval()\n",
    "list(model0.parameters())"
   ]
  },
  {
   "cell_type": "code",
   "execution_count": 51,
   "id": "9cc9bac7",
   "metadata": {},
   "outputs": [
    {
     "name": "stdout",
     "output_type": "stream",
     "text": [
      "[Parameter containing:\n",
      "tensor([0.6573], requires_grad=True), Parameter containing:\n",
      "tensor([0.3128], requires_grad=True)]\n"
     ]
    }
   ],
   "source": [
    "with torch.no_grad():\n",
    "    print(list(model0.parameters()))"
   ]
  },
  {
   "cell_type": "markdown",
   "id": "7117d0cd",
   "metadata": {},
   "source": [
    "### Saving and loading models in pytorch\n",
    "\n",
    "1) torch.save - save a model in python pickle format\n",
    "2) torch.load - load a saved pytorch object\n",
    "3) torch.nn.module.load_state_dict - allows to load a model's saved state dict\n",
    "\n",
    "Pytorch save and load: https://pytorch.org/tutorials/beginner/saving_loading_models.html"
   ]
  },
  {
   "cell_type": "code",
   "execution_count": 52,
   "id": "a2eaf59f",
   "metadata": {},
   "outputs": [
    {
     "name": "stdout",
     "output_type": "stream",
     "text": [
      "models/01_pytorch_workflow_model_0.pth\n"
     ]
    }
   ],
   "source": [
    "from pathlib import Path\n",
    "MODEL_PATH = Path(\"models\")\n",
    "MODEL_PATH.mkdir(parents=True,exist_ok=True)\n",
    "MODEL_NAME = \"01_pytorch_workflow_model_0.pth\"\n",
    "MODEL_SAVE_PATH = MODEL_PATH / MODEL_NAME\n",
    "print(MODEL_SAVE_PATH)"
   ]
  },
  {
   "cell_type": "code",
   "execution_count": 53,
   "id": "0f9d83ba",
   "metadata": {},
   "outputs": [
    {
     "name": "stdout",
     "output_type": "stream",
     "text": [
      "Saving model to: models/01_pytorch_workflow_model_0.pth\n"
     ]
    }
   ],
   "source": [
    "print(f\"Saving model to: {MODEL_SAVE_PATH}\")\n",
    "torch.save(model0.state_dict(),MODEL_SAVE_PATH)"
   ]
  },
  {
   "cell_type": "code",
   "execution_count": 56,
   "id": "8fd7825b",
   "metadata": {},
   "outputs": [
    {
     "data": {
      "text/plain": [
       "LinearRegressionModel()"
      ]
     },
     "execution_count": 56,
     "metadata": {},
     "output_type": "execute_result"
    }
   ],
   "source": [
    "load_model = LinearRegressionModel()\n",
    "load_model.load_state_dict(torch.load(MODEL_SAVE_PATH))\n",
    "load_model.eval()"
   ]
  },
  {
   "cell_type": "code",
   "execution_count": 63,
   "id": "610ea364",
   "metadata": {},
   "outputs": [],
   "source": [
    "with torch.inference_mode():\n",
    "    loaded_model_preds = load_model(X_test)"
   ]
  },
  {
   "cell_type": "code",
   "execution_count": 64,
   "id": "36b025a4",
   "metadata": {},
   "outputs": [],
   "source": [
    "# y_pred ==loaded_model_preds\n",
    "model0.eval()\n",
    "with torch.inference_mode():\n",
    "    y_preds = model0(X_test)"
   ]
  },
  {
   "cell_type": "code",
   "execution_count": 65,
   "id": "59c00b1e",
   "metadata": {},
   "outputs": [
    {
     "data": {
      "text/plain": [
       "tensor([[True],\n",
       "        [True],\n",
       "        [True],\n",
       "        [True],\n",
       "        [True],\n",
       "        [True],\n",
       "        [True],\n",
       "        [True],\n",
       "        [True],\n",
       "        [True],\n",
       "        [True],\n",
       "        [True],\n",
       "        [True],\n",
       "        [True],\n",
       "        [True],\n",
       "        [True],\n",
       "        [True],\n",
       "        [True],\n",
       "        [True]])"
      ]
     },
     "execution_count": 65,
     "metadata": {},
     "output_type": "execute_result"
    }
   ],
   "source": [
    "y_preds==loaded_model_preds"
   ]
  },
  {
   "cell_type": "markdown",
   "id": "30c33089",
   "metadata": {},
   "source": [
    "### Putting it all together"
   ]
  },
  {
   "cell_type": "code",
   "execution_count": 1,
   "id": "0e445207",
   "metadata": {},
   "outputs": [
    {
     "name": "stdout",
     "output_type": "stream",
     "text": [
      "Intel MKL WARNING: Support of Intel(R) Streaming SIMD Extensions 4.2 (Intel(R) SSE4.2) enabled only processors has been deprecated. Intel oneAPI Math Kernel Library 2025.0 will require Intel(R) Advanced Vector Extensions (Intel(R) AVX) instructions.\n",
      "Intel MKL WARNING: Support of Intel(R) Streaming SIMD Extensions 4.2 (Intel(R) SSE4.2) enabled only processors has been deprecated. Intel oneAPI Math Kernel Library 2025.0 will require Intel(R) Advanced Vector Extensions (Intel(R) AVX) instructions.\n"
     ]
    }
   ],
   "source": [
    "import torch\n",
    "from torch import nn\n",
    "import matplotlib.pyplot as plt"
   ]
  },
  {
   "cell_type": "code",
   "execution_count": 2,
   "id": "3c8419e5",
   "metadata": {},
   "outputs": [
    {
     "data": {
      "text/plain": [
       "'2.0.1'"
      ]
     },
     "execution_count": 2,
     "metadata": {},
     "output_type": "execute_result"
    }
   ],
   "source": [
    "torch.__version__"
   ]
  },
  {
   "cell_type": "code",
   "execution_count": 40,
   "id": "467c8b58",
   "metadata": {},
   "outputs": [],
   "source": [
    "torch.backends.mps.is_available()\n",
    "\n",
    "if torch.backends.mps.is_available():\n",
    "    device = torch.device(\"mps\")\n",
    "else:\n",
    "    device=torch.device(\"cpu\")\n"
   ]
  },
  {
   "cell_type": "code",
   "execution_count": 41,
   "id": "8723a59d",
   "metadata": {},
   "outputs": [
    {
     "data": {
      "text/plain": [
       "True"
      ]
     },
     "execution_count": 41,
     "metadata": {},
     "output_type": "execute_result"
    }
   ],
   "source": [
    "torch.backends.mps.is_built()"
   ]
  },
  {
   "cell_type": "markdown",
   "id": "3228f548",
   "metadata": {},
   "source": [
    "### Create data using the linear regression formula"
   ]
  },
  {
   "cell_type": "code",
   "execution_count": 7,
   "id": "14739fe8",
   "metadata": {},
   "outputs": [],
   "source": [
    "import matplotlib.pyplot as plt"
   ]
  },
  {
   "cell_type": "code",
   "execution_count": 6,
   "id": "2b2e7dfe",
   "metadata": {},
   "outputs": [],
   "source": [
    "weight=0.7\n",
    "bias = 0.3"
   ]
  },
  {
   "cell_type": "code",
   "execution_count": 5,
   "id": "0c81a555",
   "metadata": {},
   "outputs": [],
   "source": [
    "start = 0\n",
    "stop = 1\n",
    "step = 0.02\n",
    "X = torch.arange(start,stop,step).unsqueeze(dim=1)"
   ]
  },
  {
   "cell_type": "code",
   "execution_count": 8,
   "id": "43270f95",
   "metadata": {},
   "outputs": [
    {
     "data": {
      "text/plain": [
       "torch.Size([50, 1])"
      ]
     },
     "execution_count": 8,
     "metadata": {},
     "output_type": "execute_result"
    }
   ],
   "source": [
    "X.shape"
   ]
  },
  {
   "cell_type": "code",
   "execution_count": 9,
   "id": "24085b91",
   "metadata": {},
   "outputs": [],
   "source": [
    "y = weight*X + bias"
   ]
  },
  {
   "cell_type": "code",
   "execution_count": 10,
   "id": "c5a252dc",
   "metadata": {},
   "outputs": [
    {
     "data": {
      "text/plain": [
       "tensor([[0.3000],\n",
       "        [0.3140],\n",
       "        [0.3280],\n",
       "        [0.3420],\n",
       "        [0.3560],\n",
       "        [0.3700],\n",
       "        [0.3840],\n",
       "        [0.3980],\n",
       "        [0.4120],\n",
       "        [0.4260],\n",
       "        [0.4400],\n",
       "        [0.4540],\n",
       "        [0.4680],\n",
       "        [0.4820],\n",
       "        [0.4960],\n",
       "        [0.5100],\n",
       "        [0.5240],\n",
       "        [0.5380],\n",
       "        [0.5520],\n",
       "        [0.5660],\n",
       "        [0.5800],\n",
       "        [0.5940],\n",
       "        [0.6080],\n",
       "        [0.6220],\n",
       "        [0.6360],\n",
       "        [0.6500],\n",
       "        [0.6640],\n",
       "        [0.6780],\n",
       "        [0.6920],\n",
       "        [0.7060],\n",
       "        [0.7200],\n",
       "        [0.7340],\n",
       "        [0.7480],\n",
       "        [0.7620],\n",
       "        [0.7760],\n",
       "        [0.7900],\n",
       "        [0.8040],\n",
       "        [0.8180],\n",
       "        [0.8320],\n",
       "        [0.8460],\n",
       "        [0.8600],\n",
       "        [0.8740],\n",
       "        [0.8880],\n",
       "        [0.9020],\n",
       "        [0.9160],\n",
       "        [0.9300],\n",
       "        [0.9440],\n",
       "        [0.9580],\n",
       "        [0.9720],\n",
       "        [0.9860]])"
      ]
     },
     "execution_count": 10,
     "metadata": {},
     "output_type": "execute_result"
    }
   ],
   "source": [
    "y"
   ]
  },
  {
   "cell_type": "code",
   "execution_count": 11,
   "id": "7ab60748",
   "metadata": {},
   "outputs": [],
   "source": [
    "train_split = int(0.8*len(X))"
   ]
  },
  {
   "cell_type": "code",
   "execution_count": 12,
   "id": "43b5cee0",
   "metadata": {},
   "outputs": [],
   "source": [
    "X_train, y_train = X[:train_split],y[:train_split]\n",
    "X_test, y_test = X[train_split:],y[train_split:]"
   ]
  },
  {
   "cell_type": "code",
   "execution_count": 13,
   "id": "17f5c7a4",
   "metadata": {},
   "outputs": [
    {
     "data": {
      "text/plain": [
       "40"
      ]
     },
     "execution_count": 13,
     "metadata": {},
     "output_type": "execute_result"
    }
   ],
   "source": [
    "len(X_train)"
   ]
  },
  {
   "cell_type": "code",
   "execution_count": 37,
   "id": "2d0e821b",
   "metadata": {},
   "outputs": [
    {
     "data": {
      "text/plain": [
       "10"
      ]
     },
     "execution_count": 37,
     "metadata": {},
     "output_type": "execute_result"
    }
   ],
   "source": [
    "len(y_test)"
   ]
  },
  {
   "cell_type": "code",
   "execution_count": 15,
   "id": "57055571",
   "metadata": {},
   "outputs": [],
   "source": [
    "def plot_predictions(train_data = X_train, train_labels = y_train, test_data = X_test, test_labels = y_test,predictions=None):\n",
    "    plt.figure(figsize=(10,8))\n",
    "    plt.scatter(train_data,train_labels,s=4,c=\"b\",label=\"Training data\")\n",
    "    plt.scatter(test_data,test_labels,s=4,c=\"g\",label=\"Testing data\")\n",
    "    if predictions is not None:\n",
    "        plt.scatter(test_data,predictions,s=4,c=\"r\",label=\"Predictions\")\n",
    "    plt.legend(prop={'size':14})\n",
    "    "
   ]
  },
  {
   "cell_type": "code",
   "execution_count": 16,
   "id": "d137ec27",
   "metadata": {},
   "outputs": [
    {
     "data": {
      "image/png": "[encoded data removed]",
      "text/plain": [
       "<Figure size 1000x800 with 1 Axes>"
      ]
     },
     "metadata": {},
     "output_type": "display_data"
    }
   ],
   "source": [
    "plot_predictions(X_train,y_train,X_test,y_test,None)"
   ]
  },
  {
   "cell_type": "markdown",
   "id": "bda7ff4f",
   "metadata": {},
   "source": [
    "### 2) Building a linear model"
   ]
  },
  {
   "cell_type": "code",
   "execution_count": 17,
   "id": "2b08f896",
   "metadata": {},
   "outputs": [],
   "source": [
    "class LinearRegressionModel(torch.nn.Module):\n",
    "    def __init__(self):\n",
    "        super().__init__()\n",
    "        #use nn.linear for creating model parameters / linear layer/ linear transform\n",
    "        self.linear_layer = nn.Linear(in_features=1,out_features=1)\n",
    "    def forward(self,x: torch.Tensor)->torch.Tensor:\n",
    "        return self.linear_layer(X)"
   ]
  },
  {
   "cell_type": "code",
   "execution_count": 18,
   "id": "4b08e4eb",
   "metadata": {},
   "outputs": [],
   "source": [
    "torch.manual_seed(42)\n",
    "model = LinearRegressionModel()"
   ]
  },
  {
   "cell_type": "code",
   "execution_count": 19,
   "id": "41743ce0",
   "metadata": {},
   "outputs": [
    {
     "data": {
      "text/plain": [
       "(LinearRegressionModel(\n",
       "   (linear_layer): Linear(in_features=1, out_features=1, bias=True)\n",
       " ),\n",
       " OrderedDict([('linear_layer.weight', tensor([[0.7645]])),\n",
       "              ('linear_layer.bias', tensor([0.8300]))]))"
      ]
     },
     "execution_count": 19,
     "metadata": {},
     "output_type": "execute_result"
    }
   ],
   "source": [
    "model, model.state_dict()"
   ]
  },
  {
   "cell_type": "code",
   "execution_count": 42,
   "id": "fac8cdc1",
   "metadata": {},
   "outputs": [
    {
     "data": {
      "text/plain": [
       "device(type='cpu')"
      ]
     },
     "execution_count": 42,
     "metadata": {},
     "output_type": "execute_result"
    }
   ],
   "source": [
    "# set the model to use a target device\n",
    "next(model.parameters()).device"
   ]
  },
  {
   "cell_type": "code",
   "execution_count": 43,
   "id": "e310b09c",
   "metadata": {},
   "outputs": [
    {
     "data": {
      "text/plain": [
       "LinearRegressionModel(\n",
       "  (linear_layer): Linear(in_features=1, out_features=1, bias=True)\n",
       ")"
      ]
     },
     "execution_count": 43,
     "metadata": {},
     "output_type": "execute_result"
    }
   ],
   "source": [
    "model.to(device)"
   ]
  },
  {
   "cell_type": "code",
   "execution_count": 44,
   "id": "8ee575bd",
   "metadata": {},
   "outputs": [
    {
     "data": {
      "text/plain": [
       "device(type='mps', index=0)"
      ]
     },
     "execution_count": 44,
     "metadata": {},
     "output_type": "execute_result"
    }
   ],
   "source": [
    "next(model.parameters()).device"
   ]
  },
  {
   "cell_type": "code",
   "execution_count": 39,
   "id": "154a3984",
   "metadata": {},
   "outputs": [
    {
     "data": {
      "text/plain": [
       "OrderedDict([('linear_layer.weight', tensor([[0.7645]])),\n",
       "             ('linear_layer.bias', tensor([0.8300]))])"
      ]
     },
     "execution_count": 39,
     "metadata": {},
     "output_type": "execute_result"
    }
   ],
   "source": [
    "model.state_dict()"
   ]
  },
  {
   "cell_type": "markdown",
   "id": "432bdf76",
   "metadata": {},
   "source": [
    "### Training\n",
    "We need:\n",
    "1) Loss function\n",
    "2) Optimizer\n",
    "3) Training Loop\n",
    "4) Testing loop"
   ]
  },
  {
   "cell_type": "code",
   "execution_count": 24,
   "id": "4a263dd0",
   "metadata": {},
   "outputs": [],
   "source": [
    "loss_fn = nn.L1Loss()\n",
    "optimizer = torch.optim.SGD(params = model.parameters(),lr=0.01)"
   ]
  },
  {
   "cell_type": "code",
   "execution_count": 35,
   "id": "116c81d2",
   "metadata": {},
   "outputs": [],
   "source": [
    "# device=\"cpu\""
   ]
  },
  {
   "cell_type": "code",
   "execution_count": 46,
   "id": "fb696abd",
   "metadata": {},
   "outputs": [
    {
     "name": "stdout",
     "output_type": "stream",
     "text": [
      "mps:0\n",
      "tensor([[0.0000],\n",
      "        [0.0200],\n",
      "        [0.0400],\n",
      "        [0.0600],\n",
      "        [0.0800],\n",
      "        [0.1000],\n",
      "        [0.1200],\n",
      "        [0.1400],\n",
      "        [0.1600],\n",
      "        [0.1800],\n",
      "        [0.2000],\n",
      "        [0.2200],\n",
      "        [0.2400],\n",
      "        [0.2600],\n",
      "        [0.2800],\n",
      "        [0.3000],\n",
      "        [0.3200],\n",
      "        [0.3400],\n",
      "        [0.3600],\n",
      "        [0.3800],\n",
      "        [0.4000],\n",
      "        [0.4200],\n",
      "        [0.4400],\n",
      "        [0.4600],\n",
      "        [0.4800],\n",
      "        [0.5000],\n",
      "        [0.5200],\n",
      "        [0.5400],\n",
      "        [0.5600],\n",
      "        [0.5800],\n",
      "        [0.6000],\n",
      "        [0.6200],\n",
      "        [0.6400],\n",
      "        [0.6600],\n",
      "        [0.6800],\n",
      "        [0.7000],\n",
      "        [0.7200],\n",
      "        [0.7400],\n",
      "        [0.7600],\n",
      "        [0.7800]], device='mps:0')\n"
     ]
    },
    {
     "ename": "RuntimeError",
     "evalue": "Placeholder storage has not been allocated on MPS device!",
     "output_type": "error",
     "traceback": [
      "\u001b[0;31m---------------------------------------------------------------------------\u001b[0m",
      "\u001b[0;31mRuntimeError\u001b[0m                              Traceback (most recent call last)",
      "Cell \u001b[0;32mIn[46], line 15\u001b[0m\n\u001b[1;32m     13\u001b[0m model \u001b[38;5;241m=\u001b[39m model\u001b[38;5;241m.\u001b[39mto(device)\n\u001b[1;32m     14\u001b[0m \u001b[38;5;28mprint\u001b[39m(X_train)\n\u001b[0;32m---> 15\u001b[0m y_pred \u001b[38;5;241m=\u001b[39m \u001b[43mmodel\u001b[49m\u001b[43m(\u001b[49m\u001b[43mX_train\u001b[49m\u001b[43m)\u001b[49m\n\u001b[1;32m     16\u001b[0m \u001b[38;5;66;03m#calculate the loss calculate loss bw predicted and actual values\u001b[39;00m\n\u001b[1;32m     17\u001b[0m loss \u001b[38;5;241m=\u001b[39m loss_fn(y_train,y_pred)\n",
      "File \u001b[0;32m~/opt/anaconda3/envs/torch-practice/lib/python3.8/site-packages/torch/nn/modules/module.py:1501\u001b[0m, in \u001b[0;36mModule._call_impl\u001b[0;34m(self, *args, **kwargs)\u001b[0m\n\u001b[1;32m   1496\u001b[0m \u001b[38;5;66;03m# If we don't have any hooks, we want to skip the rest of the logic in\u001b[39;00m\n\u001b[1;32m   1497\u001b[0m \u001b[38;5;66;03m# this function, and just call forward.\u001b[39;00m\n\u001b[1;32m   1498\u001b[0m \u001b[38;5;28;01mif\u001b[39;00m \u001b[38;5;129;01mnot\u001b[39;00m (\u001b[38;5;28mself\u001b[39m\u001b[38;5;241m.\u001b[39m_backward_hooks \u001b[38;5;129;01mor\u001b[39;00m \u001b[38;5;28mself\u001b[39m\u001b[38;5;241m.\u001b[39m_backward_pre_hooks \u001b[38;5;129;01mor\u001b[39;00m \u001b[38;5;28mself\u001b[39m\u001b[38;5;241m.\u001b[39m_forward_hooks \u001b[38;5;129;01mor\u001b[39;00m \u001b[38;5;28mself\u001b[39m\u001b[38;5;241m.\u001b[39m_forward_pre_hooks\n\u001b[1;32m   1499\u001b[0m         \u001b[38;5;129;01mor\u001b[39;00m _global_backward_pre_hooks \u001b[38;5;129;01mor\u001b[39;00m _global_backward_hooks\n\u001b[1;32m   1500\u001b[0m         \u001b[38;5;129;01mor\u001b[39;00m _global_forward_hooks \u001b[38;5;129;01mor\u001b[39;00m _global_forward_pre_hooks):\n\u001b[0;32m-> 1501\u001b[0m     \u001b[38;5;28;01mreturn\u001b[39;00m \u001b[43mforward_call\u001b[49m\u001b[43m(\u001b[49m\u001b[38;5;241;43m*\u001b[39;49m\u001b[43margs\u001b[49m\u001b[43m,\u001b[49m\u001b[43m \u001b[49m\u001b[38;5;241;43m*\u001b[39;49m\u001b[38;5;241;43m*\u001b[39;49m\u001b[43mkwargs\u001b[49m\u001b[43m)\u001b[49m\n\u001b[1;32m   1502\u001b[0m \u001b[38;5;66;03m# Do not call functions when jit is used\u001b[39;00m\n\u001b[1;32m   1503\u001b[0m full_backward_hooks, non_full_backward_hooks \u001b[38;5;241m=\u001b[39m [], []\n",
      "Cell \u001b[0;32mIn[17], line 7\u001b[0m, in \u001b[0;36mLinearRegressionModel.forward\u001b[0;34m(self, x)\u001b[0m\n\u001b[1;32m      6\u001b[0m \u001b[38;5;28;01mdef\u001b[39;00m \u001b[38;5;21mforward\u001b[39m(\u001b[38;5;28mself\u001b[39m,x: torch\u001b[38;5;241m.\u001b[39mTensor)\u001b[38;5;241m-\u001b[39m\u001b[38;5;241m>\u001b[39mtorch\u001b[38;5;241m.\u001b[39mTensor:\n\u001b[0;32m----> 7\u001b[0m     \u001b[38;5;28;01mreturn\u001b[39;00m \u001b[38;5;28;43mself\u001b[39;49m\u001b[38;5;241;43m.\u001b[39;49m\u001b[43mlinear_layer\u001b[49m\u001b[43m(\u001b[49m\u001b[43mX\u001b[49m\u001b[43m)\u001b[49m\n",
      "File \u001b[0;32m~/opt/anaconda3/envs/torch-practice/lib/python3.8/site-packages/torch/nn/modules/module.py:1501\u001b[0m, in \u001b[0;36mModule._call_impl\u001b[0;34m(self, *args, **kwargs)\u001b[0m\n\u001b[1;32m   1496\u001b[0m \u001b[38;5;66;03m# If we don't have any hooks, we want to skip the rest of the logic in\u001b[39;00m\n\u001b[1;32m   1497\u001b[0m \u001b[38;5;66;03m# this function, and just call forward.\u001b[39;00m\n\u001b[1;32m   1498\u001b[0m \u001b[38;5;28;01mif\u001b[39;00m \u001b[38;5;129;01mnot\u001b[39;00m (\u001b[38;5;28mself\u001b[39m\u001b[38;5;241m.\u001b[39m_backward_hooks \u001b[38;5;129;01mor\u001b[39;00m \u001b[38;5;28mself\u001b[39m\u001b[38;5;241m.\u001b[39m_backward_pre_hooks \u001b[38;5;129;01mor\u001b[39;00m \u001b[38;5;28mself\u001b[39m\u001b[38;5;241m.\u001b[39m_forward_hooks \u001b[38;5;129;01mor\u001b[39;00m \u001b[38;5;28mself\u001b[39m\u001b[38;5;241m.\u001b[39m_forward_pre_hooks\n\u001b[1;32m   1499\u001b[0m         \u001b[38;5;129;01mor\u001b[39;00m _global_backward_pre_hooks \u001b[38;5;129;01mor\u001b[39;00m _global_backward_hooks\n\u001b[1;32m   1500\u001b[0m         \u001b[38;5;129;01mor\u001b[39;00m _global_forward_hooks \u001b[38;5;129;01mor\u001b[39;00m _global_forward_pre_hooks):\n\u001b[0;32m-> 1501\u001b[0m     \u001b[38;5;28;01mreturn\u001b[39;00m \u001b[43mforward_call\u001b[49m\u001b[43m(\u001b[49m\u001b[38;5;241;43m*\u001b[39;49m\u001b[43margs\u001b[49m\u001b[43m,\u001b[49m\u001b[43m \u001b[49m\u001b[38;5;241;43m*\u001b[39;49m\u001b[38;5;241;43m*\u001b[39;49m\u001b[43mkwargs\u001b[49m\u001b[43m)\u001b[49m\n\u001b[1;32m   1502\u001b[0m \u001b[38;5;66;03m# Do not call functions when jit is used\u001b[39;00m\n\u001b[1;32m   1503\u001b[0m full_backward_hooks, non_full_backward_hooks \u001b[38;5;241m=\u001b[39m [], []\n",
      "File \u001b[0;32m~/opt/anaconda3/envs/torch-practice/lib/python3.8/site-packages/torch/nn/modules/linear.py:114\u001b[0m, in \u001b[0;36mLinear.forward\u001b[0;34m(self, input)\u001b[0m\n\u001b[1;32m    113\u001b[0m \u001b[38;5;28;01mdef\u001b[39;00m \u001b[38;5;21mforward\u001b[39m(\u001b[38;5;28mself\u001b[39m, \u001b[38;5;28minput\u001b[39m: Tensor) \u001b[38;5;241m-\u001b[39m\u001b[38;5;241m>\u001b[39m Tensor:\n\u001b[0;32m--> 114\u001b[0m     \u001b[38;5;28;01mreturn\u001b[39;00m \u001b[43mF\u001b[49m\u001b[38;5;241;43m.\u001b[39;49m\u001b[43mlinear\u001b[49m\u001b[43m(\u001b[49m\u001b[38;5;28;43minput\u001b[39;49m\u001b[43m,\u001b[49m\u001b[43m \u001b[49m\u001b[38;5;28;43mself\u001b[39;49m\u001b[38;5;241;43m.\u001b[39;49m\u001b[43mweight\u001b[49m\u001b[43m,\u001b[49m\u001b[43m \u001b[49m\u001b[38;5;28;43mself\u001b[39;49m\u001b[38;5;241;43m.\u001b[39;49m\u001b[43mbias\u001b[49m\u001b[43m)\u001b[49m\n",
      "\u001b[0;31mRuntimeError\u001b[0m: Placeholder storage has not been allocated on MPS device!"
     ]
    }
   ],
   "source": [
    "torch.manual_seed(42)\n",
    "\n",
    "epochs = 1000\n",
    "\n",
    "#put data on the same device\n",
    "X_train, y_train, X_test, y_test = X_train.to(device), y_train.to(device), X_test.to(device), y_test.to(device)\n",
    "\n",
    "for epoch in range(epochs):\n",
    "    model.train()\n",
    "    print(next(model.parameters()).device)\n",
    "    # forward pass - do a forward pass to get the predictions\n",
    "    X_train = X_train.to(device)\n",
    "    model = model.to(device)\n",
    "    print(X_train)\n",
    "    y_pred = model(X_train)\n",
    "    #calculate the loss calculate loss bw predicted and actual values\n",
    "    loss = loss_fn(y_train,y_pred)\n",
    "    #optimizer zero grad - make the gradient zero\n",
    "    optimizer.zero_grad()\n",
    "    #perform backpropagation - backpropagate the loss\n",
    "    loss.backward()\n",
    "    #optimize the parameters using the optimizer declared above\n",
    "    optimizer.step()\n",
    "    #testing\n",
    "    model.eval()\n",
    "    with torch.inference_mode():\n",
    "        test_pred = model(X_test).to(device)\n",
    "        test_loss = loss_fn(test_pred,y_test)\n",
    "    #print what's happening\n",
    "    if epoch%10==0:\n",
    "        print(f'Epoch is {epoch}')\n",
    "        print(f'Test loss is {test_loss}')\n",
    "        print(f'Train loss is {train_loss}')\n"
   ]
  },
  {
   "cell_type": "code",
   "execution_count": 42,
   "id": "f0e69e42",
   "metadata": {},
   "outputs": [
    {
     "data": {
      "text/plain": [
       "tensor([0.0000, 0.0200, 0.0400, 0.0600, 0.0800, 0.1000, 0.1200, 0.1400, 0.1600,\n",
       "        0.1800, 0.2000, 0.2200, 0.2400, 0.2600, 0.2800, 0.3000, 0.3200, 0.3400,\n",
       "        0.3600, 0.3800, 0.4000, 0.4200, 0.4400, 0.4600, 0.4800, 0.5000, 0.5200,\n",
       "        0.5400, 0.5600, 0.5800, 0.6000, 0.6200, 0.6400, 0.6600, 0.6800, 0.7000,\n",
       "        0.7200, 0.7400, 0.7600, 0.7800], device='mps:0')"
      ]
     },
     "execution_count": 42,
     "metadata": {},
     "output_type": "execute_result"
    }
   ],
   "source": [
    "X_train"
   ]
  },
  {
   "cell_type": "code",
   "execution_count": 45,
   "id": "bed309b1",
   "metadata": {},
   "outputs": [
    {
     "data": {
      "text/plain": [
       "device(type='mps')"
      ]
     },
     "execution_count": 45,
     "metadata": {},
     "output_type": "execute_result"
    }
   ],
   "source": [
    "device"
   ]
  },
  {
   "cell_type": "code",
   "execution_count": 47,
   "id": "68f294fb",
   "metadata": {},
   "outputs": [
    {
     "data": {
      "text/plain": [
       "False"
      ]
     },
     "execution_count": 47,
     "metadata": {},
     "output_type": "execute_result"
    }
   ],
   "source": [
    "torch.cuda.is_available()"
   ]
  },
  {
   "cell_type": "code",
   "execution_count": null,
   "id": "eb8c4d56",
   "metadata": {},
   "outputs": [],
   "source": []
  }
 ],
 "metadata": {
  "kernelspec": {
   "display_name": "Python 3 (ipykernel)",
   "language": "python",
   "name": "python3"
  },
  "language_info": {
   "codemirror_mode": {
    "name": "ipython",
    "version": 3
   },
   "file_extension": ".py",
   "mimetype": "text/x-python",
   "name": "python",
   "nbconvert_exporter": "python",
   "pygments_lexer": "ipython3",
   "version": "3.8.16"
  }
 },
 "nbformat": 4,
 "nbformat_minor": 5
}
